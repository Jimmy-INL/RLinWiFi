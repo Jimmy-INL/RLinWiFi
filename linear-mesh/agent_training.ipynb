{
 "cells": [
  {
   "cell_type": "code",
   "execution_count": 1,
   "metadata": {},
   "outputs": [],
   "source": [
    "from ns3gym import ns3env\n",
    "from comet_ml import Experiment, Optimizer\n",
    "import tqdm\n",
    "import subprocess\n",
    "from collections import deque\n",
    "import numpy as np\n",
    "\n",
    "from agents.ddpg.agent import Agent, Config\n",
    "# from agents.dqn.agent import Agent, Config\n",
    "# from agents.dqn.model import QNetworkTf\n",
    "from agents.teacher import Teacher, EnvWrapper"
   ]
  },
  {
   "cell_type": "markdown",
   "metadata": {},
   "source": [
    "### Basic constants and setting up environment"
   ]
  },
  {
   "cell_type": "code",
   "execution_count": 2,
   "metadata": {},
   "outputs": [
    {
     "name": "stdout",
     "output_type": "stream",
     "text": [
      "Steps per episode: 1000\n"
     ]
    }
   ],
   "source": [
    "scenario = \"convergence\"\n",
    "\n",
    "simTime = 10 # seconds\n",
    "stepTime = 0.01  # seconds\n",
    "history_length = 10\n",
    "\n",
    "\n",
    "EPISODE_COUNT = 20\n",
    "steps_per_ep = int(simTime/stepTime)\n",
    "\n",
    "sim_args = {\n",
    "    \"simTime\": simTime,\n",
    "    \"envStepTime\": stepTime,\n",
    "    \"historyLength\": 10,\n",
    "    \"agentType\": Agent.TYPE,\n",
    "    \"nonZeroStart\": True,\n",
    "    \"scenario\": \"convergence\",\n",
    "    \"nWifi\": 7\n",
    "}\n",
    "print(\"Steps per episode:\", steps_per_ep)\n",
    "\n",
    "threads_no = 1\n",
    "env = EnvWrapper(threads_no, **sim_args)"
   ]
  },
  {
   "cell_type": "code",
   "execution_count": 3,
   "metadata": {},
   "outputs": [],
   "source": [
    "# config = Config(buffer_size=2e3, batch_size=64, gamma=0.99, tau=1e-3, lr=5e-4)\n",
    "config = Config(buffer_size=1.5e4*threads_no, batch_size=512, gamma=0.99, tau=1e-3, lr_actor=6e-5, lr_critic=1e-3)"
   ]
  },
  {
   "cell_type": "code",
   "execution_count": 4,
   "metadata": {},
   "outputs": [
    {
     "name": "stdout",
     "output_type": "stream",
     "text": [
      "Observation space shape: (1, 'Box(10,)')\n",
      "Action space shape: (1, 'Box(1,)')\n"
     ]
    }
   ],
   "source": [
    "env.reset()\n",
    "ob_space = env.observation_space\n",
    "ac_space = env.action_space\n",
    "\n",
    "print(\"Observation space shape:\", ob_space)\n",
    "print(\"Action space shape:\", ac_space)\n",
    "\n",
    "assert ob_space is not None"
   ]
  },
  {
   "cell_type": "markdown",
   "metadata": {},
   "source": [
    "### Creating and training agent"
   ]
  },
  {
   "cell_type": "code",
   "execution_count": 5,
   "metadata": {},
   "outputs": [],
   "source": [
    "# import tensorflow as tf\n",
    "\n",
    "# class Network(QNetworkTf):\n",
    "#     def _inference(self):\n",
    "#         with tf.variable_scope(\"inference_\"+self.name):\n",
    "#             layer = tf.layers.dense(self.input, 128, activation=tf.nn.relu)\n",
    "# #             layer = tf.layers.dense(layer, 128, activation=tf.nn.relu)\n",
    "# #             layer = tf.layers.batch_normalization(layer)\n",
    "#             layer = tf.layers.dense(layer, 64, activation=tf.nn.relu)\n",
    "#             layer = tf.layers.dense(layer, 32, activation=tf.nn.relu)\n",
    "# #             layer = tf.layers.dense(layer, 256, activation=tf.nn.relu)\n",
    "# #             layer = tf.layers.dense(layer, 64, activation=tf.nn.relu)\n",
    "#             layer = tf.layers.dense(layer, self.action_size)\n",
    "#         return layer"
   ]
  },
  {
   "cell_type": "code",
   "execution_count": null,
   "metadata": {},
   "outputs": [
    {
     "name": "stdout",
     "output_type": "stream",
     "text": [
      "Params:\n",
      "lr_actor: 6.000000000000003E-5\n",
      "lr_critic: 8.000000000000004E-4\n"
     ]
    },
    {
     "name": "stderr",
     "output_type": "stream",
     "text": [
      "COMET INFO: Experiment is live on comet.ml https://www.comet.ml/wwydmanski/rl-in-wifi/3ea046095dd3466c9faf08ee652d5d23\n",
      "\n",
      " 52%|██████████████████████████████▉                             | 515/1000 [01:07<01:03,  7.61it/s, mb_sent=143.10 Mb]"
     ]
    },
    {
     "name": "stdout",
     "output_type": "stream",
     "text": [
      "------- STARTED TRAINING -------\n"
     ]
    },
    {
     "name": "stderr",
     "output_type": "stream",
     "text": [
      "100%|███████████████████████████████████████████████████████████| 1000/1000 [02:09<00:00,  7.73it/s, mb_sent=288.29 Mb]\n"
     ]
    },
    {
     "name": "stdout",
     "output_type": "stream",
     "text": [
      "Sent 288.29 Mb/s.\tMean speed: 28.83 Mb/s\tEpisode 1/20 finished\n",
      "\n"
     ]
    },
    {
     "name": "stderr",
     "output_type": "stream",
     "text": [
      " 50%|██████████████████████████████                              | 500/1000 [00:50<00:50,  9.93it/s, mb_sent=173.81 Mb]"
     ]
    },
    {
     "name": "stdout",
     "output_type": "stream",
     "text": [
      "------- MEMORY BUFFER FILLED -------\n"
     ]
    },
    {
     "name": "stderr",
     "output_type": "stream",
     "text": [
      "100%|███████████████████████████████████████████████████████████| 1000/1000 [01:44<00:00,  9.55it/s, mb_sent=362.19 Mb]\n"
     ]
    },
    {
     "name": "stdout",
     "output_type": "stream",
     "text": [
      "Sent 362.19 Mb/s.\tMean speed: 36.22 Mb/s\tEpisode 2/20 finished\n",
      "\n"
     ]
    },
    {
     "name": "stderr",
     "output_type": "stream",
     "text": [
      "100%|███████████████████████████████████████████████████████████| 1000/1000 [01:48<00:00,  9.18it/s, mb_sent=373.96 Mb]\n"
     ]
    },
    {
     "name": "stdout",
     "output_type": "stream",
     "text": [
      "Sent 373.96 Mb/s.\tMean speed: 37.40 Mb/s\tEpisode 3/20 finished\n",
      "\n"
     ]
    },
    {
     "name": "stderr",
     "output_type": "stream",
     "text": [
      "100%|███████████████████████████████████████████████████████████| 1000/1000 [01:49<00:00,  9.16it/s, mb_sent=365.78 Mb]\n"
     ]
    },
    {
     "name": "stdout",
     "output_type": "stream",
     "text": [
      "Sent 365.78 Mb/s.\tMean speed: 36.58 Mb/s\tEpisode 4/20 finished\n",
      "\n"
     ]
    },
    {
     "name": "stderr",
     "output_type": "stream",
     "text": [
      "100%|███████████████████████████████████████████████████████████| 1000/1000 [01:47<00:00,  9.30it/s, mb_sent=366.04 Mb]\n"
     ]
    },
    {
     "name": "stdout",
     "output_type": "stream",
     "text": [
      "Sent 366.04 Mb/s.\tMean speed: 36.60 Mb/s\tEpisode 5/20 finished\n",
      "\n"
     ]
    },
    {
     "name": "stderr",
     "output_type": "stream",
     "text": [
      "100%|███████████████████████████████████████████████████████████| 1000/1000 [01:47<00:00,  9.28it/s, mb_sent=357.15 Mb]\n"
     ]
    },
    {
     "name": "stdout",
     "output_type": "stream",
     "text": [
      "Sent 357.15 Mb/s.\tMean speed: 35.72 Mb/s\tEpisode 6/20 finished\n",
      "\n"
     ]
    },
    {
     "name": "stderr",
     "output_type": "stream",
     "text": [
      "100%|███████████████████████████████████████████████████████████| 1000/1000 [01:51<00:00,  8.95it/s, mb_sent=367.54 Mb]\n"
     ]
    },
    {
     "name": "stdout",
     "output_type": "stream",
     "text": [
      "Sent 367.54 Mb/s.\tMean speed: 36.75 Mb/s\tEpisode 7/20 finished\n",
      "\n"
     ]
    },
    {
     "name": "stderr",
     "output_type": "stream",
     "text": [
      "100%|███████████████████████████████████████████████████████████| 1000/1000 [01:56<00:00,  8.58it/s, mb_sent=367.69 Mb]\n"
     ]
    },
    {
     "name": "stdout",
     "output_type": "stream",
     "text": [
      "Sent 367.69 Mb/s.\tMean speed: 36.77 Mb/s\tEpisode 8/20 finished\n",
      "\n"
     ]
    },
    {
     "name": "stderr",
     "output_type": "stream",
     "text": [
      "100%|███████████████████████████████████████████████████████████| 1000/1000 [02:13<00:00,  7.51it/s, mb_sent=358.89 Mb]\n"
     ]
    },
    {
     "name": "stdout",
     "output_type": "stream",
     "text": [
      "Sent 358.89 Mb/s.\tMean speed: 35.89 Mb/s\tEpisode 9/20 finished\n",
      "\n"
     ]
    },
    {
     "name": "stderr",
     "output_type": "stream",
     "text": [
      "100%|███████████████████████████████████████████████████████████| 1000/1000 [01:51<00:00,  8.97it/s, mb_sent=356.45 Mb]\n"
     ]
    },
    {
     "name": "stdout",
     "output_type": "stream",
     "text": [
      "Sent 356.45 Mb/s.\tMean speed: 35.65 Mb/s\tEpisode 10/20 finished\n",
      "\n"
     ]
    },
    {
     "name": "stderr",
     "output_type": "stream",
     "text": [
      "100%|███████████████████████████████████████████████████████████| 1000/1000 [01:49<00:00,  9.16it/s, mb_sent=354.60 Mb]\n"
     ]
    },
    {
     "name": "stdout",
     "output_type": "stream",
     "text": [
      "Sent 354.60 Mb/s.\tMean speed: 35.46 Mb/s\tEpisode 11/20 finished\n",
      "\n"
     ]
    },
    {
     "name": "stderr",
     "output_type": "stream",
     "text": [
      "100%|███████████████████████████████████████████████████████████| 1000/1000 [01:50<00:00,  9.05it/s, mb_sent=351.48 Mb]\n"
     ]
    },
    {
     "name": "stdout",
     "output_type": "stream",
     "text": [
      "Sent 351.48 Mb/s.\tMean speed: 35.15 Mb/s\tEpisode 12/20 finished\n",
      "\n"
     ]
    },
    {
     "name": "stderr",
     "output_type": "stream",
     "text": [
      "100%|███████████████████████████████████████████████████████████| 1000/1000 [01:48<00:00,  9.21it/s, mb_sent=354.08 Mb]\n"
     ]
    },
    {
     "name": "stdout",
     "output_type": "stream",
     "text": [
      "Sent 354.08 Mb/s.\tMean speed: 35.41 Mb/s\tEpisode 13/20 finished\n",
      "\n"
     ]
    },
    {
     "name": "stderr",
     "output_type": "stream",
     "text": [
      "100%|███████████████████████████████████████████████████████████| 1000/1000 [01:49<00:00,  9.14it/s, mb_sent=353.24 Mb]\n"
     ]
    },
    {
     "name": "stdout",
     "output_type": "stream",
     "text": [
      "Sent 353.24 Mb/s.\tMean speed: 35.32 Mb/s\tEpisode 14/20 finished\n",
      "\n"
     ]
    },
    {
     "name": "stderr",
     "output_type": "stream",
     "text": [
      "100%|███████████████████████████████████████████████████████████| 1000/1000 [01:47<00:00,  9.31it/s, mb_sent=351.80 Mb]\n"
     ]
    },
    {
     "name": "stdout",
     "output_type": "stream",
     "text": [
      "Sent 351.80 Mb/s.\tMean speed: 35.18 Mb/s\tEpisode 15/20 finished\n",
      "\n"
     ]
    },
    {
     "name": "stderr",
     "output_type": "stream",
     "text": [
      "100%|███████████████████████████████████████████████████████████| 1000/1000 [01:49<00:00,  9.11it/s, mb_sent=356.57 Mb]\n"
     ]
    },
    {
     "name": "stdout",
     "output_type": "stream",
     "text": [
      "Sent 356.57 Mb/s.\tMean speed: 35.66 Mb/s\tEpisode 16/20 finished\n",
      "\n"
     ]
    },
    {
     "name": "stderr",
     "output_type": "stream",
     "text": [
      "100%|███████████████████████████████████████████████████████████| 1000/1000 [01:50<00:00,  9.07it/s, mb_sent=360.08 Mb]\n"
     ]
    },
    {
     "name": "stdout",
     "output_type": "stream",
     "text": [
      "Sent 360.08 Mb/s.\tMean speed: 36.01 Mb/s\tEpisode 17/20 finished\n",
      "\n"
     ]
    },
    {
     "name": "stderr",
     "output_type": "stream",
     "text": [
      "100%|███████████████████████████████████████████████████████████| 1000/1000 [01:51<00:00,  8.94it/s, mb_sent=359.86 Mb]\n"
     ]
    },
    {
     "name": "stdout",
     "output_type": "stream",
     "text": [
      "Sent 359.86 Mb/s.\tMean speed: 35.99 Mb/s\tEpisode 18/20 finished\n",
      "\n"
     ]
    },
    {
     "name": "stderr",
     "output_type": "stream",
     "text": [
      "100%|███████████████████████████████████████████████████████████| 1000/1000 [01:49<00:00,  9.11it/s, mb_sent=338.75 Mb]\n"
     ]
    },
    {
     "name": "stdout",
     "output_type": "stream",
     "text": [
      "Sent 338.75 Mb/s.\tMean speed: 33.87 Mb/s\tEpisode 19/20 finished\n",
      "\n"
     ]
    },
    {
     "name": "stderr",
     "output_type": "stream",
     "text": [
      "100%|███████████████████████████████████████████████████████████| 1000/1000 [01:48<00:00,  9.25it/s, mb_sent=347.47 Mb]\n"
     ]
    },
    {
     "name": "stdout",
     "output_type": "stream",
     "text": [
      "Sent 347.47 Mb/s.\tMean speed: 34.75 Mb/s\tEpisode 20/20 finished\n",
      "\n"
     ]
    },
    {
     "name": "stderr",
     "output_type": "stream",
     "text": [
      "COMET INFO: ----------------------------\n",
      "COMET INFO: Comet.ml Experiment Summary:\n",
      "COMET INFO:   Data:\n",
      "COMET INFO:     url: https://www.comet.ml/wwydmanski/rl-in-wifi/3ea046095dd3466c9faf08ee652d5d23\n",
      "COMET INFO:   Metrics:\n",
      "COMET INFO:                     Chosen CW: 172.0\n",
      "COMET INFO:             Cumulative reward: -36.742919921875\n",
      "COMET INFO:                Megabytes sent: 347.46990400000084\n",
      "COMET INFO:                 Per-ep reward: -36.742919921875\n",
      "COMET INFO:          Round megabytes sent: 0.323914\n",
      "COMET INFO:                  Round reward: -0.068115234375\n",
      "COMET INFO:                         Speed: 34.74699040000009\n",
      "COMET INFO:                    actor_loss: -0.016217971\n",
      "COMET INFO:                   critic_loss: 0.21123725\n",
      "COMET INFO:                          loss: -0.016217971220612526\n",
      "COMET INFO:         sys.gpu.0.free_memory: 8087441408\n",
      "COMET INFO:     sys.gpu.0.gpu_utilization: 2\n",
      "COMET INFO:        sys.gpu.0.total_memory: 11811160064\n",
      "COMET INFO:         sys.gpu.0.used_memory: 3723718656\n",
      "COMET INFO: ----------------------------\n",
      "COMET INFO: Uploading stats to Comet before program termination (may take several seconds)\n"
     ]
    },
    {
     "name": "stdout",
     "output_type": "stream",
     "text": [
      "Training finished.\n",
      "Params:\n",
      "lr_actor: 4.241004299054103E-5\n",
      "lr_critic: 2.9820793765844353E-5\n"
     ]
    },
    {
     "name": "stderr",
     "output_type": "stream",
     "text": [
      "COMET INFO: Experiment is live on comet.ml https://www.comet.ml/wwydmanski/rl-in-wifi/0c576e38fe6d431ea5dcc364a312a4cf\n",
      "\n",
      " 52%|██████████████████████████████▉                             | 516/1000 [00:47<00:44, 10.97it/s, mb_sent=143.10 Mb]"
     ]
    },
    {
     "name": "stdout",
     "output_type": "stream",
     "text": [
      "------- STARTED TRAINING -------\n"
     ]
    },
    {
     "name": "stderr",
     "output_type": "stream",
     "text": [
      "100%|███████████████████████████████████████████████████████████| 1000/1000 [01:37<00:00, 10.24it/s, mb_sent=285.69 Mb]\n"
     ]
    },
    {
     "name": "stdout",
     "output_type": "stream",
     "text": [
      "Sent 285.69 Mb/s.\tMean speed: 28.57 Mb/s\tEpisode 1/20 finished\n",
      "\n"
     ]
    },
    {
     "name": "stderr",
     "output_type": "stream",
     "text": [
      " 50%|██████████████████████████████                              | 500/1000 [00:50<00:50,  9.87it/s, mb_sent=158.91 Mb]"
     ]
    },
    {
     "name": "stdout",
     "output_type": "stream",
     "text": [
      "------- MEMORY BUFFER FILLED -------\n"
     ]
    },
    {
     "name": "stderr",
     "output_type": "stream",
     "text": [
      "100%|███████████████████████████████████████████████████████████| 1000/1000 [01:44<00:00,  9.58it/s, mb_sent=325.79 Mb]\n"
     ]
    },
    {
     "name": "stdout",
     "output_type": "stream",
     "text": [
      "Sent 325.79 Mb/s.\tMean speed: 32.58 Mb/s\tEpisode 2/20 finished\n",
      "\n"
     ]
    },
    {
     "name": "stderr",
     "output_type": "stream",
     "text": [
      "100%|███████████████████████████████████████████████████████████| 1000/1000 [01:47<00:00,  9.35it/s, mb_sent=351.09 Mb]\n"
     ]
    },
    {
     "name": "stdout",
     "output_type": "stream",
     "text": [
      "Sent 351.09 Mb/s.\tMean speed: 35.11 Mb/s\tEpisode 3/20 finished\n",
      "\n"
     ]
    },
    {
     "name": "stderr",
     "output_type": "stream",
     "text": [
      "100%|███████████████████████████████████████████████████████████| 1000/1000 [01:53<00:00,  8.80it/s, mb_sent=371.65 Mb]\n"
     ]
    },
    {
     "name": "stdout",
     "output_type": "stream",
     "text": [
      "Sent 371.65 Mb/s.\tMean speed: 37.17 Mb/s\tEpisode 4/20 finished\n",
      "\n"
     ]
    },
    {
     "name": "stderr",
     "output_type": "stream",
     "text": [
      "100%|███████████████████████████████████████████████████████████| 1000/1000 [01:54<00:00,  8.74it/s, mb_sent=361.83 Mb]\n"
     ]
    },
    {
     "name": "stdout",
     "output_type": "stream",
     "text": [
      "Sent 361.83 Mb/s.\tMean speed: 36.18 Mb/s\tEpisode 5/20 finished\n",
      "\n"
     ]
    },
    {
     "name": "stderr",
     "output_type": "stream",
     "text": [
      "100%|███████████████████████████████████████████████████████████| 1000/1000 [01:53<00:00,  8.81it/s, mb_sent=353.72 Mb]\n"
     ]
    },
    {
     "name": "stdout",
     "output_type": "stream",
     "text": [
      "Sent 353.72 Mb/s.\tMean speed: 35.37 Mb/s\tEpisode 6/20 finished\n",
      "\n"
     ]
    },
    {
     "name": "stderr",
     "output_type": "stream",
     "text": [
      "100%|███████████████████████████████████████████████████████████| 1000/1000 [01:58<00:00,  8.41it/s, mb_sent=345.14 Mb]\n"
     ]
    },
    {
     "name": "stdout",
     "output_type": "stream",
     "text": [
      "Sent 345.14 Mb/s.\tMean speed: 34.51 Mb/s\tEpisode 7/20 finished\n",
      "\n"
     ]
    },
    {
     "name": "stderr",
     "output_type": "stream",
     "text": [
      "100%|███████████████████████████████████████████████████████████| 1000/1000 [02:17<00:00,  7.28it/s, mb_sent=353.01 Mb]\n"
     ]
    },
    {
     "name": "stdout",
     "output_type": "stream",
     "text": [
      "Sent 353.01 Mb/s.\tMean speed: 35.30 Mb/s\tEpisode 8/20 finished\n",
      "\n"
     ]
    },
    {
     "name": "stderr",
     "output_type": "stream",
     "text": [
      "100%|███████████████████████████████████████████████████████████| 1000/1000 [02:26<00:00,  6.81it/s, mb_sent=352.56 Mb]\n"
     ]
    },
    {
     "name": "stdout",
     "output_type": "stream",
     "text": [
      "Sent 352.56 Mb/s.\tMean speed: 35.26 Mb/s\tEpisode 9/20 finished\n",
      "\n"
     ]
    },
    {
     "name": "stderr",
     "output_type": "stream",
     "text": [
      "100%|███████████████████████████████████████████████████████████| 1000/1000 [02:18<00:00,  7.24it/s, mb_sent=352.46 Mb]\n"
     ]
    },
    {
     "name": "stdout",
     "output_type": "stream",
     "text": [
      "Sent 352.46 Mb/s.\tMean speed: 35.25 Mb/s\tEpisode 10/20 finished\n",
      "\n"
     ]
    },
    {
     "name": "stderr",
     "output_type": "stream",
     "text": [
      "100%|███████████████████████████████████████████████████████████| 1000/1000 [02:28<00:00,  6.74it/s, mb_sent=358.55 Mb]\n"
     ]
    },
    {
     "name": "stdout",
     "output_type": "stream",
     "text": [
      "Sent 358.55 Mb/s.\tMean speed: 35.85 Mb/s\tEpisode 11/20 finished\n",
      "\n"
     ]
    },
    {
     "name": "stderr",
     "output_type": "stream",
     "text": [
      "100%|███████████████████████████████████████████████████████████| 1000/1000 [03:02<00:00,  5.49it/s, mb_sent=351.65 Mb]\n"
     ]
    },
    {
     "name": "stdout",
     "output_type": "stream",
     "text": [
      "Sent 351.65 Mb/s.\tMean speed: 35.16 Mb/s\tEpisode 12/20 finished\n",
      "\n"
     ]
    },
    {
     "name": "stderr",
     "output_type": "stream",
     "text": [
      "100%|███████████████████████████████████████████████████████████| 1000/1000 [02:50<00:00,  5.87it/s, mb_sent=345.53 Mb]\n"
     ]
    },
    {
     "name": "stdout",
     "output_type": "stream",
     "text": [
      "Sent 345.53 Mb/s.\tMean speed: 34.55 Mb/s\tEpisode 13/20 finished\n",
      "\n"
     ]
    },
    {
     "name": "stderr",
     "output_type": "stream",
     "text": [
      "100%|███████████████████████████████████████████████████████████| 1000/1000 [02:17<00:00,  7.27it/s, mb_sent=342.97 Mb]\n"
     ]
    },
    {
     "name": "stdout",
     "output_type": "stream",
     "text": [
      "Sent 342.97 Mb/s.\tMean speed: 34.30 Mb/s\tEpisode 14/20 finished\n",
      "\n"
     ]
    },
    {
     "name": "stderr",
     "output_type": "stream",
     "text": [
      "100%|███████████████████████████████████████████████████████████| 1000/1000 [03:04<00:00,  5.42it/s, mb_sent=344.62 Mb]\n"
     ]
    },
    {
     "name": "stdout",
     "output_type": "stream",
     "text": [
      "Sent 344.62 Mb/s.\tMean speed: 34.46 Mb/s\tEpisode 15/20 finished\n",
      "\n"
     ]
    },
    {
     "name": "stderr",
     "output_type": "stream",
     "text": [
      "100%|███████████████████████████████████████████████████████████| 1000/1000 [03:11<00:00,  5.22it/s, mb_sent=356.35 Mb]\n"
     ]
    },
    {
     "name": "stdout",
     "output_type": "stream",
     "text": [
      "Sent 356.35 Mb/s.\tMean speed: 35.63 Mb/s\tEpisode 16/20 finished\n",
      "\n"
     ]
    },
    {
     "name": "stderr",
     "output_type": "stream",
     "text": [
      "100%|███████████████████████████████████████████████████████████| 1000/1000 [02:55<00:00,  5.71it/s, mb_sent=337.28 Mb]\n"
     ]
    },
    {
     "name": "stdout",
     "output_type": "stream",
     "text": [
      "Sent 337.28 Mb/s.\tMean speed: 33.73 Mb/s\tEpisode 17/20 finished\n",
      "\n"
     ]
    },
    {
     "name": "stderr",
     "output_type": "stream",
     "text": [
      "100%|███████████████████████████████████████████████████████████| 1000/1000 [02:42<00:00,  6.15it/s, mb_sent=346.97 Mb]\n"
     ]
    },
    {
     "name": "stdout",
     "output_type": "stream",
     "text": [
      "Sent 346.97 Mb/s.\tMean speed: 34.70 Mb/s\tEpisode 18/20 finished\n",
      "\n"
     ]
    },
    {
     "name": "stderr",
     "output_type": "stream",
     "text": [
      "100%|███████████████████████████████████████████████████████████| 1000/1000 [02:43<00:00,  6.12it/s, mb_sent=363.91 Mb]\n"
     ]
    },
    {
     "name": "stdout",
     "output_type": "stream",
     "text": [
      "Sent 363.91 Mb/s.\tMean speed: 36.39 Mb/s\tEpisode 19/20 finished\n",
      "\n"
     ]
    },
    {
     "name": "stderr",
     "output_type": "stream",
     "text": [
      "100%|███████████████████████████████████████████████████████████| 1000/1000 [02:19<00:00,  7.16it/s, mb_sent=330.34 Mb]\n"
     ]
    },
    {
     "name": "stdout",
     "output_type": "stream",
     "text": [
      "Sent 330.34 Mb/s.\tMean speed: 33.03 Mb/s\tEpisode 20/20 finished\n",
      "\n"
     ]
    },
    {
     "name": "stderr",
     "output_type": "stream",
     "text": [
      "COMET INFO: ----------------------------\n",
      "COMET INFO: Comet.ml Experiment Summary:\n",
      "COMET INFO:   Data:\n",
      "COMET INFO:     url: https://www.comet.ml/wwydmanski/rl-in-wifi/0c576e38fe6d431ea5dcc364a312a4cf\n",
      "COMET INFO:   Metrics:\n",
      "COMET INFO:                     Chosen CW: 170.0\n",
      "COMET INFO:             Cumulative reward: -59.5732421875\n",
      "COMET INFO:                Megabytes sent: 330.3359950000011\n",
      "COMET INFO:                 Per-ep reward: -59.5732421875\n",
      "COMET INFO:          Round megabytes sent: 0.279236\n",
      "COMET INFO:                  Round reward: -0.127685546875\n",
      "COMET INFO:                         Speed: 33.03359950000011\n",
      "COMET INFO:                    actor_loss: 0.07248017\n",
      "COMET INFO:                   critic_loss: 1.0797338\n",
      "COMET INFO:                          loss: 0.07248017191886902\n",
      "COMET INFO:         sys.gpu.0.free_memory: 6244315136\n",
      "COMET INFO:     sys.gpu.0.gpu_utilization: 31\n",
      "COMET INFO:        sys.gpu.0.total_memory: 11811160064\n",
      "COMET INFO:         sys.gpu.0.used_memory: 5566844928\n",
      "COMET INFO: ----------------------------\n",
      "COMET INFO: Uploading stats to Comet before program termination (may take several seconds)\n"
     ]
    },
    {
     "name": "stdout",
     "output_type": "stream",
     "text": [
      "Training finished.\n",
      "Params:\n",
      "lr_actor: 2.1670384959208067E-6\n",
      "lr_critic: 5.54673400510489E-4\n"
     ]
    },
    {
     "name": "stderr",
     "output_type": "stream",
     "text": [
      "COMET INFO: Experiment is live on comet.ml https://www.comet.ml/wwydmanski/rl-in-wifi/7090e2b3b54246489f21ee753a54a003\n",
      "\n",
      " 52%|██████████████████████████████▉                             | 516/1000 [01:09<01:04,  7.47it/s, mb_sent=143.10 Mb]"
     ]
    },
    {
     "name": "stdout",
     "output_type": "stream",
     "text": [
      "------- STARTED TRAINING -------\n"
     ]
    },
    {
     "name": "stderr",
     "output_type": "stream",
     "text": [
      "100%|███████████████████████████████████████████████████████████| 1000/1000 [02:37<00:00,  6.37it/s, mb_sent=283.68 Mb]\n"
     ]
    },
    {
     "name": "stdout",
     "output_type": "stream",
     "text": [
      "Sent 283.68 Mb/s.\tMean speed: 28.37 Mb/s\tEpisode 1/20 finished\n",
      "\n"
     ]
    },
    {
     "name": "stderr",
     "output_type": "stream",
     "text": [
      " 50%|██████████████████████████████                              | 501/1000 [01:26<01:26,  5.76it/s, mb_sent=150.72 Mb]"
     ]
    },
    {
     "name": "stdout",
     "output_type": "stream",
     "text": [
      "------- MEMORY BUFFER FILLED -------\n"
     ]
    },
    {
     "name": "stderr",
     "output_type": "stream",
     "text": [
      "100%|███████████████████████████████████████████████████████████| 1000/1000 [02:57<00:00,  5.63it/s, mb_sent=303.02 Mb]\n"
     ]
    },
    {
     "name": "stdout",
     "output_type": "stream",
     "text": [
      "Sent 303.02 Mb/s.\tMean speed: 30.30 Mb/s\tEpisode 2/20 finished\n",
      "\n"
     ]
    },
    {
     "name": "stderr",
     "output_type": "stream",
     "text": [
      "100%|███████████████████████████████████████████████████████████| 1000/1000 [02:23<00:00,  6.96it/s, mb_sent=308.44 Mb]\n"
     ]
    },
    {
     "name": "stdout",
     "output_type": "stream",
     "text": [
      "Sent 308.44 Mb/s.\tMean speed: 30.84 Mb/s\tEpisode 3/20 finished\n",
      "\n"
     ]
    },
    {
     "name": "stderr",
     "output_type": "stream",
     "text": [
      "100%|███████████████████████████████████████████████████████████| 1000/1000 [02:51<00:00,  5.84it/s, mb_sent=319.17 Mb]\n"
     ]
    },
    {
     "name": "stdout",
     "output_type": "stream",
     "text": [
      "Sent 319.17 Mb/s.\tMean speed: 31.92 Mb/s\tEpisode 4/20 finished\n",
      "\n"
     ]
    },
    {
     "name": "stderr",
     "output_type": "stream",
     "text": [
      "100%|███████████████████████████████████████████████████████████| 1000/1000 [02:58<00:00,  5.62it/s, mb_sent=318.22 Mb]\n"
     ]
    },
    {
     "name": "stdout",
     "output_type": "stream",
     "text": [
      "Sent 318.22 Mb/s.\tMean speed: 31.82 Mb/s\tEpisode 5/20 finished\n",
      "\n"
     ]
    },
    {
     "name": "stderr",
     "output_type": "stream",
     "text": [
      "100%|███████████████████████████████████████████████████████████| 1000/1000 [02:30<00:00,  6.65it/s, mb_sent=325.19 Mb]\n"
     ]
    },
    {
     "name": "stdout",
     "output_type": "stream",
     "text": [
      "Sent 325.19 Mb/s.\tMean speed: 32.52 Mb/s\tEpisode 6/20 finished\n",
      "\n"
     ]
    },
    {
     "name": "stderr",
     "output_type": "stream",
     "text": [
      "100%|███████████████████████████████████████████████████████████| 1000/1000 [02:49<00:00,  5.89it/s, mb_sent=328.12 Mb]\n"
     ]
    },
    {
     "name": "stdout",
     "output_type": "stream",
     "text": [
      "Sent 328.12 Mb/s.\tMean speed: 32.81 Mb/s\tEpisode 7/20 finished\n",
      "\n"
     ]
    },
    {
     "name": "stderr",
     "output_type": "stream",
     "text": [
      "100%|███████████████████████████████████████████████████████████| 1000/1000 [03:13<00:00,  5.17it/s, mb_sent=332.55 Mb]\n"
     ]
    },
    {
     "name": "stdout",
     "output_type": "stream",
     "text": [
      "Sent 332.55 Mb/s.\tMean speed: 33.25 Mb/s\tEpisode 8/20 finished\n",
      "\n"
     ]
    },
    {
     "name": "stderr",
     "output_type": "stream",
     "text": [
      "100%|███████████████████████████████████████████████████████████| 1000/1000 [02:49<00:00,  5.88it/s, mb_sent=331.94 Mb]\n"
     ]
    },
    {
     "name": "stdout",
     "output_type": "stream",
     "text": [
      "Sent 331.94 Mb/s.\tMean speed: 33.19 Mb/s\tEpisode 9/20 finished\n",
      "\n"
     ]
    },
    {
     "name": "stderr",
     "output_type": "stream",
     "text": [
      "100%|███████████████████████████████████████████████████████████| 1000/1000 [02:18<00:00,  7.24it/s, mb_sent=337.35 Mb]\n"
     ]
    },
    {
     "name": "stdout",
     "output_type": "stream",
     "text": [
      "Sent 337.35 Mb/s.\tMean speed: 33.74 Mb/s\tEpisode 10/20 finished\n",
      "\n"
     ]
    },
    {
     "name": "stderr",
     "output_type": "stream",
     "text": [
      "100%|███████████████████████████████████████████████████████████| 1000/1000 [03:01<00:00,  5.50it/s, mb_sent=340.00 Mb]\n"
     ]
    },
    {
     "name": "stdout",
     "output_type": "stream",
     "text": [
      "Sent 340.00 Mb/s.\tMean speed: 34.00 Mb/s\tEpisode 11/20 finished\n",
      "\n"
     ]
    },
    {
     "name": "stderr",
     "output_type": "stream",
     "text": [
      "100%|███████████████████████████████████████████████████████████| 1000/1000 [03:01<00:00,  5.52it/s, mb_sent=338.81 Mb]\n"
     ]
    },
    {
     "name": "stdout",
     "output_type": "stream",
     "text": [
      "Sent 338.81 Mb/s.\tMean speed: 33.88 Mb/s\tEpisode 12/20 finished\n",
      "\n"
     ]
    },
    {
     "name": "stderr",
     "output_type": "stream",
     "text": [
      "100%|███████████████████████████████████████████████████████████| 1000/1000 [02:29<00:00,  6.70it/s, mb_sent=341.94 Mb]\n"
     ]
    },
    {
     "name": "stdout",
     "output_type": "stream",
     "text": [
      "Sent 341.94 Mb/s.\tMean speed: 34.19 Mb/s\tEpisode 13/20 finished\n",
      "\n"
     ]
    },
    {
     "name": "stderr",
     "output_type": "stream",
     "text": [
      "100%|███████████████████████████████████████████████████████████| 1000/1000 [02:13<00:00,  7.47it/s, mb_sent=342.68 Mb]\n"
     ]
    },
    {
     "name": "stdout",
     "output_type": "stream",
     "text": [
      "Sent 342.68 Mb/s.\tMean speed: 34.27 Mb/s\tEpisode 14/20 finished\n",
      "\n"
     ]
    },
    {
     "name": "stderr",
     "output_type": "stream",
     "text": [
      "100%|███████████████████████████████████████████████████████████| 1000/1000 [01:46<00:00,  9.42it/s, mb_sent=344.81 Mb]\n"
     ]
    },
    {
     "name": "stdout",
     "output_type": "stream",
     "text": [
      "Sent 344.81 Mb/s.\tMean speed: 34.48 Mb/s\tEpisode 15/20 finished\n",
      "\n"
     ]
    },
    {
     "name": "stderr",
     "output_type": "stream",
     "text": [
      "100%|███████████████████████████████████████████████████████████| 1000/1000 [01:43<00:00,  9.70it/s, mb_sent=346.34 Mb]\n"
     ]
    },
    {
     "name": "stdout",
     "output_type": "stream",
     "text": [
      "Sent 346.34 Mb/s.\tMean speed: 34.63 Mb/s\tEpisode 16/20 finished\n",
      "\n"
     ]
    },
    {
     "name": "stderr",
     "output_type": "stream",
     "text": [
      "100%|███████████████████████████████████████████████████████████| 1000/1000 [01:43<00:00,  9.62it/s, mb_sent=350.22 Mb]\n"
     ]
    },
    {
     "name": "stdout",
     "output_type": "stream",
     "text": [
      "Sent 350.22 Mb/s.\tMean speed: 35.02 Mb/s\tEpisode 17/20 finished\n",
      "\n"
     ]
    },
    {
     "name": "stderr",
     "output_type": "stream",
     "text": [
      "100%|███████████████████████████████████████████████████████████| 1000/1000 [01:43<00:00,  9.70it/s, mb_sent=349.18 Mb]\n"
     ]
    },
    {
     "name": "stdout",
     "output_type": "stream",
     "text": [
      "Sent 349.18 Mb/s.\tMean speed: 34.92 Mb/s\tEpisode 18/20 finished\n",
      "\n"
     ]
    },
    {
     "name": "stderr",
     "output_type": "stream",
     "text": [
      "100%|███████████████████████████████████████████████████████████| 1000/1000 [02:01<00:00,  8.23it/s, mb_sent=353.51 Mb]\n"
     ]
    },
    {
     "name": "stdout",
     "output_type": "stream",
     "text": [
      "Sent 353.51 Mb/s.\tMean speed: 35.35 Mb/s\tEpisode 19/20 finished\n",
      "\n"
     ]
    },
    {
     "name": "stderr",
     "output_type": "stream",
     "text": [
      "100%|███████████████████████████████████████████████████████████| 1000/1000 [01:45<00:00,  9.52it/s, mb_sent=350.94 Mb]\n"
     ]
    },
    {
     "name": "stdout",
     "output_type": "stream",
     "text": [
      "Sent 350.94 Mb/s.\tMean speed: 35.09 Mb/s\tEpisode 20/20 finished\n",
      "\n"
     ]
    },
    {
     "name": "stderr",
     "output_type": "stream",
     "text": [
      "COMET INFO: ----------------------------\n",
      "COMET INFO: Comet.ml Experiment Summary:\n",
      "COMET INFO:   Data:\n",
      "COMET INFO:     url: https://www.comet.ml/wwydmanski/rl-in-wifi/7090e2b3b54246489f21ee753a54a003\n",
      "COMET INFO:   Metrics:\n",
      "COMET INFO:                     Chosen CW: 127.0\n",
      "COMET INFO:             Cumulative reward: -32.066650390625\n",
      "COMET INFO:                Megabytes sent: 350.9435499999989\n",
      "COMET INFO:                 Per-ep reward: -32.066650390625\n",
      "COMET INFO:          Round megabytes sent: 0.312744\n",
      "COMET INFO:                  Round reward: -0.0830078125\n",
      "COMET INFO:                         Speed: 35.09435499999989\n",
      "COMET INFO:                    actor_loss: 0.052431036\n",
      "COMET INFO:                   critic_loss: 0.15945119\n",
      "COMET INFO:                          loss: 0.05243103578686714\n",
      "COMET INFO:         sys.gpu.0.free_memory: 7582797824\n",
      "COMET INFO:     sys.gpu.0.gpu_utilization: 1\n",
      "COMET INFO:        sys.gpu.0.total_memory: 11811160064\n",
      "COMET INFO:         sys.gpu.0.used_memory: 4228362240\n",
      "COMET INFO: ----------------------------\n",
      "COMET INFO: Uploading stats to Comet before program termination (may take several seconds)\n"
     ]
    },
    {
     "name": "stdout",
     "output_type": "stream",
     "text": [
      "Training finished.\n",
      "Params:\n",
      "lr_actor: 2.0858188664468294E-5\n",
      "lr_critic: 7.541209868377995E-5\n"
     ]
    },
    {
     "name": "stderr",
     "output_type": "stream",
     "text": [
      "COMET INFO: Experiment is live on comet.ml https://www.comet.ml/wwydmanski/rl-in-wifi/991dc5254b024725a0bd9496dd860995\n",
      "\n",
      " 52%|██████████████████████████████▉                             | 516/1000 [00:43<00:40, 11.96it/s, mb_sent=143.10 Mb]"
     ]
    },
    {
     "name": "stdout",
     "output_type": "stream",
     "text": [
      "------- STARTED TRAINING -------\n"
     ]
    },
    {
     "name": "stderr",
     "output_type": "stream",
     "text": [
      "100%|███████████████████████████████████████████████████████████| 1000/1000 [01:31<00:00, 10.96it/s, mb_sent=285.57 Mb]\n"
     ]
    },
    {
     "name": "stdout",
     "output_type": "stream",
     "text": [
      "Sent 285.57 Mb/s.\tMean speed: 28.56 Mb/s\tEpisode 1/20 finished\n",
      "\n"
     ]
    },
    {
     "name": "stderr",
     "output_type": "stream",
     "text": [
      " 50%|██████████████████████████████                              | 500/1000 [00:48<00:48, 10.22it/s, mb_sent=153.89 Mb]"
     ]
    },
    {
     "name": "stdout",
     "output_type": "stream",
     "text": [
      "------- MEMORY BUFFER FILLED -------\n"
     ]
    },
    {
     "name": "stderr",
     "output_type": "stream",
     "text": [
      "100%|███████████████████████████████████████████████████████████| 1000/1000 [01:41<00:00,  9.87it/s, mb_sent=313.68 Mb]\n"
     ]
    },
    {
     "name": "stdout",
     "output_type": "stream",
     "text": [
      "Sent 313.68 Mb/s.\tMean speed: 31.37 Mb/s\tEpisode 2/20 finished\n",
      "\n"
     ]
    },
    {
     "name": "stderr",
     "output_type": "stream",
     "text": [
      "100%|███████████████████████████████████████████████████████████| 1000/1000 [01:45<00:00,  9.51it/s, mb_sent=341.53 Mb]\n"
     ]
    },
    {
     "name": "stdout",
     "output_type": "stream",
     "text": [
      "Sent 341.53 Mb/s.\tMean speed: 34.15 Mb/s\tEpisode 3/20 finished\n",
      "\n"
     ]
    },
    {
     "name": "stderr",
     "output_type": "stream",
     "text": [
      "100%|███████████████████████████████████████████████████████████| 1000/1000 [01:49<00:00,  9.17it/s, mb_sent=371.63 Mb]\n"
     ]
    },
    {
     "name": "stdout",
     "output_type": "stream",
     "text": [
      "Sent 371.63 Mb/s.\tMean speed: 37.16 Mb/s\tEpisode 4/20 finished\n",
      "\n"
     ]
    },
    {
     "name": "stderr",
     "output_type": "stream",
     "text": [
      "100%|███████████████████████████████████████████████████████████| 1000/1000 [01:48<00:00,  9.25it/s, mb_sent=376.09 Mb]\n"
     ]
    },
    {
     "name": "stdout",
     "output_type": "stream",
     "text": [
      "Sent 376.09 Mb/s.\tMean speed: 37.61 Mb/s\tEpisode 5/20 finished\n",
      "\n"
     ]
    },
    {
     "name": "stderr",
     "output_type": "stream",
     "text": [
      "100%|███████████████████████████████████████████████████████████| 1000/1000 [01:56<00:00,  8.60it/s, mb_sent=370.36 Mb]\n"
     ]
    },
    {
     "name": "stdout",
     "output_type": "stream",
     "text": [
      "Sent 370.36 Mb/s.\tMean speed: 37.04 Mb/s\tEpisode 6/20 finished\n",
      "\n"
     ]
    },
    {
     "name": "stderr",
     "output_type": "stream",
     "text": [
      "100%|███████████████████████████████████████████████████████████| 1000/1000 [02:00<00:00,  8.32it/s, mb_sent=361.17 Mb]\n"
     ]
    },
    {
     "name": "stdout",
     "output_type": "stream",
     "text": [
      "Sent 361.17 Mb/s.\tMean speed: 36.12 Mb/s\tEpisode 7/20 finished\n",
      "\n"
     ]
    },
    {
     "name": "stderr",
     "output_type": "stream",
     "text": [
      "100%|███████████████████████████████████████████████████████████| 1000/1000 [01:55<00:00,  8.67it/s, mb_sent=360.11 Mb]\n"
     ]
    },
    {
     "name": "stdout",
     "output_type": "stream",
     "text": [
      "Sent 360.11 Mb/s.\tMean speed: 36.01 Mb/s\tEpisode 8/20 finished\n",
      "\n"
     ]
    },
    {
     "name": "stderr",
     "output_type": "stream",
     "text": [
      "100%|███████████████████████████████████████████████████████████| 1000/1000 [01:54<00:00,  8.74it/s, mb_sent=359.78 Mb]\n"
     ]
    },
    {
     "name": "stdout",
     "output_type": "stream",
     "text": [
      "Sent 359.78 Mb/s.\tMean speed: 35.98 Mb/s\tEpisode 9/20 finished\n",
      "\n"
     ]
    },
    {
     "name": "stderr",
     "output_type": "stream",
     "text": [
      "100%|███████████████████████████████████████████████████████████| 1000/1000 [01:58<00:00,  8.45it/s, mb_sent=372.68 Mb]\n"
     ]
    },
    {
     "name": "stdout",
     "output_type": "stream",
     "text": [
      "Sent 372.68 Mb/s.\tMean speed: 37.27 Mb/s\tEpisode 10/20 finished\n",
      "\n"
     ]
    },
    {
     "name": "stderr",
     "output_type": "stream",
     "text": [
      "100%|███████████████████████████████████████████████████████████| 1000/1000 [01:48<00:00,  9.20it/s, mb_sent=364.92 Mb]\n"
     ]
    },
    {
     "name": "stdout",
     "output_type": "stream",
     "text": [
      "Sent 364.92 Mb/s.\tMean speed: 36.49 Mb/s\tEpisode 11/20 finished\n",
      "\n"
     ]
    },
    {
     "name": "stderr",
     "output_type": "stream",
     "text": [
      "100%|███████████████████████████████████████████████████████████| 1000/1000 [01:51<00:00,  8.95it/s, mb_sent=369.03 Mb]\n"
     ]
    },
    {
     "name": "stdout",
     "output_type": "stream",
     "text": [
      "Sent 369.03 Mb/s.\tMean speed: 36.90 Mb/s\tEpisode 12/20 finished\n",
      "\n"
     ]
    },
    {
     "name": "stderr",
     "output_type": "stream",
     "text": [
      "100%|███████████████████████████████████████████████████████████| 1000/1000 [01:46<00:00,  9.42it/s, mb_sent=353.95 Mb]\n"
     ]
    },
    {
     "name": "stdout",
     "output_type": "stream",
     "text": [
      "Sent 353.95 Mb/s.\tMean speed: 35.39 Mb/s\tEpisode 13/20 finished\n",
      "\n"
     ]
    },
    {
     "name": "stderr",
     "output_type": "stream",
     "text": [
      "100%|███████████████████████████████████████████████████████████| 1000/1000 [01:45<00:00,  9.47it/s, mb_sent=346.96 Mb]\n"
     ]
    },
    {
     "name": "stdout",
     "output_type": "stream",
     "text": [
      "Sent 346.96 Mb/s.\tMean speed: 34.70 Mb/s\tEpisode 14/20 finished\n",
      "\n"
     ]
    },
    {
     "name": "stderr",
     "output_type": "stream",
     "text": [
      "100%|███████████████████████████████████████████████████████████| 1000/1000 [01:53<00:00,  8.77it/s, mb_sent=351.67 Mb]\n"
     ]
    },
    {
     "name": "stdout",
     "output_type": "stream",
     "text": [
      "Sent 351.67 Mb/s.\tMean speed: 35.17 Mb/s\tEpisode 15/20 finished\n",
      "\n"
     ]
    },
    {
     "name": "stderr",
     "output_type": "stream",
     "text": [
      "100%|███████████████████████████████████████████████████████████| 1000/1000 [01:43<00:00,  9.67it/s, mb_sent=357.27 Mb]\n"
     ]
    },
    {
     "name": "stdout",
     "output_type": "stream",
     "text": [
      "Sent 357.27 Mb/s.\tMean speed: 35.73 Mb/s\tEpisode 16/20 finished\n",
      "\n"
     ]
    },
    {
     "name": "stderr",
     "output_type": "stream",
     "text": [
      "100%|███████████████████████████████████████████████████████████| 1000/1000 [01:46<00:00,  9.41it/s, mb_sent=361.05 Mb]\n"
     ]
    },
    {
     "name": "stdout",
     "output_type": "stream",
     "text": [
      "Sent 361.05 Mb/s.\tMean speed: 36.11 Mb/s\tEpisode 17/20 finished\n",
      "\n"
     ]
    },
    {
     "name": "stderr",
     "output_type": "stream",
     "text": [
      "100%|███████████████████████████████████████████████████████████| 1000/1000 [01:47<00:00,  9.31it/s, mb_sent=346.97 Mb]\n"
     ]
    },
    {
     "name": "stdout",
     "output_type": "stream",
     "text": [
      "Sent 346.97 Mb/s.\tMean speed: 34.70 Mb/s\tEpisode 18/20 finished\n",
      "\n"
     ]
    },
    {
     "name": "stderr",
     "output_type": "stream",
     "text": [
      "100%|███████████████████████████████████████████████████████████| 1000/1000 [01:50<00:00,  9.03it/s, mb_sent=350.84 Mb]\n"
     ]
    },
    {
     "name": "stdout",
     "output_type": "stream",
     "text": [
      "Sent 350.84 Mb/s.\tMean speed: 35.08 Mb/s\tEpisode 19/20 finished\n",
      "\n"
     ]
    },
    {
     "name": "stderr",
     "output_type": "stream",
     "text": [
      "100%|███████████████████████████████████████████████████████████| 1000/1000 [01:54<00:00,  8.71it/s, mb_sent=359.53 Mb]\n"
     ]
    },
    {
     "name": "stdout",
     "output_type": "stream",
     "text": [
      "Sent 359.53 Mb/s.\tMean speed: 35.95 Mb/s\tEpisode 20/20 finished\n",
      "\n"
     ]
    },
    {
     "name": "stderr",
     "output_type": "stream",
     "text": [
      "COMET INFO: ----------------------------\n",
      "COMET INFO: Comet.ml Experiment Summary:\n",
      "COMET INFO:   Data:\n",
      "COMET INFO:     url: https://www.comet.ml/wwydmanski/rl-in-wifi/991dc5254b024725a0bd9496dd860995\n",
      "COMET INFO:   Metrics:\n",
      "COMET INFO:                     Chosen CW: 24.0\n",
      "COMET INFO:             Cumulative reward: -20.599365234375\n",
      "COMET INFO:                Megabytes sent: 359.53289299999983\n",
      "COMET INFO:                 Per-ep reward: -20.599365234375\n",
      "COMET INFO:          Round megabytes sent: 0.290405\n",
      "COMET INFO:                  Round reward: -0.11279296875\n",
      "COMET INFO:                         Speed: 35.95328929999998\n",
      "COMET INFO:                    actor_loss: 0.0040876186\n",
      "COMET INFO:                   critic_loss: 1.845684\n",
      "COMET INFO:                          loss: 0.004087618552148342\n",
      "COMET INFO:         sys.gpu.0.free_memory: 7175327744\n",
      "COMET INFO:     sys.gpu.0.gpu_utilization: 13\n",
      "COMET INFO:        sys.gpu.0.total_memory: 11811160064\n",
      "COMET INFO:         sys.gpu.0.used_memory: 4635832320\n",
      "COMET INFO: ----------------------------\n",
      "COMET INFO: Uploading stats to Comet before program termination (may take several seconds)\n"
     ]
    },
    {
     "name": "stdout",
     "output_type": "stream",
     "text": [
      "Training finished.\n",
      "Params:\n",
      "lr_actor: 1.9469727079710437E-5\n",
      "lr_critic: 2.1533171962492424E-4\n"
     ]
    },
    {
     "name": "stderr",
     "output_type": "stream",
     "text": [
      "COMET INFO: Experiment is live on comet.ml https://www.comet.ml/wwydmanski/rl-in-wifi/75652e77bd1e4e54b41d18e77f42bcef\n",
      "\n",
      " 52%|██████████████████████████████▉                             | 516/1000 [00:44<00:42, 11.52it/s, mb_sent=143.10 Mb]"
     ]
    },
    {
     "name": "stdout",
     "output_type": "stream",
     "text": [
      "------- STARTED TRAINING -------\n"
     ]
    },
    {
     "name": "stderr",
     "output_type": "stream",
     "text": [
      "100%|███████████████████████████████████████████████████████████| 1000/1000 [01:33<00:00, 10.72it/s, mb_sent=284.83 Mb]\n"
     ]
    },
    {
     "name": "stdout",
     "output_type": "stream",
     "text": [
      "Sent 284.83 Mb/s.\tMean speed: 28.48 Mb/s\tEpisode 1/20 finished\n",
      "\n"
     ]
    },
    {
     "name": "stderr",
     "output_type": "stream",
     "text": [
      " 50%|██████████████████████████████                              | 500/1000 [00:51<00:51,  9.65it/s, mb_sent=154.73 Mb]"
     ]
    },
    {
     "name": "stdout",
     "output_type": "stream",
     "text": [
      "------- MEMORY BUFFER FILLED -------\n"
     ]
    },
    {
     "name": "stderr",
     "output_type": "stream",
     "text": [
      "100%|███████████████████████████████████████████████████████████| 1000/1000 [01:45<00:00,  9.50it/s, mb_sent=316.42 Mb]\n"
     ]
    },
    {
     "name": "stdout",
     "output_type": "stream",
     "text": [
      "Sent 316.42 Mb/s.\tMean speed: 31.64 Mb/s\tEpisode 2/20 finished\n",
      "\n"
     ]
    },
    {
     "name": "stderr",
     "output_type": "stream",
     "text": [
      "100%|███████████████████████████████████████████████████████████| 1000/1000 [01:41<00:00,  9.83it/s, mb_sent=348.31 Mb]\n"
     ]
    },
    {
     "name": "stdout",
     "output_type": "stream",
     "text": [
      "Sent 348.31 Mb/s.\tMean speed: 34.83 Mb/s\tEpisode 3/20 finished\n",
      "\n"
     ]
    },
    {
     "name": "stderr",
     "output_type": "stream",
     "text": [
      "100%|███████████████████████████████████████████████████████████| 1000/1000 [01:44<00:00,  9.59it/s, mb_sent=373.47 Mb]\n"
     ]
    },
    {
     "name": "stdout",
     "output_type": "stream",
     "text": [
      "Sent 373.47 Mb/s.\tMean speed: 37.35 Mb/s\tEpisode 4/20 finished\n",
      "\n"
     ]
    },
    {
     "name": "stderr",
     "output_type": "stream",
     "text": [
      "100%|███████████████████████████████████████████████████████████| 1000/1000 [01:46<00:00,  9.36it/s, mb_sent=369.24 Mb]\n"
     ]
    },
    {
     "name": "stdout",
     "output_type": "stream",
     "text": [
      "Sent 369.24 Mb/s.\tMean speed: 36.92 Mb/s\tEpisode 5/20 finished\n",
      "\n"
     ]
    },
    {
     "name": "stderr",
     "output_type": "stream",
     "text": [
      "100%|███████████████████████████████████████████████████████████| 1000/1000 [01:46<00:00,  9.40it/s, mb_sent=376.35 Mb]\n"
     ]
    },
    {
     "name": "stdout",
     "output_type": "stream",
     "text": [
      "Sent 376.35 Mb/s.\tMean speed: 37.64 Mb/s\tEpisode 6/20 finished\n",
      "\n"
     ]
    },
    {
     "name": "stderr",
     "output_type": "stream",
     "text": [
      "100%|███████████████████████████████████████████████████████████| 1000/1000 [01:46<00:00,  9.43it/s, mb_sent=365.33 Mb]\n"
     ]
    },
    {
     "name": "stdout",
     "output_type": "stream",
     "text": [
      "Sent 365.33 Mb/s.\tMean speed: 36.53 Mb/s\tEpisode 7/20 finished\n",
      "\n"
     ]
    },
    {
     "name": "stderr",
     "output_type": "stream",
     "text": [
      "100%|███████████████████████████████████████████████████████████| 1000/1000 [01:46<00:00,  9.35it/s, mb_sent=369.81 Mb]\n"
     ]
    },
    {
     "name": "stdout",
     "output_type": "stream",
     "text": [
      "Sent 369.81 Mb/s.\tMean speed: 36.98 Mb/s\tEpisode 8/20 finished\n",
      "\n"
     ]
    },
    {
     "name": "stderr",
     "output_type": "stream",
     "text": [
      "100%|███████████████████████████████████████████████████████████| 1000/1000 [01:46<00:00,  9.38it/s, mb_sent=384.05 Mb]\n"
     ]
    },
    {
     "name": "stdout",
     "output_type": "stream",
     "text": [
      "Sent 384.05 Mb/s.\tMean speed: 38.40 Mb/s\tEpisode 9/20 finished\n",
      "\n"
     ]
    },
    {
     "name": "stderr",
     "output_type": "stream",
     "text": [
      "100%|███████████████████████████████████████████████████████████| 1000/1000 [01:46<00:00,  9.39it/s, mb_sent=382.72 Mb]\n"
     ]
    },
    {
     "name": "stdout",
     "output_type": "stream",
     "text": [
      "Sent 382.72 Mb/s.\tMean speed: 38.27 Mb/s\tEpisode 10/20 finished\n",
      "\n"
     ]
    },
    {
     "name": "stderr",
     "output_type": "stream",
     "text": [
      "100%|███████████████████████████████████████████████████████████| 1000/1000 [01:46<00:00,  9.38it/s, mb_sent=380.10 Mb]\n"
     ]
    },
    {
     "name": "stdout",
     "output_type": "stream",
     "text": [
      "Sent 380.10 Mb/s.\tMean speed: 38.01 Mb/s\tEpisode 11/20 finished\n",
      "\n"
     ]
    },
    {
     "name": "stderr",
     "output_type": "stream",
     "text": [
      " 41%|████████████████████████▌                                   | 409/1000 [00:41<01:00,  9.76it/s, mb_sent=151.28 Mb]"
     ]
    }
   ],
   "source": [
    "optimizer = Optimizer(\"OZwyhJHyqzPZgHEpDFL1zxhyI\")\n",
    "  # Declare your hyper-parameters:\n",
    "# actor_fc1 integer [1, 4] [2]\n",
    "# actor_fc2 integer [1, 4] [2]\n",
    "# actor_fc3 integer [1, 4] [2]\n",
    "\n",
    "# critic_fc1 integer [1, 4] [2]\n",
    "# critic_fc2 integer [1, 4] [2]\n",
    "# critic_fc3 integer [1, 4] [2]\n",
    "\n",
    "params = \"\"\"\n",
    "lr_actor real [1e-6, 1e-4] [6e-5] log\n",
    "lr_critic real [1e-5, 1e-3] [8e-4] log\n",
    "\"\"\"\n",
    "optimizer.set_params(params)\n",
    "\n",
    "teacher = Teacher(env, 1)\n",
    "\n",
    "# agent = Agent(Network, history_length, action_size=3, config=config)\n",
    "# agent.set_epsilon(0.9, 0.01, 25)\n",
    "# teacher.train(EPISODE_COUNT, simTime, stepTime, \"Inp: window Mb sent\", \"Rew: normalized speed\", \"DQN\", \"Convergence\", \"Instances: 2\", \"Net: 128, 64, 32\")\n",
    "\n",
    "while True:\n",
    "    # Get a suggestion\n",
    "    suggestion = optimizer.get_suggestion()\n",
    "    config = Config(buffer_size=1.5e3*threads_no, batch_size=512, gamma=0.99, tau=1e-3, lr_actor=suggestion[\"lr_actor\"], lr_critic=suggestion[\"lr_critic\"])\n",
    "    \n",
    "#     actor_l = [2**(suggestion[\"actor_fc1\"]+5), 2**(suggestion[\"actor_fc2\"]+4), 2**(suggestion[\"actor_fc3\"]+3)]\n",
    "#     critic_l = [2**(suggestion[\"critic_fc1\"]+5), 2**(suggestion[\"critic_fc2\"]+4), 2**(suggestion[\"critic_fc3\"]+3)]\n",
    "    actor_l = [128, 64, 32]\n",
    "    critic_l = [512, 256, 64]\n",
    "    print(\"Params:\")\n",
    "    for k, v in suggestion.params.items():\n",
    "        print(f\"{k}: {v}\")\n",
    "    \n",
    "    agent = Agent(history_length, action_size=1, config=config, actor_layers = actor_l, critic_layers = critic_l)\n",
    "\n",
    "    # Test the model\n",
    "    logger = teacher.train(agent, EPISODE_COUNT, simTime, stepTime, \"Inp: collisions mb\", \"Rew: normalized speed\", \"DDPG\", \"Convergence\", f\"Actor: {actor_l}\", f\"Critic: {critic_l}\", f\"Instances: {threads_no}\",\n",
    "                          **config.__dict__)\n",
    "    \n",
    "    # Report the score back\n",
    "    suggestion.report_score(\"last_speed\", logger.last_speed)\n",
    "    del agent\n",
    "\n",
    "\n",
    "SCRIPT_RUNNING = False"
   ]
  },
  {
   "cell_type": "code",
   "execution_count": null,
   "metadata": {},
   "outputs": [],
   "source": [
    "config.__dict__"
   ]
  }
 ],
 "metadata": {
  "kernelspec": {
   "display_name": "Python 3",
   "language": "python",
   "name": "python3"
  },
  "language_info": {
   "codemirror_mode": {
    "name": "ipython",
    "version": 3
   },
   "file_extension": ".py",
   "mimetype": "text/x-python",
   "name": "python",
   "nbconvert_exporter": "python",
   "pygments_lexer": "ipython3",
   "version": "3.6.5"
  }
 },
 "nbformat": 4,
 "nbformat_minor": 2
}
