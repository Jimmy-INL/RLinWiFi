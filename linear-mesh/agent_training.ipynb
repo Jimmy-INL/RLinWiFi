{
 "cells": [
  {
   "cell_type": "code",
   "execution_count": 1,
   "metadata": {},
   "outputs": [
    {
     "name": "stderr",
     "output_type": "stream",
     "text": [
      "C:\\ProgramData\\Anaconda3\\lib\\site-packages\\requests\\__init__.py:80: RequestsDependencyWarning: urllib3 (1.24.1) or chardet (3.0.4) doesn't match a supported version!\n",
      "  RequestsDependencyWarning)\n",
      "C:\\ProgramData\\Anaconda3\\lib\\site-packages\\h5py\\__init__.py:36: FutureWarning: Conversion of the second argument of issubdtype from `float` to `np.floating` is deprecated. In future, it will be treated as `np.float64 == np.dtype(float).type`.\n",
      "  from ._conv import register_converters as _register_converters\n"
     ]
    }
   ],
   "source": [
    "from ns3gym import ns3env\n",
    "from comet_ml import Experiment\n",
    "import tqdm\n",
    "import subprocess\n",
    "from collections import deque\n",
    "import numpy as np\n",
    "\n",
    "from agents.ddpg.agent import Agent, Config\n",
    "# from agents.dqn.agent import Agent, Config\n",
    "# from agents.dqn.model import QNetworkTf\n",
    "from agents.teacher import Teacher, EnvWrapper"
   ]
  },
  {
   "cell_type": "markdown",
   "metadata": {},
   "source": [
    "### Basic constants and setting up environment"
   ]
  },
  {
   "cell_type": "code",
   "execution_count": 2,
   "metadata": {},
   "outputs": [
    {
     "name": "stdout",
     "output_type": "stream",
     "text": [
      "Steps per episode: 1000\n"
     ]
    }
   ],
   "source": [
    "scenario = \"convergence\"\n",
    "\n",
    "simTime = 10 # seconds\n",
    "stepTime = 0.01  # seconds\n",
    "history_length = 10\n",
    "\n",
    "\n",
    "EPISODE_COUNT = 30\n",
    "steps_per_ep = int(simTime/stepTime)\n",
    "\n",
    "sim_args = {\n",
    "    \"simTime\": simTime,\n",
    "    \"envStepTime\": stepTime,\n",
    "    \"historyLength\": 10,\n",
    "    \"agentType\": Agent.TYPE,\n",
    "    \"nonZeroStart\": True,\n",
    "    \"scenario\": \"convergence\",\n",
    "    \"nWifi\": 7\n",
    "}\n",
    "print(\"Steps per episode:\", steps_per_ep)\n",
    "\n",
    "threads_no = 1\n",
    "env = EnvWrapper(threads_no, **sim_args)"
   ]
  },
  {
   "cell_type": "code",
   "execution_count": 3,
   "metadata": {},
   "outputs": [],
   "source": [
    "# config = Config(buffer_size=2e3, batch_size=64, gamma=0.99, tau=1e-3, lr=5e-4)\n",
    "config = Config(buffer_size=1.5e4*threads_no, batch_size=1024, gamma=0.99, tau=1e-3, lr_actor=6e-5, lr_critic=1e-3)"
   ]
  },
  {
   "cell_type": "code",
   "execution_count": 4,
   "metadata": {},
   "outputs": [
    {
     "name": "stdout",
     "output_type": "stream",
     "text": [
      "Observation space shape: (1, 'Box(10,)')\n",
      "Action space shape: (1, 'Box(1,)')\n"
     ]
    }
   ],
   "source": [
    "env.reset()\n",
    "ob_space = env.observation_space\n",
    "ac_space = env.action_space\n",
    "\n",
    "print(\"Observation space shape:\", ob_space)\n",
    "print(\"Action space shape:\", ac_space)\n",
    "\n",
    "assert ob_space is not None"
   ]
  },
  {
   "cell_type": "markdown",
   "metadata": {},
   "source": [
    "### Creating and training agent"
   ]
  },
  {
   "cell_type": "code",
   "execution_count": 5,
   "metadata": {},
   "outputs": [],
   "source": [
    "# import tensorflow as tf\n",
    "\n",
    "# class Network(QNetworkTf):\n",
    "#     def _inference(self):\n",
    "#         with tf.variable_scope(\"inference_\"+self.name):\n",
    "#             layer = tf.layers.dense(self.input, 128, activation=tf.nn.relu)\n",
    "# #             layer = tf.layers.dense(layer, 128, activation=tf.nn.relu)\n",
    "# #             layer = tf.layers.batch_normalization(layer)\n",
    "#             layer = tf.layers.dense(layer, 64, activation=tf.nn.relu)\n",
    "#             layer = tf.layers.dense(layer, 32, activation=tf.nn.relu)\n",
    "# #             layer = tf.layers.dense(layer, 256, activation=tf.nn.relu)\n",
    "# #             layer = tf.layers.dense(layer, 64, activation=tf.nn.relu)\n",
    "#             layer = tf.layers.dense(layer, self.action_size)\n",
    "#         return layer"
   ]
  },
  {
   "cell_type": "code",
   "execution_count": 6,
   "metadata": {},
   "outputs": [
    {
     "name": "stderr",
     "output_type": "stream",
     "text": [
      "COMET INFO: old comet version (1.0.45) detected. current: 1.0.50 please update your comet lib with command: `pip install --no-cache-dir --upgrade comet_ml`\n",
      "COMET INFO: Experiment is live on comet.ml https://www.comet.ml/wwydmanski/rl-in-wifi/af4a7250648c43a8a07a4d66a4c5af5e\n",
      "\n",
      "100%|███████████████████████████████████████████████████████████| 1000/1000 [01:29<00:00, 11.18it/s, mb_sent=303.71 Mb]\n"
     ]
    },
    {
     "name": "stdout",
     "output_type": "stream",
     "text": [
      "Sent 303.71 Mb/s.\tMean speed: 30.37 Mb/s\tEpisode 1/30 finished\n",
      "\n"
     ]
    },
    {
     "name": "stderr",
     "output_type": "stream",
     "text": [
      "  3%|█▊                                                             | 28/1000 [00:02<01:14, 13.03it/s, mb_sent=9.59 Mb]"
     ]
    },
    {
     "name": "stdout",
     "output_type": "stream",
     "text": [
      "------- STARTED TRAINING -------\n"
     ]
    },
    {
     "name": "stderr",
     "output_type": "stream",
     "text": [
      "100%|███████████████████████████████████████████████████████████| 1000/1000 [01:44<00:00,  9.57it/s, mb_sent=354.79 Mb]\n"
     ]
    },
    {
     "name": "stdout",
     "output_type": "stream",
     "text": [
      "Sent 354.79 Mb/s.\tMean speed: 35.48 Mb/s\tEpisode 2/30 finished\n",
      "\n"
     ]
    },
    {
     "name": "stderr",
     "output_type": "stream",
     "text": [
      "100%|███████████████████████████████████████████████████████████| 1000/1000 [01:48<00:00,  9.22it/s, mb_sent=373.52 Mb]\n"
     ]
    },
    {
     "name": "stdout",
     "output_type": "stream",
     "text": [
      "Sent 373.52 Mb/s.\tMean speed: 37.35 Mb/s\tEpisode 3/30 finished\n",
      "\n"
     ]
    },
    {
     "name": "stderr",
     "output_type": "stream",
     "text": [
      "100%|███████████████████████████████████████████████████████████| 1000/1000 [01:47<00:00,  9.26it/s, mb_sent=369.23 Mb]\n"
     ]
    },
    {
     "name": "stdout",
     "output_type": "stream",
     "text": [
      "Sent 369.23 Mb/s.\tMean speed: 36.92 Mb/s\tEpisode 4/30 finished\n",
      "\n"
     ]
    },
    {
     "name": "stderr",
     "output_type": "stream",
     "text": [
      "100%|███████████████████████████████████████████████████████████| 1000/1000 [01:48<00:00,  9.25it/s, mb_sent=369.88 Mb]\n"
     ]
    },
    {
     "name": "stdout",
     "output_type": "stream",
     "text": [
      "Sent 369.88 Mb/s.\tMean speed: 36.99 Mb/s\tEpisode 5/30 finished\n",
      "\n"
     ]
    },
    {
     "name": "stderr",
     "output_type": "stream",
     "text": [
      "100%|███████████████████████████████████████████████████████████| 1000/1000 [01:48<00:00,  9.24it/s, mb_sent=370.33 Mb]\n"
     ]
    },
    {
     "name": "stdout",
     "output_type": "stream",
     "text": [
      "Sent 370.33 Mb/s.\tMean speed: 37.03 Mb/s\tEpisode 6/30 finished\n",
      "\n"
     ]
    },
    {
     "name": "stderr",
     "output_type": "stream",
     "text": [
      "100%|███████████████████████████████████████████████████████████| 1000/1000 [01:47<00:00,  9.32it/s, mb_sent=370.05 Mb]\n"
     ]
    },
    {
     "name": "stdout",
     "output_type": "stream",
     "text": [
      "Sent 370.05 Mb/s.\tMean speed: 37.01 Mb/s\tEpisode 7/30 finished\n",
      "\n"
     ]
    },
    {
     "name": "stderr",
     "output_type": "stream",
     "text": [
      "100%|███████████████████████████████████████████████████████████| 1000/1000 [01:47<00:00,  9.32it/s, mb_sent=370.43 Mb]\n"
     ]
    },
    {
     "name": "stdout",
     "output_type": "stream",
     "text": [
      "Sent 370.43 Mb/s.\tMean speed: 37.04 Mb/s\tEpisode 8/30 finished\n",
      "\n"
     ]
    },
    {
     "name": "stderr",
     "output_type": "stream",
     "text": [
      "100%|███████████████████████████████████████████████████████████| 1000/1000 [01:48<00:00,  9.22it/s, mb_sent=369.47 Mb]\n"
     ]
    },
    {
     "name": "stdout",
     "output_type": "stream",
     "text": [
      "Sent 369.47 Mb/s.\tMean speed: 36.95 Mb/s\tEpisode 9/30 finished\n",
      "\n"
     ]
    },
    {
     "name": "stderr",
     "output_type": "stream",
     "text": [
      "100%|███████████████████████████████████████████████████████████| 1000/1000 [01:48<00:00,  9.22it/s, mb_sent=356.13 Mb]\n"
     ]
    },
    {
     "name": "stdout",
     "output_type": "stream",
     "text": [
      "Sent 356.13 Mb/s.\tMean speed: 35.61 Mb/s\tEpisode 10/30 finished\n",
      "\n"
     ]
    },
    {
     "name": "stderr",
     "output_type": "stream",
     "text": [
      "100%|███████████████████████████████████████████████████████████| 1000/1000 [01:47<00:00,  9.31it/s, mb_sent=367.85 Mb]\n"
     ]
    },
    {
     "name": "stdout",
     "output_type": "stream",
     "text": [
      "Sent 367.85 Mb/s.\tMean speed: 36.79 Mb/s\tEpisode 11/30 finished\n",
      "\n"
     ]
    },
    {
     "name": "stderr",
     "output_type": "stream",
     "text": [
      "100%|███████████████████████████████████████████████████████████| 1000/1000 [01:47<00:00,  9.27it/s, mb_sent=366.41 Mb]\n"
     ]
    },
    {
     "name": "stdout",
     "output_type": "stream",
     "text": [
      "Sent 366.41 Mb/s.\tMean speed: 36.64 Mb/s\tEpisode 12/30 finished\n",
      "\n"
     ]
    },
    {
     "name": "stderr",
     "output_type": "stream",
     "text": [
      "100%|███████████████████████████████████████████████████████████| 1000/1000 [01:46<00:00,  9.37it/s, mb_sent=374.06 Mb]\n"
     ]
    },
    {
     "name": "stdout",
     "output_type": "stream",
     "text": [
      "Sent 374.06 Mb/s.\tMean speed: 37.41 Mb/s\tEpisode 13/30 finished\n",
      "\n"
     ]
    },
    {
     "name": "stderr",
     "output_type": "stream",
     "text": [
      "100%|███████████████████████████████████████████████████████████| 1000/1000 [01:48<00:00,  9.23it/s, mb_sent=380.13 Mb]\n"
     ]
    },
    {
     "name": "stdout",
     "output_type": "stream",
     "text": [
      "Sent 380.13 Mb/s.\tMean speed: 38.01 Mb/s\tEpisode 14/30 finished\n",
      "\n"
     ]
    },
    {
     "name": "stderr",
     "output_type": "stream",
     "text": [
      "100%|███████████████████████████████████████████████████████████| 1000/1000 [01:47<00:00,  9.27it/s, mb_sent=384.88 Mb]\n"
     ]
    },
    {
     "name": "stdout",
     "output_type": "stream",
     "text": [
      "Sent 384.88 Mb/s.\tMean speed: 38.49 Mb/s\tEpisode 15/30 finished\n",
      "\n"
     ]
    },
    {
     "name": "stderr",
     "output_type": "stream",
     "text": [
      "  1%|▉                                                              | 14/1000 [00:01<01:33, 10.60it/s, mb_sent=5.83 Mb]"
     ]
    },
    {
     "name": "stdout",
     "output_type": "stream",
     "text": [
      "------- MEMORY BUFFER FILLED -------\n"
     ]
    },
    {
     "name": "stderr",
     "output_type": "stream",
     "text": [
      "100%|███████████████████████████████████████████████████████████| 1000/1000 [01:48<00:00,  9.22it/s, mb_sent=385.02 Mb]\n"
     ]
    },
    {
     "name": "stdout",
     "output_type": "stream",
     "text": [
      "Sent 385.02 Mb/s.\tMean speed: 38.50 Mb/s\tEpisode 16/30 finished\n",
      "\n"
     ]
    },
    {
     "name": "stderr",
     "output_type": "stream",
     "text": [
      "100%|███████████████████████████████████████████████████████████| 1000/1000 [01:49<00:00,  9.15it/s, mb_sent=384.01 Mb]\n"
     ]
    },
    {
     "name": "stdout",
     "output_type": "stream",
     "text": [
      "Sent 384.01 Mb/s.\tMean speed: 38.40 Mb/s\tEpisode 17/30 finished\n",
      "\n"
     ]
    },
    {
     "name": "stderr",
     "output_type": "stream",
     "text": [
      "100%|███████████████████████████████████████████████████████████| 1000/1000 [01:49<00:00,  9.13it/s, mb_sent=382.16 Mb]\n"
     ]
    },
    {
     "name": "stdout",
     "output_type": "stream",
     "text": [
      "Sent 382.16 Mb/s.\tMean speed: 38.22 Mb/s\tEpisode 18/30 finished\n",
      "\n"
     ]
    },
    {
     "name": "stderr",
     "output_type": "stream",
     "text": [
      "100%|███████████████████████████████████████████████████████████| 1000/1000 [01:48<00:00,  9.20it/s, mb_sent=380.08 Mb]\n"
     ]
    },
    {
     "name": "stdout",
     "output_type": "stream",
     "text": [
      "Sent 380.08 Mb/s.\tMean speed: 38.01 Mb/s\tEpisode 19/30 finished\n",
      "\n"
     ]
    },
    {
     "name": "stderr",
     "output_type": "stream",
     "text": [
      "100%|███████████████████████████████████████████████████████████| 1000/1000 [01:49<00:00,  9.13it/s, mb_sent=373.81 Mb]\n"
     ]
    },
    {
     "name": "stdout",
     "output_type": "stream",
     "text": [
      "Sent 373.81 Mb/s.\tMean speed: 37.38 Mb/s\tEpisode 20/30 finished\n",
      "\n"
     ]
    },
    {
     "name": "stderr",
     "output_type": "stream",
     "text": [
      "100%|███████████████████████████████████████████████████████████| 1000/1000 [01:48<00:00,  9.18it/s, mb_sent=378.23 Mb]\n"
     ]
    },
    {
     "name": "stdout",
     "output_type": "stream",
     "text": [
      "Sent 378.23 Mb/s.\tMean speed: 37.82 Mb/s\tEpisode 21/30 finished\n",
      "\n"
     ]
    },
    {
     "name": "stderr",
     "output_type": "stream",
     "text": [
      "100%|███████████████████████████████████████████████████████████| 1000/1000 [01:49<00:00,  9.11it/s, mb_sent=380.16 Mb]\n"
     ]
    },
    {
     "name": "stdout",
     "output_type": "stream",
     "text": [
      "Sent 380.16 Mb/s.\tMean speed: 38.02 Mb/s\tEpisode 22/30 finished\n",
      "\n"
     ]
    },
    {
     "name": "stderr",
     "output_type": "stream",
     "text": [
      "100%|███████████████████████████████████████████████████████████| 1000/1000 [01:50<00:00,  9.08it/s, mb_sent=380.65 Mb]\n"
     ]
    },
    {
     "name": "stdout",
     "output_type": "stream",
     "text": [
      "Sent 380.65 Mb/s.\tMean speed: 38.07 Mb/s\tEpisode 23/30 finished\n",
      "\n"
     ]
    },
    {
     "name": "stderr",
     "output_type": "stream",
     "text": [
      "100%|███████████████████████████████████████████████████████████| 1000/1000 [01:48<00:00,  9.21it/s, mb_sent=381.54 Mb]\n"
     ]
    },
    {
     "name": "stdout",
     "output_type": "stream",
     "text": [
      "Sent 381.54 Mb/s.\tMean speed: 38.15 Mb/s\tEpisode 24/30 finished\n",
      "\n"
     ]
    },
    {
     "name": "stderr",
     "output_type": "stream",
     "text": [
      "100%|███████████████████████████████████████████████████████████| 1000/1000 [01:49<00:00,  9.13it/s, mb_sent=384.53 Mb]\n"
     ]
    },
    {
     "name": "stdout",
     "output_type": "stream",
     "text": [
      "Sent 384.53 Mb/s.\tMean speed: 38.45 Mb/s\tEpisode 25/30 finished\n",
      "\n"
     ]
    },
    {
     "name": "stderr",
     "output_type": "stream",
     "text": [
      "100%|███████████████████████████████████████████████████████████| 1000/1000 [01:48<00:00,  9.20it/s, mb_sent=383.13 Mb]\n"
     ]
    },
    {
     "name": "stdout",
     "output_type": "stream",
     "text": [
      "Sent 383.13 Mb/s.\tMean speed: 38.31 Mb/s\tEpisode 26/30 finished\n",
      "\n"
     ]
    },
    {
     "name": "stderr",
     "output_type": "stream",
     "text": [
      "100%|███████████████████████████████████████████████████████████| 1000/1000 [01:48<00:00,  9.23it/s, mb_sent=383.78 Mb]\n"
     ]
    },
    {
     "name": "stdout",
     "output_type": "stream",
     "text": [
      "Sent 383.78 Mb/s.\tMean speed: 38.38 Mb/s\tEpisode 27/30 finished\n",
      "\n"
     ]
    },
    {
     "name": "stderr",
     "output_type": "stream",
     "text": [
      "100%|███████████████████████████████████████████████████████████| 1000/1000 [01:49<00:00,  9.13it/s, mb_sent=384.26 Mb]\n"
     ]
    },
    {
     "name": "stdout",
     "output_type": "stream",
     "text": [
      "Sent 384.26 Mb/s.\tMean speed: 38.43 Mb/s\tEpisode 28/30 finished\n",
      "\n"
     ]
    },
    {
     "name": "stderr",
     "output_type": "stream",
     "text": [
      "100%|███████████████████████████████████████████████████████████| 1000/1000 [01:47<00:00,  9.32it/s, mb_sent=373.11 Mb]\n"
     ]
    },
    {
     "name": "stdout",
     "output_type": "stream",
     "text": [
      "Sent 373.11 Mb/s.\tMean speed: 37.31 Mb/s\tEpisode 29/30 finished\n",
      "\n"
     ]
    },
    {
     "name": "stderr",
     "output_type": "stream",
     "text": [
      "100%|███████████████████████████████████████████████████████████| 1000/1000 [01:48<00:00,  9.23it/s, mb_sent=373.19 Mb]\n"
     ]
    },
    {
     "name": "stdout",
     "output_type": "stream",
     "text": [
      "Sent 373.19 Mb/s.\tMean speed: 37.32 Mb/s\tEpisode 30/30 finished\n",
      "\n"
     ]
    },
    {
     "name": "stderr",
     "output_type": "stream",
     "text": [
      "COMET INFO: ----------------------------\n",
      "COMET INFO: Comet.ml Experiment Summary:\n",
      "COMET INFO:   Metrics:\n",
      "COMET INFO:                     Chosen CW: 103.0\n",
      "COMET INFO:             Cumulative reward: -2.430419921875\n",
      "COMET INFO:                Megabytes sent: 373.1930900000003\n",
      "COMET INFO:                 Per-ep reward: -2.430419921875\n",
      "COMET INFO:          Round megabytes sent: 0.39093\n",
      "COMET INFO:                  Round reward: 0.021240234375\n",
      "COMET INFO:                         Speed: 37.31930900000003\n",
      "COMET INFO:                    actor_loss: -0.039362077\n",
      "COMET INFO:                   critic_loss: 0.72469485\n",
      "COMET INFO:                          loss: -0.03387805446982384\n",
      "COMET INFO:         sys.gpu.0.free_memory: 7815766016\n",
      "COMET INFO:     sys.gpu.0.gpu_utilization: 1\n",
      "COMET INFO:        sys.gpu.0.total_memory: 11811160064\n",
      "COMET INFO:         sys.gpu.0.used_memory: 3995394048\n",
      "COMET INFO: ----------------------------\n",
      "COMET INFO: Uploading stats to Comet before program termination (may take several seconds)\n"
     ]
    },
    {
     "name": "stdout",
     "output_type": "stream",
     "text": [
      "Training finished.\n"
     ]
    }
   ],
   "source": [
    "agent = Agent(history_length, action_size=1, config=config)\n",
    "# agent = Agent(Network, history_length, action_size=3, config=config)\n",
    "# agent.set_epsilon(0.9, 0.01, 25)\n",
    "teacher = Teacher(agent, env, 1)\n",
    "# teacher.train(EPISODE_COUNT, simTime, stepTime, \"Inp: window Mb sent\", \"Rew: normalized speed\", \"DQN\", \"Convergence\", \"Instances: 2\", \"Net: 128, 64, 32\")\n",
    "teacher.train(EPISODE_COUNT, simTime, stepTime, \"Inp: collisions mb\", \"Rew: normalized speed\", \"DDPG\", \"Convergence\", \"Actor: 256, 128, 64\", \"Critic: 512, 256, 128\", f\"Instances: {threads_no}\")\n",
    "\n",
    "SCRIPT_RUNNING = False"
   ]
  }
 ],
 "metadata": {
  "kernelspec": {
   "display_name": "Python 3",
   "language": "python",
   "name": "python3"
  },
  "language_info": {
   "codemirror_mode": {
    "name": "ipython",
    "version": 3
   },
   "file_extension": ".py",
   "mimetype": "text/x-python",
   "name": "python",
   "nbconvert_exporter": "python",
   "pygments_lexer": "ipython3",
   "version": "3.6.5"
  }
 },
 "nbformat": 4,
 "nbformat_minor": 2
}
