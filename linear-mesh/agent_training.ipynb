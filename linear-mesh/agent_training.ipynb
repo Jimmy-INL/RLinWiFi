{
 "cells": [
  {
   "cell_type": "code",
   "execution_count": 1,
   "metadata": {},
   "outputs": [
    {
     "name": "stderr",
     "output_type": "stream",
     "text": [
      "C:\\ProgramData\\Anaconda3\\lib\\site-packages\\requests\\__init__.py:80: RequestsDependencyWarning: urllib3 (1.24.1) or chardet (3.0.4) doesn't match a supported version!\n",
      "  RequestsDependencyWarning)\n",
      "C:\\ProgramData\\Anaconda3\\lib\\site-packages\\h5py\\__init__.py:36: FutureWarning: Conversion of the second argument of issubdtype from `float` to `np.floating` is deprecated. In future, it will be treated as `np.float64 == np.dtype(float).type`.\n",
      "  from ._conv import register_converters as _register_converters\n"
     ]
    }
   ],
   "source": [
    "from ns3gym import ns3env\n",
    "from comet_ml import Experiment\n",
    "import tqdm\n",
    "import subprocess\n",
    "from collections import deque\n",
    "import numpy as np\n",
    "\n",
    "# from agents.ddpg.agent import Agent, Config\n",
    "from agents.dqn.agent import Agent\n",
    "from agents.dqn.model import QNetworkTf\n",
    "from agents.teacher import Teacher"
   ]
  },
  {
   "cell_type": "markdown",
   "metadata": {},
   "source": [
    "### Basic constants and setting up environment"
   ]
  },
  {
   "cell_type": "code",
   "execution_count": 2,
   "metadata": {},
   "outputs": [
    {
     "name": "stdout",
     "output_type": "stream",
     "text": [
      "Steps per episode: 100\n"
     ]
    }
   ],
   "source": [
    "simTime = 10 # seconds\n",
    "stepTime = 0.1  # seconds\n",
    "history_length = 10\n",
    "\n",
    "EPISODE_COUNT = 30\n",
    "steps_per_ep = int(simTime/stepTime)\n",
    "\n",
    "SCRIPT_RUNNING = False\n",
    "\n",
    "script_exec_command = f'../../waf --run \"linear-mesh --simTime={simTime} --envStepTime={stepTime} --historyLength={history_length}\"'\n",
    "print(\"Steps per episode:\", steps_per_ep)"
   ]
  },
  {
   "cell_type": "code",
   "execution_count": 3,
   "metadata": {},
   "outputs": [
    {
     "name": "stdout",
     "output_type": "stream",
     "text": [
      "Waiting for simulation script to connect on port: tcp://localhost:5555\n",
      "Please start proper ns-3 simulation script using ./waf --run \"...\"\n"
     ]
    }
   ],
   "source": [
    "port = 5555\n",
    "seed = 0\n",
    "\n",
    "simArgs = {\"--simTime\": simTime,\n",
    "           \"--testArg\": 123,\n",
    "           \"--nodeNum\": 5,\n",
    "           \"--distance\": 500}\n",
    "debug = False\n",
    "\n",
    "subprocess.Popen(['bash', '-c', script_exec_command])\n",
    "SCRIPT_RUNNING = True\n",
    "\n",
    "env = ns3env.Ns3Env(port=port, stepTime=stepTime, startSim=0, simSeed=seed, simArgs=simArgs, debug=debug)"
   ]
  },
  {
   "cell_type": "code",
   "execution_count": 4,
   "metadata": {},
   "outputs": [
    {
     "name": "stdout",
     "output_type": "stream",
     "text": [
      "Observation space shape: Box(10,)\n",
      "Action space shape: Box(1,)\n"
     ]
    }
   ],
   "source": [
    "env.reset()\n",
    "ob_space = env.observation_space\n",
    "ac_space = env.action_space\n",
    "\n",
    "print(\"Observation space shape:\", ob_space)\n",
    "print(\"Action space shape:\", ac_space)\n",
    "\n",
    "assert ob_space is not None"
   ]
  },
  {
   "cell_type": "markdown",
   "metadata": {},
   "source": [
    "### Creating and training agent"
   ]
  },
  {
   "cell_type": "code",
   "execution_count": 5,
   "metadata": {},
   "outputs": [],
   "source": [
    "import tensorflow as tf\n",
    "\n",
    "class Network(QNetworkTf):\n",
    "    def _inference(self):\n",
    "        with tf.variable_scope(\"inference_\"+self.name):\n",
    "            layer = tf.layers.dense(self.input, 1024, activation=tf.nn.relu)\n",
    "            layer = tf.layers.dense(layer, 512, activation=tf.nn.relu)\n",
    "#             layer = tf.layers.batch_normalization(layer)\n",
    "            layer = tf.layers.dense(layer, 512, activation=tf.nn.relu)\n",
    "            layer = tf.layers.dense(layer, 256, activation=tf.nn.relu)\n",
    "            layer = tf.layers.dense(layer, 256, activation=tf.nn.relu)\n",
    "            layer = tf.layers.dense(layer, 64, activation=tf.nn.relu)\n",
    "            layer = tf.layers.dense(layer, self.action_size)\n",
    "        return layer"
   ]
  },
  {
   "cell_type": "code",
   "execution_count": 6,
   "metadata": {},
   "outputs": [
    {
     "name": "stdout",
     "output_type": "stream",
     "text": [
      "Action space: 3\n"
     ]
    },
    {
     "name": "stderr",
     "output_type": "stream",
     "text": [
      "COMET INFO: old comet version (1.0.45) detected. current: 1.0.47 please update your comet lib with command: `pip install --no-cache-dir --upgrade comet_ml`\n",
      "COMET INFO: Experiment is live on comet.ml https://www.comet.ml/wwydmanski/rl-in-wifi/798efb35e12c4598951dae40c43d623d\n",
      "\n",
      " 48%|█████████████████████████████▊                                | 48/100 [00:31<00:33,  1.54it/s, mb_sent=139.42 Mb]\n"
     ]
    },
    {
     "ename": "TypeError",
     "evalue": "float() argument must be a string or a number, not 'dict'",
     "output_type": "error",
     "traceback": [
      "\u001b[1;31m---------------------------------------------------------------------------\u001b[0m",
      "\u001b[1;31mTypeError\u001b[0m                                 Traceback (most recent call last)",
      "\u001b[1;32m<ipython-input-6-6d1f33ea6f93>\u001b[0m in \u001b[0;36m<module>\u001b[1;34m()\u001b[0m\n\u001b[0;32m      6\u001b[0m \u001b[0magent\u001b[0m\u001b[1;33m.\u001b[0m\u001b[0mset_epsilon\u001b[0m\u001b[1;33m(\u001b[0m\u001b[1;36m0.9\u001b[0m\u001b[1;33m,\u001b[0m \u001b[1;36m0.01\u001b[0m\u001b[1;33m,\u001b[0m \u001b[1;36m25\u001b[0m\u001b[1;33m)\u001b[0m\u001b[1;33m\u001b[0m\u001b[0m\n\u001b[0;32m      7\u001b[0m \u001b[0mteacher\u001b[0m \u001b[1;33m=\u001b[0m \u001b[0mTeacher\u001b[0m\u001b[1;33m(\u001b[0m\u001b[0magent\u001b[0m\u001b[1;33m,\u001b[0m \u001b[0menv\u001b[0m\u001b[1;33m,\u001b[0m \u001b[1;36m1\u001b[0m\u001b[1;33m)\u001b[0m\u001b[1;33m\u001b[0m\u001b[0m\n\u001b[1;32m----> 8\u001b[1;33m \u001b[0mteacher\u001b[0m\u001b[1;33m.\u001b[0m\u001b[0mtrain\u001b[0m\u001b[1;33m(\u001b[0m\u001b[0mEPISODE_COUNT\u001b[0m\u001b[1;33m,\u001b[0m \u001b[0msimTime\u001b[0m\u001b[1;33m,\u001b[0m \u001b[0mstepTime\u001b[0m\u001b[1;33m,\u001b[0m \u001b[1;34m\"Inp: window Mb sent\"\u001b[0m\u001b[1;33m,\u001b[0m \u001b[1;34m\"Rew: normalized speed\"\u001b[0m\u001b[1;33m,\u001b[0m \u001b[1;34m\"Warmup\"\u001b[0m\u001b[1;33m,\u001b[0m \u001b[1;34m\"Reward - 1/2\"\u001b[0m\u001b[1;33m,\u001b[0m \u001b[1;34m\"DQN\"\u001b[0m\u001b[1;33m)\u001b[0m\u001b[1;33m\u001b[0m\u001b[0m\n\u001b[0m\u001b[0;32m      9\u001b[0m \u001b[1;33m\u001b[0m\u001b[0m\n\u001b[0;32m     10\u001b[0m \u001b[0mSCRIPT_RUNNING\u001b[0m \u001b[1;33m=\u001b[0m \u001b[1;32mFalse\u001b[0m\u001b[1;33m\u001b[0m\u001b[0m\n",
      "\u001b[1;32mD:\\Programy\\ns-allinone-3.29\\ns-3.29\\scratch\\linear-mesh\\agents\\teacher.py\u001b[0m in \u001b[0;36mtrain\u001b[1;34m(self, EPISODE_COUNT, simTime, stepTime, *tags, **parameters)\u001b[0m\n\u001b[0;32m     55\u001b[0m                     \u001b[0mcumulative_reward\u001b[0m \u001b[1;33m+=\u001b[0m \u001b[0mreward\u001b[0m\u001b[1;33m\u001b[0m\u001b[0m\n\u001b[0;32m     56\u001b[0m \u001b[1;33m\u001b[0m\u001b[0m\n\u001b[1;32m---> 57\u001b[1;33m                     \u001b[0msent_mb\u001b[0m \u001b[1;33m+=\u001b[0m \u001b[0mfloat\u001b[0m\u001b[1;33m(\u001b[0m\u001b[0minfo\u001b[0m\u001b[1;33m)\u001b[0m\u001b[1;33m\u001b[0m\u001b[0m\n\u001b[0m\u001b[0;32m     58\u001b[0m \u001b[1;33m\u001b[0m\u001b[0m\n\u001b[0;32m     59\u001b[0m                     \u001b[1;32mif\u001b[0m \u001b[0mactions\u001b[0m\u001b[1;33m[\u001b[0m\u001b[1;36m0\u001b[0m\u001b[1;33m]\u001b[0m\u001b[1;33m==\u001b[0m\u001b[1;36m0\u001b[0m\u001b[1;33m:\u001b[0m\u001b[1;33m\u001b[0m\u001b[0m\n",
      "\u001b[1;31mTypeError\u001b[0m: float() argument must be a string or a number, not 'dict'"
     ]
    }
   ],
   "source": [
    "if not SCRIPT_RUNNING:\n",
    "    subprocess.Popen(['bash', '-c', script_exec_command])\n",
    "    SCRIPT_RUNNING = True\n",
    "\n",
    "agent = Agent(Network, history_length, 3)\n",
    "agent.set_epsilon(0.9, 0.01, 25)\n",
    "teacher = Teacher(agent, env, 1)\n",
    "teacher.train(EPISODE_COUNT, simTime, stepTime, \"Inp: window Mb sent\", \"Rew: normalized speed\", \"Warmup\", \"Reward - 1/2\", \"DQN\")\n",
    "\n",
    "SCRIPT_RUNNING = False"
   ]
  },
  {
   "cell_type": "code",
   "execution_count": null,
   "metadata": {},
   "outputs": [],
   "source": []
  }
 ],
 "metadata": {
  "kernelspec": {
   "display_name": "Python 3",
   "language": "python",
   "name": "python3"
  },
  "language_info": {
   "codemirror_mode": {
    "name": "ipython",
    "version": 3
   },
   "file_extension": ".py",
   "mimetype": "text/x-python",
   "name": "python",
   "nbconvert_exporter": "python",
   "pygments_lexer": "ipython3",
   "version": "3.6.5"
  }
 },
 "nbformat": 4,
 "nbformat_minor": 2
}
