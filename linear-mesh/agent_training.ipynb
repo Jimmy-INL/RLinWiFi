{
 "cells": [
  {
   "cell_type": "code",
   "execution_count": 1,
   "metadata": {},
   "outputs": [
    {
     "name": "stderr",
     "output_type": "stream",
     "text": [
      "C:\\ProgramData\\Anaconda3\\lib\\site-packages\\requests\\__init__.py:80: RequestsDependencyWarning: urllib3 (1.24.1) or chardet (3.0.4) doesn't match a supported version!\n",
      "  RequestsDependencyWarning)\n",
      "C:\\ProgramData\\Anaconda3\\lib\\site-packages\\h5py\\__init__.py:36: FutureWarning: Conversion of the second argument of issubdtype from `float` to `np.floating` is deprecated. In future, it will be treated as `np.float64 == np.dtype(float).type`.\n",
      "  from ._conv import register_converters as _register_converters\n"
     ]
    }
   ],
   "source": [
    "from ns3gym import ns3env\n",
    "from comet_ml import Experiment, Optimizer\n",
    "import tqdm\n",
    "import subprocess\n",
    "from collections import deque\n",
    "import numpy as np\n",
    "\n",
    "from agents.ddpg.agent import Agent, Config\n",
    "# from agents.dqn.agent import Agent, Config\n",
    "# from agents.dqn.model import QNetworkTf\n",
    "from agents.teacher import Teacher, EnvWrapper"
   ]
  },
  {
   "cell_type": "markdown",
   "metadata": {},
   "source": [
    "### Basic constants and setting up environment"
   ]
  },
  {
   "cell_type": "code",
   "execution_count": 2,
   "metadata": {},
   "outputs": [
    {
     "name": "stdout",
     "output_type": "stream",
     "text": [
      "Steps per episode: 1000\n"
     ]
    }
   ],
   "source": [
    "scenario = \"convergence\"\n",
    "\n",
    "simTime = 10 # seconds\n",
    "stepTime = 0.01  # seconds\n",
    "history_length = 10\n",
    "\n",
    "\n",
    "EPISODE_COUNT = 20\n",
    "steps_per_ep = int(simTime/stepTime)\n",
    "\n",
    "sim_args = {\n",
    "    \"simTime\": simTime,\n",
    "    \"envStepTime\": stepTime,\n",
    "    \"historyLength\": 10,\n",
    "    \"agentType\": Agent.TYPE,\n",
    "    \"nonZeroStart\": True,\n",
    "    \"scenario\": \"convergence\",\n",
    "    \"nWifi\": 7\n",
    "}\n",
    "print(\"Steps per episode:\", steps_per_ep)\n",
    "\n",
    "threads_no = 1\n",
    "env = EnvWrapper(threads_no, **sim_args)"
   ]
  },
  {
   "cell_type": "code",
   "execution_count": 3,
   "metadata": {},
   "outputs": [],
   "source": [
    "# config = Config(buffer_size=2e3, batch_size=64, gamma=0.99, tau=1e-3, lr=5e-4)\n",
    "config = Config(buffer_size=1.5e4*threads_no, batch_size=512, gamma=0.99, tau=1e-3, lr_actor=6e-5, lr_critic=1e-3)"
   ]
  },
  {
   "cell_type": "code",
   "execution_count": 4,
   "metadata": {},
   "outputs": [
    {
     "name": "stdout",
     "output_type": "stream",
     "text": [
      "Observation space shape: (1, 'Box(10,)')\n",
      "Action space shape: (1, 'Box(1,)')\n"
     ]
    }
   ],
   "source": [
    "env.reset()\n",
    "ob_space = env.observation_space\n",
    "ac_space = env.action_space\n",
    "\n",
    "print(\"Observation space shape:\", ob_space)\n",
    "print(\"Action space shape:\", ac_space)\n",
    "\n",
    "assert ob_space is not None"
   ]
  },
  {
   "cell_type": "markdown",
   "metadata": {},
   "source": [
    "### Creating and training agent"
   ]
  },
  {
   "cell_type": "code",
   "execution_count": 5,
   "metadata": {},
   "outputs": [],
   "source": [
    "# import tensorflow as tf\n",
    "\n",
    "# class Network(QNetworkTf):\n",
    "#     def _inference(self):\n",
    "#         with tf.variable_scope(\"inference_\"+self.name):\n",
    "#             layer = tf.layers.dense(self.input, 128, activation=tf.nn.relu)\n",
    "# #             layer = tf.layers.dense(layer, 128, activation=tf.nn.relu)\n",
    "# #             layer = tf.layers.batch_normalization(layer)\n",
    "#             layer = tf.layers.dense(layer, 64, activation=tf.nn.relu)\n",
    "#             layer = tf.layers.dense(layer, 32, activation=tf.nn.relu)\n",
    "# #             layer = tf.layers.dense(layer, 256, activation=tf.nn.relu)\n",
    "# #             layer = tf.layers.dense(layer, 64, activation=tf.nn.relu)\n",
    "#             layer = tf.layers.dense(layer, self.action_size)\n",
    "#         return layer"
   ]
  },
  {
   "cell_type": "code",
   "execution_count": 6,
   "metadata": {},
   "outputs": [
    {
     "ename": "ValidationError",
     "evalue": "Invalid PCS configuration file, please fix it and retry.",
     "output_type": "error",
     "traceback": [
      "\u001b[1;31m---------------------------------------------------------------------------\u001b[0m",
      "\u001b[1;31mValidationError\u001b[0m                           Traceback (most recent call last)",
      "\u001b[1;32m<ipython-input-6-9b607bd09271>\u001b[0m in \u001b[0;36m<module>\u001b[1;34m()\u001b[0m\n\u001b[0;32m      4\u001b[0m \u001b[0mbuffer_size\u001b[0m \u001b[0mordinal\u001b[0m \u001b[1;33m{\u001b[0m\u001b[1;36m3e4\u001b[0m\u001b[1;33m,\u001b[0m \u001b[1;36m3.5e4\u001b[0m\u001b[1;33m}\u001b[0m \u001b[1;33m[\u001b[0m\u001b[1;36m1.5e4\u001b[0m\u001b[1;33m]\u001b[0m\u001b[1;33m\u001b[0m\u001b[0m\n\u001b[0;32m      5\u001b[0m \"\"\"\n\u001b[1;32m----> 6\u001b[1;33m \u001b[0moptimizer\u001b[0m\u001b[1;33m.\u001b[0m\u001b[0mset_params\u001b[0m\u001b[1;33m(\u001b[0m\u001b[0mparams\u001b[0m\u001b[1;33m)\u001b[0m\u001b[1;33m\u001b[0m\u001b[0m\n\u001b[0m\u001b[0;32m      7\u001b[0m \u001b[1;33m\u001b[0m\u001b[0m\n\u001b[0;32m      8\u001b[0m \u001b[0magent\u001b[0m \u001b[1;33m=\u001b[0m \u001b[0mAgent\u001b[0m\u001b[1;33m(\u001b[0m\u001b[0mhistory_length\u001b[0m\u001b[1;33m,\u001b[0m \u001b[0maction_size\u001b[0m\u001b[1;33m=\u001b[0m\u001b[1;36m1\u001b[0m\u001b[1;33m,\u001b[0m \u001b[0mconfig\u001b[0m\u001b[1;33m=\u001b[0m\u001b[0mconfig\u001b[0m\u001b[1;33m)\u001b[0m\u001b[1;33m\u001b[0m\u001b[0m\n",
      "\u001b[1;32mC:\\ProgramData\\Anaconda3\\lib\\site-packages\\comet_ml\\__init__.py\u001b[0m in \u001b[0;36mset_params\u001b[1;34m(self, pcs_content)\u001b[0m\n\u001b[0;32m    704\u001b[0m                          \u001b[0msignificant\u001b[0m\u001b[1;33m.\u001b[0m\u001b[1;33m\u001b[0m\u001b[0m\n\u001b[0;32m    705\u001b[0m         \"\"\"\n\u001b[1;32m--> 706\u001b[1;33m         \u001b[0mself\u001b[0m\u001b[1;33m.\u001b[0m\u001b[0m_send_params\u001b[0m\u001b[1;33m(\u001b[0m\u001b[0mpcs_content\u001b[0m\u001b[1;33m)\u001b[0m\u001b[1;33m\u001b[0m\u001b[0m\n\u001b[0m\u001b[0;32m    707\u001b[0m \u001b[1;33m\u001b[0m\u001b[0m\n\u001b[0;32m    708\u001b[0m     \u001b[1;32mdef\u001b[0m \u001b[0m_send_params\u001b[0m\u001b[1;33m(\u001b[0m\u001b[0mself\u001b[0m\u001b[1;33m,\u001b[0m \u001b[0mpcs_content\u001b[0m\u001b[1;33m)\u001b[0m\u001b[1;33m:\u001b[0m\u001b[1;33m\u001b[0m\u001b[0m\n",
      "\u001b[1;32mC:\\ProgramData\\Anaconda3\\lib\\site-packages\\comet_ml\\__init__.py\u001b[0m in \u001b[0;36m_send_params\u001b[1;34m(self, pcs_content)\u001b[0m\n\u001b[0;32m    735\u001b[0m                     \u001b[0merror\u001b[0m \u001b[1;33m=\u001b[0m \u001b[0mdata\u001b[0m\u001b[1;33m.\u001b[0m\u001b[0mget\u001b[0m\u001b[1;33m(\u001b[0m\u001b[1;34m\"error\"\u001b[0m\u001b[1;33m)\u001b[0m\u001b[1;33m\u001b[0m\u001b[0m\n\u001b[0;32m    736\u001b[0m                     \u001b[1;32mif\u001b[0m \u001b[0merror\u001b[0m\u001b[1;33m:\u001b[0m\u001b[1;33m\u001b[0m\u001b[0m\n\u001b[1;32m--> 737\u001b[1;33m                         \u001b[0msix\u001b[0m\u001b[1;33m.\u001b[0m\u001b[0mraise_from\u001b[0m\u001b[1;33m(\u001b[0m\u001b[0mValidationError\u001b[0m\u001b[1;33m(\u001b[0m\u001b[0merror\u001b[0m\u001b[1;33m)\u001b[0m\u001b[1;33m,\u001b[0m \u001b[1;32mNone\u001b[0m\u001b[1;33m)\u001b[0m\u001b[1;33m\u001b[0m\u001b[0m\n\u001b[0m\u001b[0;32m    738\u001b[0m                 \u001b[1;32mexcept\u001b[0m \u001b[0mValueError\u001b[0m\u001b[1;33m:\u001b[0m\u001b[1;33m\u001b[0m\u001b[0m\n\u001b[0;32m    739\u001b[0m                     \u001b[1;32mpass\u001b[0m\u001b[1;33m\u001b[0m\u001b[0m\n",
      "\u001b[1;32mC:\\ProgramData\\Anaconda3\\lib\\site-packages\\six.py\u001b[0m in \u001b[0;36mraise_from\u001b[1;34m(value, from_value)\u001b[0m\n",
      "\u001b[1;31mValidationError\u001b[0m: Invalid PCS configuration file, please fix it and retry."
     ]
    }
   ],
   "source": [
    "optimizer = Optimizer(\"OZwyhJHyqzPZgHEpDFL1zxhyI\")\n",
    "  # Declare your hyper-parameters:\n",
    "params = \"\"\"\n",
    "buffer_size ordinal {3e4, 3.5e4} [3e4]\n",
    "\"\"\"\n",
    "optimizer.set_params(params)\n",
    "\n",
    "agent = Agent(history_length, action_size=1, config=config)\n",
    "# agent = Agent(Network, history_length, action_size=3, config=config)\n",
    "# agent.set_epsilon(0.9, 0.01, 25)\n",
    "teacher = Teacher(agent, env, 1)\n",
    "# teacher.train(EPISODE_COUNT, simTime, stepTime, \"Inp: window Mb sent\", \"Rew: normalized speed\", \"DQN\", \"Convergence\", \"Instances: 2\", \"Net: 128, 64, 32\")\n",
    "\n",
    "while True:\n",
    "    # Get a suggestion\n",
    "    suggestion = optimizer.get_suggestion()\n",
    "    config = Config(buffer_size=suggestion[\"buffer_size\"]*threads_no, batch_size=512, gamma=0.99, tau=1e-3, lr_actor=6e-5, lr_critic=1e-3)\n",
    "\n",
    "    # Test the model\n",
    "    logger = teacher.train(EPISODE_COUNT, simTime, stepTime, \"Inp: collisions mb\", \"Rew: normalized speed\", \"DDPG\", \"Convergence\", \"Actor: 256, 128, 64\", \"Critic: 512, 256, 128\", f\"Instances: {threads_no}\", f\"Buffer size: {suggestion['buffer_size']}\",\n",
    "                          **config.__dict__)\n",
    "    \n",
    "    # Report the score back\n",
    "    suggestion.report_score(\"last_speed\", logger.last_speed)\n",
    "\n",
    "\n",
    "SCRIPT_RUNNING = False"
   ]
  },
  {
   "cell_type": "code",
   "execution_count": null,
   "metadata": {},
   "outputs": [],
   "source": [
    "config.__dict__"
   ]
  }
 ],
 "metadata": {
  "kernelspec": {
   "display_name": "Python 3",
   "language": "python",
   "name": "python3"
  },
  "language_info": {
   "codemirror_mode": {
    "name": "ipython",
    "version": 3
   },
   "file_extension": ".py",
   "mimetype": "text/x-python",
   "name": "python",
   "nbconvert_exporter": "python",
   "pygments_lexer": "ipython3",
   "version": "3.6.5"
  }
 },
 "nbformat": 4,
 "nbformat_minor": 2
}
