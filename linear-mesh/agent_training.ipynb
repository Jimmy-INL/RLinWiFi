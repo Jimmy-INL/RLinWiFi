{
 "cells": [
  {
   "cell_type": "code",
   "execution_count": 1,
   "metadata": {},
   "outputs": [
    {
     "name": "stderr",
     "output_type": "stream",
     "text": [
      "C:\\ProgramData\\Anaconda3\\lib\\site-packages\\requests\\__init__.py:80: RequestsDependencyWarning: urllib3 (1.24.1) or chardet (3.0.4) doesn't match a supported version!\n",
      "  RequestsDependencyWarning)\n",
      "C:\\ProgramData\\Anaconda3\\lib\\site-packages\\h5py\\__init__.py:36: FutureWarning: Conversion of the second argument of issubdtype from `float` to `np.floating` is deprecated. In future, it will be treated as `np.float64 == np.dtype(float).type`.\n",
      "  from ._conv import register_converters as _register_converters\n"
     ]
    }
   ],
   "source": [
    "from ns3gym import ns3env\n",
    "from comet_ml import Experiment\n",
    "import tqdm\n",
    "import subprocess\n",
    "from collections import deque\n",
    "import numpy as np\n",
    "\n",
    "from agents.ddpg.agent import Agent, Config\n",
    "# from agents.dqn.agent import Agent, Config\n",
    "# from agents.dqn.model import QNetworkTf\n",
    "from agents.teacher import Teacher"
   ]
  },
  {
   "cell_type": "markdown",
   "metadata": {},
   "source": [
    "### Basic constants and setting up environment"
   ]
  },
  {
   "cell_type": "code",
   "execution_count": 2,
   "metadata": {},
   "outputs": [],
   "source": [
    "# config = Config(buffer_size=2e3, batch_size=64, gamma=0.99, tau=1e-3, lr=5e-4)\n",
    "config = Config(buffer_size=2.6e3, batch_size=64, gamma=0.99, tau=1e-3, lr_actor=6e-5, lr_critic=6e-4)"
   ]
  },
  {
   "cell_type": "code",
   "execution_count": 3,
   "metadata": {},
   "outputs": [
    {
     "name": "stdout",
     "output_type": "stream",
     "text": [
      "Steps per episode: 100\n"
     ]
    }
   ],
   "source": [
    "scenario = \"convergence\"\n",
    "\n",
    "simTime = 10 # seconds\n",
    "stepTime = 0.1  # seconds\n",
    "history_length = 10\n",
    "\n",
    "\n",
    "EPISODE_COUNT = 30\n",
    "steps_per_ep = int(simTime/stepTime)\n",
    "\n",
    "SCRIPT_RUNNING = False\n",
    "\n",
    "script_exec_command = f'../../waf --run \"linear-mesh --simTime={simTime} --envStepTime={stepTime} --historyLength={history_length} --agentType={Agent.TYPE} --nonZeroStart --scenario={scenario} --nWifi=7\"'\n",
    "print(\"Steps per episode:\", steps_per_ep)"
   ]
  },
  {
   "cell_type": "code",
   "execution_count": 4,
   "metadata": {},
   "outputs": [
    {
     "name": "stdout",
     "output_type": "stream",
     "text": [
      "Waiting for simulation script to connect on port: tcp://localhost:5555\n",
      "Please start proper ns-3 simulation script using ./waf --run \"...\"\n"
     ]
    }
   ],
   "source": [
    "port = 5555\n",
    "seed = 0\n",
    "\n",
    "simArgs = {\"--simTime\": simTime,\n",
    "           \"--testArg\": 123,\n",
    "           \"--nodeNum\": 5,\n",
    "           \"--distance\": 500}\n",
    "debug = False\n",
    "\n",
    "subprocess.Popen(['bash', '-c', script_exec_command])\n",
    "SCRIPT_RUNNING = True\n",
    "\n",
    "env = ns3env.Ns3Env(port=port, stepTime=stepTime, startSim=0, simSeed=seed, simArgs=simArgs, debug=debug)"
   ]
  },
  {
   "cell_type": "code",
   "execution_count": 5,
   "metadata": {},
   "outputs": [
    {
     "name": "stdout",
     "output_type": "stream",
     "text": [
      "Observation space shape: Box(10,)\n",
      "Action space shape: Box(1,)\n"
     ]
    }
   ],
   "source": [
    "env.reset()\n",
    "ob_space = env.observation_space\n",
    "ac_space = env.action_space\n",
    "\n",
    "print(\"Observation space shape:\", ob_space)\n",
    "print(\"Action space shape:\", ac_space)\n",
    "\n",
    "assert ob_space is not None"
   ]
  },
  {
   "cell_type": "markdown",
   "metadata": {},
   "source": [
    "### Creating and training agent"
   ]
  },
  {
   "cell_type": "code",
   "execution_count": 6,
   "metadata": {},
   "outputs": [],
   "source": [
    "# import tensorflow as tf\n",
    "\n",
    "# class Network(QNetworkTf):\n",
    "#     def _inference(self):\n",
    "#         with tf.variable_scope(\"inference_\"+self.name):\n",
    "#             layer = tf.layers.dense(self.input, 1024, activation=tf.nn.relu)\n",
    "#             layer = tf.layers.dense(layer, 512, activation=tf.nn.relu)\n",
    "# #             layer = tf.layers.batch_normalization(layer)\n",
    "#             layer = tf.layers.dense(layer, 512, activation=tf.nn.relu)\n",
    "#             layer = tf.layers.dense(layer, 256, activation=tf.nn.relu)\n",
    "#             layer = tf.layers.dense(layer, 256, activation=tf.nn.relu)\n",
    "#             layer = tf.layers.dense(layer, 64, activation=tf.nn.relu)\n",
    "#             layer = tf.layers.dense(layer, self.action_size)\n",
    "#         return layer"
   ]
  },
  {
   "cell_type": "code",
   "execution_count": 7,
   "metadata": {},
   "outputs": [
    {
     "name": "stderr",
     "output_type": "stream",
     "text": [
      "COMET INFO: old comet version (1.0.45) detected. current: 1.0.49 please update your comet lib with command: `pip install --no-cache-dir --upgrade comet_ml`\n",
      "COMET INFO: Experiment is live on comet.ml https://www.comet.ml/wwydmanski/rl-in-wifi/2c318bd0359d44fca41b0075d118d23c\n",
      "\n",
      " 68%|██████████████████████████████████████████▏                   | 68/100 [02:07<01:00,  1.88s/it, mb_sent=191.48 Mb]"
     ]
    },
    {
     "name": "stdout",
     "output_type": "stream",
     "text": [
      "------- STARTED TRAINING -------\n"
     ]
    },
    {
     "name": "stderr",
     "output_type": "stream",
     "text": [
      "100%|█████████████████████████████████████████████████████████████| 100/100 [02:52<00:00,  1.73s/it, mb_sent=265.24 Mb]\n"
     ]
    },
    {
     "name": "stdout",
     "output_type": "stream",
     "text": [
      "Sent 265.24 Mb/s.\tMean speed: 26.52 Mb/s\tEpisode 1/30 finished\n",
      "\n",
      "Waiting for simulation script to connect on port: tcp://localhost:5555\n",
      "Please start proper ns-3 simulation script using ./waf --run \"...\"\n"
     ]
    },
    {
     "name": "stderr",
     "output_type": "stream",
     "text": [
      "100%|█████████████████████████████████████████████████████████████| 100/100 [02:55<00:00,  1.75s/it, mb_sent=291.97 Mb]\n"
     ]
    },
    {
     "name": "stdout",
     "output_type": "stream",
     "text": [
      "Sent 291.97 Mb/s.\tMean speed: 29.20 Mb/s\tEpisode 2/30 finished\n",
      "\n",
      "Waiting for simulation script to connect on port: tcp://localhost:5555\n",
      "Please start proper ns-3 simulation script using ./waf --run \"...\"\n"
     ]
    },
    {
     "name": "stderr",
     "output_type": "stream",
     "text": [
      "100%|█████████████████████████████████████████████████████████████| 100/100 [03:12<00:00,  1.92s/it, mb_sent=316.88 Mb]\n"
     ]
    },
    {
     "name": "stdout",
     "output_type": "stream",
     "text": [
      "Sent 316.88 Mb/s.\tMean speed: 31.69 Mb/s\tEpisode 3/30 finished\n",
      "\n",
      "Waiting for simulation script to connect on port: tcp://localhost:5555\n",
      "Please start proper ns-3 simulation script using ./waf --run \"...\"\n"
     ]
    },
    {
     "name": "stderr",
     "output_type": "stream",
     "text": [
      "100%|█████████████████████████████████████████████████████████████| 100/100 [03:00<00:00,  1.81s/it, mb_sent=302.05 Mb]\n"
     ]
    },
    {
     "name": "stdout",
     "output_type": "stream",
     "text": [
      "Sent 302.05 Mb/s.\tMean speed: 30.21 Mb/s\tEpisode 4/30 finished\n",
      "\n",
      "Waiting for simulation script to connect on port: tcp://localhost:5555\n",
      "Please start proper ns-3 simulation script using ./waf --run \"...\"\n"
     ]
    },
    {
     "name": "stderr",
     "output_type": "stream",
     "text": [
      "100%|█████████████████████████████████████████████████████████████| 100/100 [02:59<00:00,  1.79s/it, mb_sent=311.05 Mb]\n"
     ]
    },
    {
     "name": "stdout",
     "output_type": "stream",
     "text": [
      "Sent 311.05 Mb/s.\tMean speed: 31.10 Mb/s\tEpisode 5/30 finished\n",
      "\n",
      "Waiting for simulation script to connect on port: tcp://localhost:5555\n",
      "Please start proper ns-3 simulation script using ./waf --run \"...\"\n"
     ]
    },
    {
     "name": "stderr",
     "output_type": "stream",
     "text": [
      "100%|█████████████████████████████████████████████████████████████| 100/100 [03:01<00:00,  1.82s/it, mb_sent=320.72 Mb]\n"
     ]
    },
    {
     "name": "stdout",
     "output_type": "stream",
     "text": [
      "Sent 320.72 Mb/s.\tMean speed: 32.07 Mb/s\tEpisode 6/30 finished\n",
      "\n",
      "Waiting for simulation script to connect on port: tcp://localhost:5555\n",
      "Please start proper ns-3 simulation script using ./waf --run \"...\"\n"
     ]
    },
    {
     "name": "stderr",
     "output_type": "stream",
     "text": [
      "100%|█████████████████████████████████████████████████████████████| 100/100 [03:07<00:00,  1.87s/it, mb_sent=327.16 Mb]\n"
     ]
    },
    {
     "name": "stdout",
     "output_type": "stream",
     "text": [
      "Sent 327.16 Mb/s.\tMean speed: 32.72 Mb/s\tEpisode 7/30 finished\n",
      "\n",
      "Waiting for simulation script to connect on port: tcp://localhost:5555\n",
      "Please start proper ns-3 simulation script using ./waf --run \"...\"\n"
     ]
    },
    {
     "name": "stderr",
     "output_type": "stream",
     "text": [
      "100%|█████████████████████████████████████████████████████████████| 100/100 [03:02<00:00,  1.83s/it, mb_sent=328.55 Mb]\n"
     ]
    },
    {
     "name": "stdout",
     "output_type": "stream",
     "text": [
      "Sent 328.55 Mb/s.\tMean speed: 32.85 Mb/s\tEpisode 8/30 finished\n",
      "\n",
      "Waiting for simulation script to connect on port: tcp://localhost:5555\n",
      "Please start proper ns-3 simulation script using ./waf --run \"...\"\n"
     ]
    },
    {
     "name": "stderr",
     "output_type": "stream",
     "text": [
      "100%|█████████████████████████████████████████████████████████████| 100/100 [03:11<00:00,  1.92s/it, mb_sent=339.71 Mb]\n"
     ]
    },
    {
     "name": "stdout",
     "output_type": "stream",
     "text": [
      "Sent 339.71 Mb/s.\tMean speed: 33.97 Mb/s\tEpisode 9/30 finished\n",
      "\n",
      "Waiting for simulation script to connect on port: tcp://localhost:5555\n",
      "Please start proper ns-3 simulation script using ./waf --run \"...\"\n"
     ]
    },
    {
     "name": "stderr",
     "output_type": "stream",
     "text": [
      "100%|█████████████████████████████████████████████████████████████| 100/100 [03:14<00:00,  1.94s/it, mb_sent=350.72 Mb]\n"
     ]
    },
    {
     "name": "stdout",
     "output_type": "stream",
     "text": [
      "Sent 350.72 Mb/s.\tMean speed: 35.07 Mb/s\tEpisode 10/30 finished\n",
      "\n",
      "Waiting for simulation script to connect on port: tcp://localhost:5555\n",
      "Please start proper ns-3 simulation script using ./waf --run \"...\"\n"
     ]
    },
    {
     "name": "stderr",
     "output_type": "stream",
     "text": [
      "100%|█████████████████████████████████████████████████████████████| 100/100 [03:17<00:00,  1.98s/it, mb_sent=360.76 Mb]\n"
     ]
    },
    {
     "name": "stdout",
     "output_type": "stream",
     "text": [
      "Sent 360.76 Mb/s.\tMean speed: 36.08 Mb/s\tEpisode 11/30 finished\n",
      "\n",
      "Waiting for simulation script to connect on port: tcp://localhost:5555\n",
      "Please start proper ns-3 simulation script using ./waf --run \"...\"\n"
     ]
    },
    {
     "name": "stderr",
     "output_type": "stream",
     "text": [
      "100%|█████████████████████████████████████████████████████████████| 100/100 [03:28<00:00,  2.08s/it, mb_sent=375.29 Mb]\n"
     ]
    },
    {
     "name": "stdout",
     "output_type": "stream",
     "text": [
      "Sent 375.29 Mb/s.\tMean speed: 37.53 Mb/s\tEpisode 12/30 finished\n",
      "\n",
      "Waiting for simulation script to connect on port: tcp://localhost:5555\n",
      "Please start proper ns-3 simulation script using ./waf --run \"...\"\n"
     ]
    },
    {
     "name": "stderr",
     "output_type": "stream",
     "text": [
      "100%|█████████████████████████████████████████████████████████████| 100/100 [03:39<00:00,  2.20s/it, mb_sent=376.57 Mb]\n"
     ]
    },
    {
     "name": "stdout",
     "output_type": "stream",
     "text": [
      "Sent 376.57 Mb/s.\tMean speed: 37.66 Mb/s\tEpisode 13/30 finished\n",
      "\n",
      "Waiting for simulation script to connect on port: tcp://localhost:5555\n",
      "Please start proper ns-3 simulation script using ./waf --run \"...\"\n"
     ]
    },
    {
     "name": "stderr",
     "output_type": "stream",
     "text": [
      "100%|█████████████████████████████████████████████████████████████| 100/100 [03:34<00:00,  2.14s/it, mb_sent=382.97 Mb]\n"
     ]
    },
    {
     "name": "stdout",
     "output_type": "stream",
     "text": [
      "Sent 382.97 Mb/s.\tMean speed: 38.30 Mb/s\tEpisode 14/30 finished\n",
      "\n",
      "Waiting for simulation script to connect on port: tcp://localhost:5555\n",
      "Please start proper ns-3 simulation script using ./waf --run \"...\"\n"
     ]
    },
    {
     "name": "stderr",
     "output_type": "stream",
     "text": [
      "100%|█████████████████████████████████████████████████████████████| 100/100 [03:33<00:00,  2.13s/it, mb_sent=384.09 Mb]\n"
     ]
    },
    {
     "name": "stdout",
     "output_type": "stream",
     "text": [
      "Sent 384.09 Mb/s.\tMean speed: 38.41 Mb/s\tEpisode 15/30 finished\n",
      "\n",
      "Waiting for simulation script to connect on port: tcp://localhost:5555\n",
      "Please start proper ns-3 simulation script using ./waf --run \"...\"\n"
     ]
    },
    {
     "name": "stderr",
     "output_type": "stream",
     "text": [
      "100%|█████████████████████████████████████████████████████████████| 100/100 [03:31<00:00,  2.11s/it, mb_sent=382.87 Mb]\n"
     ]
    },
    {
     "name": "stdout",
     "output_type": "stream",
     "text": [
      "Sent 382.87 Mb/s.\tMean speed: 38.29 Mb/s\tEpisode 16/30 finished\n",
      "\n",
      "Waiting for simulation script to connect on port: tcp://localhost:5555\n",
      "Please start proper ns-3 simulation script using ./waf --run \"...\"\n"
     ]
    },
    {
     "name": "stderr",
     "output_type": "stream",
     "text": [
      "100%|█████████████████████████████████████████████████████████████| 100/100 [03:33<00:00,  2.14s/it, mb_sent=383.31 Mb]\n"
     ]
    },
    {
     "name": "stdout",
     "output_type": "stream",
     "text": [
      "Sent 383.31 Mb/s.\tMean speed: 38.33 Mb/s\tEpisode 17/30 finished\n",
      "\n",
      "Waiting for simulation script to connect on port: tcp://localhost:5555\n",
      "Please start proper ns-3 simulation script using ./waf --run \"...\"\n"
     ]
    },
    {
     "name": "stderr",
     "output_type": "stream",
     "text": [
      "100%|█████████████████████████████████████████████████████████████| 100/100 [03:34<00:00,  2.15s/it, mb_sent=383.48 Mb]\n"
     ]
    },
    {
     "name": "stdout",
     "output_type": "stream",
     "text": [
      "Sent 383.48 Mb/s.\tMean speed: 38.35 Mb/s\tEpisode 18/30 finished\n",
      "\n",
      "Waiting for simulation script to connect on port: tcp://localhost:5555\n",
      "Please start proper ns-3 simulation script using ./waf --run \"...\"\n"
     ]
    },
    {
     "name": "stderr",
     "output_type": "stream",
     "text": [
      "100%|█████████████████████████████████████████████████████████████| 100/100 [03:35<00:00,  2.16s/it, mb_sent=386.50 Mb]\n"
     ]
    },
    {
     "name": "stdout",
     "output_type": "stream",
     "text": [
      "Sent 386.50 Mb/s.\tMean speed: 38.65 Mb/s\tEpisode 19/30 finished\n",
      "\n",
      "Waiting for simulation script to connect on port: tcp://localhost:5555\n",
      "Please start proper ns-3 simulation script using ./waf --run \"...\"\n"
     ]
    },
    {
     "name": "stderr",
     "output_type": "stream",
     "text": [
      "100%|█████████████████████████████████████████████████████████████| 100/100 [03:42<00:00,  2.22s/it, mb_sent=386.24 Mb]\n"
     ]
    },
    {
     "name": "stdout",
     "output_type": "stream",
     "text": [
      "Sent 386.24 Mb/s.\tMean speed: 38.62 Mb/s\tEpisode 20/30 finished\n",
      "\n",
      "Waiting for simulation script to connect on port: tcp://localhost:5555\n",
      "Please start proper ns-3 simulation script using ./waf --run \"...\"\n"
     ]
    },
    {
     "name": "stderr",
     "output_type": "stream",
     "text": [
      "100%|█████████████████████████████████████████████████████████████| 100/100 [03:33<00:00,  2.13s/it, mb_sent=386.25 Mb]\n"
     ]
    },
    {
     "name": "stdout",
     "output_type": "stream",
     "text": [
      "Sent 386.25 Mb/s.\tMean speed: 38.63 Mb/s\tEpisode 21/30 finished\n",
      "\n",
      "Waiting for simulation script to connect on port: tcp://localhost:5555\n",
      "Please start proper ns-3 simulation script using ./waf --run \"...\"\n"
     ]
    },
    {
     "name": "stderr",
     "output_type": "stream",
     "text": [
      "100%|█████████████████████████████████████████████████████████████| 100/100 [03:33<00:00,  2.14s/it, mb_sent=384.74 Mb]\n"
     ]
    },
    {
     "name": "stdout",
     "output_type": "stream",
     "text": [
      "Sent 384.74 Mb/s.\tMean speed: 38.47 Mb/s\tEpisode 22/30 finished\n",
      "\n",
      "Waiting for simulation script to connect on port: tcp://localhost:5555\n",
      "Please start proper ns-3 simulation script using ./waf --run \"...\"\n"
     ]
    },
    {
     "name": "stderr",
     "output_type": "stream",
     "text": [
      "100%|█████████████████████████████████████████████████████████████| 100/100 [03:34<00:00,  2.15s/it, mb_sent=384.40 Mb]\n"
     ]
    },
    {
     "name": "stdout",
     "output_type": "stream",
     "text": [
      "Sent 384.40 Mb/s.\tMean speed: 38.44 Mb/s\tEpisode 23/30 finished\n",
      "\n",
      "Waiting for simulation script to connect on port: tcp://localhost:5555\n",
      "Please start proper ns-3 simulation script using ./waf --run \"...\"\n"
     ]
    },
    {
     "name": "stderr",
     "output_type": "stream",
     "text": [
      "100%|█████████████████████████████████████████████████████████████| 100/100 [03:29<00:00,  2.10s/it, mb_sent=385.55 Mb]\n"
     ]
    },
    {
     "name": "stdout",
     "output_type": "stream",
     "text": [
      "Sent 385.55 Mb/s.\tMean speed: 38.55 Mb/s\tEpisode 24/30 finished\n",
      "\n",
      "Waiting for simulation script to connect on port: tcp://localhost:5555\n",
      "Please start proper ns-3 simulation script using ./waf --run \"...\"\n"
     ]
    },
    {
     "name": "stderr",
     "output_type": "stream",
     "text": [
      "100%|█████████████████████████████████████████████████████████████| 100/100 [03:28<00:00,  2.09s/it, mb_sent=385.12 Mb]\n"
     ]
    },
    {
     "name": "stdout",
     "output_type": "stream",
     "text": [
      "Sent 385.12 Mb/s.\tMean speed: 38.51 Mb/s\tEpisode 25/30 finished\n",
      "\n",
      "Waiting for simulation script to connect on port: tcp://localhost:5555\n",
      "Please start proper ns-3 simulation script using ./waf --run \"...\"\n"
     ]
    },
    {
     "name": "stderr",
     "output_type": "stream",
     "text": [
      "100%|█████████████████████████████████████████████████████████████| 100/100 [03:33<00:00,  2.13s/it, mb_sent=385.32 Mb]\n"
     ]
    },
    {
     "name": "stdout",
     "output_type": "stream",
     "text": [
      "Sent 385.32 Mb/s.\tMean speed: 38.53 Mb/s\tEpisode 26/30 finished\n",
      "\n",
      "Waiting for simulation script to connect on port: tcp://localhost:5555\n",
      "Please start proper ns-3 simulation script using ./waf --run \"...\"\n"
     ]
    },
    {
     "name": "stderr",
     "output_type": "stream",
     "text": [
      " 26%|████████████████▍                                              | 26/100 [00:54<02:35,  2.10s/it, mb_sent=99.90 Mb]"
     ]
    },
    {
     "name": "stdout",
     "output_type": "stream",
     "text": [
      "------- MEMORY BUFFER FILLED -------\n"
     ]
    },
    {
     "name": "stderr",
     "output_type": "stream",
     "text": [
      "100%|█████████████████████████████████████████████████████████████| 100/100 [03:31<00:00,  2.11s/it, mb_sent=385.10 Mb]\n"
     ]
    },
    {
     "name": "stdout",
     "output_type": "stream",
     "text": [
      "Sent 385.10 Mb/s.\tMean speed: 38.51 Mb/s\tEpisode 27/30 finished\n",
      "\n",
      "Waiting for simulation script to connect on port: tcp://localhost:5555\n",
      "Please start proper ns-3 simulation script using ./waf --run \"...\"\n"
     ]
    },
    {
     "name": "stderr",
     "output_type": "stream",
     "text": [
      "100%|█████████████████████████████████████████████████████████████| 100/100 [03:36<00:00,  2.17s/it, mb_sent=378.34 Mb]\n"
     ]
    },
    {
     "name": "stdout",
     "output_type": "stream",
     "text": [
      "Sent 378.34 Mb/s.\tMean speed: 37.83 Mb/s\tEpisode 28/30 finished\n",
      "\n",
      "Waiting for simulation script to connect on port: tcp://localhost:5555\n",
      "Please start proper ns-3 simulation script using ./waf --run \"...\"\n"
     ]
    },
    {
     "name": "stderr",
     "output_type": "stream",
     "text": [
      "100%|█████████████████████████████████████████████████████████████| 100/100 [03:34<00:00,  2.15s/it, mb_sent=376.31 Mb]\n"
     ]
    },
    {
     "name": "stdout",
     "output_type": "stream",
     "text": [
      "Sent 376.31 Mb/s.\tMean speed: 37.63 Mb/s\tEpisode 29/30 finished\n",
      "\n",
      "Waiting for simulation script to connect on port: tcp://localhost:5555\n",
      "Please start proper ns-3 simulation script using ./waf --run \"...\"\n"
     ]
    },
    {
     "name": "stderr",
     "output_type": "stream",
     "text": [
      "100%|█████████████████████████████████████████████████████████████| 100/100 [03:38<00:00,  2.18s/it, mb_sent=371.92 Mb]\n"
     ]
    },
    {
     "name": "stdout",
     "output_type": "stream",
     "text": [
      "Sent 371.92 Mb/s.\tMean speed: 37.19 Mb/s\tEpisode 30/30 finished\n",
      "\n"
     ]
    },
    {
     "name": "stderr",
     "output_type": "stream",
     "text": [
      "COMET INFO: ----------------------------\n",
      "COMET INFO: Comet.ml Experiment Summary:\n",
      "COMET INFO:   Metrics:\n",
      "COMET INFO:                     Chosen CW: 17.0\n",
      "COMET INFO:             Cumulative reward: -0.41069335929933004\n",
      "COMET INFO:                Megabytes sent: 371.9197999999999\n",
      "COMET INFO:                 Per-ep reward: -0.41069335929933004\n",
      "COMET INFO:          Round megabytes sent: 15.022888\n",
      "COMET INFO:                  Round reward: 1.5030517578125\n",
      "COMET INFO:                         Speed: 37.19197999999999\n",
      "COMET INFO:                    actor_loss: -0.004539166\n",
      "COMET INFO:                   critic_loss: 0.040440332\n",
      "COMET INFO:                          loss: 0.0014414021279662848\n",
      "COMET INFO:         sys.gpu.0.free_memory: 8507420672\n",
      "COMET INFO:     sys.gpu.0.gpu_utilization: 4\n",
      "COMET INFO:        sys.gpu.0.total_memory: 11811160064\n",
      "COMET INFO:         sys.gpu.0.used_memory: 3303739392\n",
      "COMET INFO: ----------------------------\n",
      "COMET INFO: Uploading stats to Comet before program termination (may take several seconds)\n"
     ]
    },
    {
     "name": "stdout",
     "output_type": "stream",
     "text": [
      "Training finished.\n"
     ]
    }
   ],
   "source": [
    "if not SCRIPT_RUNNING:\n",
    "    subprocess.Popen(['bash', '-c', script_exec_command])\n",
    "    SCRIPT_RUNNING = True\n",
    "\n",
    "agent = Agent(history_length, action_size=1, config=config)\n",
    "# agent.set_epsilon(0.9, 0.01, 25)\n",
    "teacher = Teacher(agent, env, 1)\n",
    "teacher.train(EPISODE_COUNT, simTime, stepTime, script_exec_command, \"Inp: window Mb sent\", \"Rew: normalized speed\", \"DDPG\", \"Convergence\", \"Actor: 128,64, 32\", \"Critic: 128, 64, 32\")\n",
    "\n",
    "SCRIPT_RUNNING = False"
   ]
  },
  {
   "cell_type": "code",
   "execution_count": 8,
   "metadata": {},
   "outputs": [
    {
     "data": {
      "text/plain": [
       "array([[-0.88121593]], dtype=float32)"
      ]
     },
     "execution_count": 8,
     "metadata": {},
     "output_type": "execute_result"
    }
   ],
   "source": [
    "teacher.last_actions"
   ]
  },
  {
   "cell_type": "code",
   "execution_count": null,
   "metadata": {},
   "outputs": [],
   "source": []
  }
 ],
 "metadata": {
  "kernelspec": {
   "display_name": "Python 3",
   "language": "python",
   "name": "python3"
  },
  "language_info": {
   "codemirror_mode": {
    "name": "ipython",
    "version": 3
   },
   "file_extension": ".py",
   "mimetype": "text/x-python",
   "name": "python",
   "nbconvert_exporter": "python",
   "pygments_lexer": "ipython3",
   "version": "3.6.5"
  }
 },
 "nbformat": 4,
 "nbformat_minor": 2
}
