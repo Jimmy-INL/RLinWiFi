{
 "cells": [
  {
   "cell_type": "code",
   "execution_count": 1,
   "metadata": {},
   "outputs": [],
   "source": [
    "from ns3gym import ns3env\n",
    "from comet_ml import Experiment, Optimizer\n",
    "import tqdm\n",
    "import subprocess\n",
    "from collections import deque\n",
    "import numpy as np\n",
    "\n",
    "from agents.ddpg.agent import Agent, Config\n",
    "# from agents.dqn.agent import Agent, Config\n",
    "# from agents.dqn.model import QNetworkTf\n",
    "from agents.teacher import Teacher, EnvWrapper"
   ]
  },
  {
   "cell_type": "markdown",
   "metadata": {},
   "source": [
    "### Basic constants and setting up environment"
   ]
  },
  {
   "cell_type": "code",
   "execution_count": 2,
   "metadata": {},
   "outputs": [
    {
     "name": "stdout",
     "output_type": "stream",
     "text": [
      "Steps per episode: 1000\n"
     ]
    }
   ],
   "source": [
    "scenario = \"convergence\"\n",
    "\n",
    "simTime = 10 # seconds\n",
    "stepTime = 0.01  # seconds\n",
    "history_length = 10\n",
    "\n",
    "\n",
    "EPISODE_COUNT = 20\n",
    "steps_per_ep = int(simTime/stepTime)\n",
    "\n",
    "sim_args = {\n",
    "    \"simTime\": simTime,\n",
    "    \"envStepTime\": stepTime,\n",
    "    \"historyLength\": 10,\n",
    "    \"agentType\": Agent.TYPE,\n",
    "    \"nonZeroStart\": True,\n",
    "    \"scenario\": \"convergence\",\n",
    "    \"nWifi\": 7\n",
    "}\n",
    "print(\"Steps per episode:\", steps_per_ep)\n",
    "\n",
    "threads_no = 1\n",
    "env = EnvWrapper(threads_no, **sim_args)"
   ]
  },
  {
   "cell_type": "code",
   "execution_count": 3,
   "metadata": {},
   "outputs": [],
   "source": [
    "# config = Config(buffer_size=2e3, batch_size=64, gamma=0.99, tau=1e-3, lr=5e-4)\n",
    "config = Config(buffer_size=1.5e4*threads_no, batch_size=512, gamma=0.99, tau=1e-3, lr_actor=6e-5, lr_critic=1e-3)"
   ]
  },
  {
   "cell_type": "code",
   "execution_count": 4,
   "metadata": {},
   "outputs": [
    {
     "name": "stdout",
     "output_type": "stream",
     "text": [
      "Observation space shape: (1, 'Box(10,)')\n",
      "Action space shape: (1, 'Box(1,)')\n"
     ]
    }
   ],
   "source": [
    "env.reset()\n",
    "ob_space = env.observation_space\n",
    "ac_space = env.action_space\n",
    "\n",
    "print(\"Observation space shape:\", ob_space)\n",
    "print(\"Action space shape:\", ac_space)\n",
    "\n",
    "assert ob_space is not None"
   ]
  },
  {
   "cell_type": "markdown",
   "metadata": {},
   "source": [
    "### Creating and training agent"
   ]
  },
  {
   "cell_type": "code",
   "execution_count": 5,
   "metadata": {},
   "outputs": [],
   "source": [
    "# import tensorflow as tf\n",
    "\n",
    "# class Network(QNetworkTf):\n",
    "#     def _inference(self):\n",
    "#         with tf.variable_scope(\"inference_\"+self.name):\n",
    "#             layer = tf.layers.dense(self.input, 128, activation=tf.nn.relu)\n",
    "# #             layer = tf.layers.dense(layer, 128, activation=tf.nn.relu)\n",
    "# #             layer = tf.layers.batch_normalization(layer)\n",
    "#             layer = tf.layers.dense(layer, 64, activation=tf.nn.relu)\n",
    "#             layer = tf.layers.dense(layer, 32, activation=tf.nn.relu)\n",
    "# #             layer = tf.layers.dense(layer, 256, activation=tf.nn.relu)\n",
    "# #             layer = tf.layers.dense(layer, 64, activation=tf.nn.relu)\n",
    "#             layer = tf.layers.dense(layer, self.action_size)\n",
    "#         return layer"
   ]
  },
  {
   "cell_type": "code",
   "execution_count": null,
   "metadata": {},
   "outputs": [
    {
     "name": "stdout",
     "output_type": "stream",
     "text": [
      "Params:\n",
      "lr_actor: 6.000000000000003E-5\n",
      "lr_critic: 8.000000000000004E-4\n"
     ]
    },
    {
     "name": "stderr",
     "output_type": "stream",
     "text": [
      "COMET INFO: Experiment is live on comet.ml https://www.comet.ml/wwydmanski/rl-in-wifi/2e03b31466604001ade5db846424df61\n",
      "\n",
      " 52%|██████████████████████████████▉                             | 516/1000 [00:55<00:51,  9.38it/s, mb_sent=143.10 Mb]"
     ]
    },
    {
     "name": "stdout",
     "output_type": "stream",
     "text": [
      "------- STARTED TRAINING -------\n"
     ]
    },
    {
     "name": "stderr",
     "output_type": "stream",
     "text": [
      "100%|███████████████████████████████████████████████████████████| 1000/1000 [01:53<00:00,  8.78it/s, mb_sent=288.29 Mb]\n"
     ]
    },
    {
     "name": "stdout",
     "output_type": "stream",
     "text": [
      "Sent 288.29 Mb/s.\tMean speed: 28.83 Mb/s\tEpisode 1/20 finished\n",
      "\n"
     ]
    },
    {
     "name": "stderr",
     "output_type": "stream",
     "text": [
      "100%|███████████████████████████████████████████████████████████| 1000/1000 [01:45<00:00,  9.45it/s, mb_sent=362.49 Mb]\n"
     ]
    },
    {
     "name": "stdout",
     "output_type": "stream",
     "text": [
      "Sent 362.49 Mb/s.\tMean speed: 36.25 Mb/s\tEpisode 2/20 finished\n",
      "\n"
     ]
    },
    {
     "name": "stderr",
     "output_type": "stream",
     "text": [
      "100%|███████████████████████████████████████████████████████████| 1000/1000 [01:52<00:00,  8.86it/s, mb_sent=370.14 Mb]\n"
     ]
    },
    {
     "name": "stdout",
     "output_type": "stream",
     "text": [
      "Sent 370.14 Mb/s.\tMean speed: 37.01 Mb/s\tEpisode 3/20 finished\n",
      "\n"
     ]
    },
    {
     "name": "stderr",
     "output_type": "stream",
     "text": [
      "100%|███████████████████████████████████████████████████████████| 1000/1000 [01:55<00:00,  8.68it/s, mb_sent=363.79 Mb]\n"
     ]
    },
    {
     "name": "stdout",
     "output_type": "stream",
     "text": [
      "Sent 363.79 Mb/s.\tMean speed: 36.38 Mb/s\tEpisode 4/20 finished\n",
      "\n"
     ]
    },
    {
     "name": "stderr",
     "output_type": "stream",
     "text": [
      "100%|███████████████████████████████████████████████████████████| 1000/1000 [01:50<00:00,  9.09it/s, mb_sent=379.35 Mb]\n"
     ]
    },
    {
     "name": "stdout",
     "output_type": "stream",
     "text": [
      "Sent 379.35 Mb/s.\tMean speed: 37.93 Mb/s\tEpisode 5/20 finished\n",
      "\n"
     ]
    },
    {
     "name": "stderr",
     "output_type": "stream",
     "text": [
      "100%|███████████████████████████████████████████████████████████| 1000/1000 [01:47<00:00,  9.34it/s, mb_sent=375.97 Mb]\n"
     ]
    },
    {
     "name": "stdout",
     "output_type": "stream",
     "text": [
      "Sent 375.97 Mb/s.\tMean speed: 37.60 Mb/s\tEpisode 6/20 finished\n",
      "\n"
     ]
    },
    {
     "name": "stderr",
     "output_type": "stream",
     "text": [
      "100%|███████████████████████████████████████████████████████████| 1000/1000 [01:48<00:00,  9.25it/s, mb_sent=380.67 Mb]\n"
     ]
    },
    {
     "name": "stdout",
     "output_type": "stream",
     "text": [
      "Sent 380.67 Mb/s.\tMean speed: 38.07 Mb/s\tEpisode 7/20 finished\n",
      "\n"
     ]
    },
    {
     "name": "stderr",
     "output_type": "stream",
     "text": [
      "100%|███████████████████████████████████████████████████████████| 1000/1000 [01:46<00:00,  9.37it/s, mb_sent=380.45 Mb]\n"
     ]
    },
    {
     "name": "stdout",
     "output_type": "stream",
     "text": [
      "Sent 380.45 Mb/s.\tMean speed: 38.05 Mb/s\tEpisode 8/20 finished\n",
      "\n"
     ]
    },
    {
     "name": "stderr",
     "output_type": "stream",
     "text": [
      "100%|███████████████████████████████████████████████████████████| 1000/1000 [01:49<00:00,  9.14it/s, mb_sent=382.16 Mb]\n"
     ]
    },
    {
     "name": "stdout",
     "output_type": "stream",
     "text": [
      "Sent 382.16 Mb/s.\tMean speed: 38.22 Mb/s\tEpisode 9/20 finished\n",
      "\n"
     ]
    },
    {
     "name": "stderr",
     "output_type": "stream",
     "text": [
      "100%|███████████████████████████████████████████████████████████| 1000/1000 [01:47<00:00,  9.26it/s, mb_sent=383.12 Mb]\n"
     ]
    },
    {
     "name": "stdout",
     "output_type": "stream",
     "text": [
      "Sent 383.12 Mb/s.\tMean speed: 38.31 Mb/s\tEpisode 10/20 finished\n",
      "\n"
     ]
    },
    {
     "name": "stderr",
     "output_type": "stream",
     "text": [
      "100%|███████████████████████████████████████████████████████████| 1000/1000 [01:45<00:00,  9.47it/s, mb_sent=382.74 Mb]\n"
     ]
    },
    {
     "name": "stdout",
     "output_type": "stream",
     "text": [
      "Sent 382.74 Mb/s.\tMean speed: 38.27 Mb/s\tEpisode 11/20 finished\n",
      "\n"
     ]
    },
    {
     "name": "stderr",
     "output_type": "stream",
     "text": [
      "100%|███████████████████████████████████████████████████████████| 1000/1000 [01:45<00:00,  9.48it/s, mb_sent=382.74 Mb]\n"
     ]
    },
    {
     "name": "stdout",
     "output_type": "stream",
     "text": [
      "Sent 382.74 Mb/s.\tMean speed: 38.27 Mb/s\tEpisode 12/20 finished\n",
      "\n"
     ]
    },
    {
     "name": "stderr",
     "output_type": "stream",
     "text": [
      "100%|███████████████████████████████████████████████████████████| 1000/1000 [01:49<00:00,  9.12it/s, mb_sent=384.88 Mb]\n"
     ]
    },
    {
     "name": "stdout",
     "output_type": "stream",
     "text": [
      "Sent 384.88 Mb/s.\tMean speed: 38.49 Mb/s\tEpisode 13/20 finished\n",
      "\n"
     ]
    },
    {
     "name": "stderr",
     "output_type": "stream",
     "text": [
      "100%|███████████████████████████████████████████████████████████| 1000/1000 [01:45<00:00,  9.50it/s, mb_sent=383.54 Mb]\n"
     ]
    },
    {
     "name": "stdout",
     "output_type": "stream",
     "text": [
      "Sent 383.54 Mb/s.\tMean speed: 38.35 Mb/s\tEpisode 14/20 finished\n",
      "\n"
     ]
    },
    {
     "name": "stderr",
     "output_type": "stream",
     "text": [
      "100%|███████████████████████████████████████████████████████████| 1000/1000 [01:44<00:00,  9.53it/s, mb_sent=384.66 Mb]\n"
     ]
    },
    {
     "name": "stdout",
     "output_type": "stream",
     "text": [
      "Sent 384.66 Mb/s.\tMean speed: 38.47 Mb/s\tEpisode 15/20 finished\n",
      "\n"
     ]
    },
    {
     "name": "stderr",
     "output_type": "stream",
     "text": [
      "  1%|▉                                                              | 14/1000 [00:01<01:31, 10.80it/s, mb_sent=5.71 Mb]"
     ]
    },
    {
     "name": "stdout",
     "output_type": "stream",
     "text": [
      "------- MEMORY BUFFER FILLED -------\n"
     ]
    },
    {
     "name": "stderr",
     "output_type": "stream",
     "text": [
      "100%|███████████████████████████████████████████████████████████| 1000/1000 [01:45<00:00,  9.47it/s, mb_sent=384.11 Mb]\n"
     ]
    },
    {
     "name": "stdout",
     "output_type": "stream",
     "text": [
      "Sent 384.11 Mb/s.\tMean speed: 38.41 Mb/s\tEpisode 16/20 finished\n",
      "\n"
     ]
    },
    {
     "name": "stderr",
     "output_type": "stream",
     "text": [
      "100%|███████████████████████████████████████████████████████████| 1000/1000 [01:47<00:00,  9.29it/s, mb_sent=384.90 Mb]\n"
     ]
    },
    {
     "name": "stdout",
     "output_type": "stream",
     "text": [
      "Sent 384.90 Mb/s.\tMean speed: 38.49 Mb/s\tEpisode 17/20 finished\n",
      "\n"
     ]
    },
    {
     "name": "stderr",
     "output_type": "stream",
     "text": [
      "100%|███████████████████████████████████████████████████████████| 1000/1000 [01:46<00:00,  9.41it/s, mb_sent=382.69 Mb]\n"
     ]
    },
    {
     "name": "stdout",
     "output_type": "stream",
     "text": [
      "Sent 382.69 Mb/s.\tMean speed: 38.27 Mb/s\tEpisode 18/20 finished\n",
      "\n"
     ]
    },
    {
     "name": "stderr",
     "output_type": "stream",
     "text": [
      "100%|███████████████████████████████████████████████████████████| 1000/1000 [01:46<00:00,  9.43it/s, mb_sent=383.61 Mb]\n"
     ]
    },
    {
     "name": "stdout",
     "output_type": "stream",
     "text": [
      "Sent 383.61 Mb/s.\tMean speed: 38.36 Mb/s\tEpisode 19/20 finished\n",
      "\n"
     ]
    },
    {
     "name": "stderr",
     "output_type": "stream",
     "text": [
      "100%|███████████████████████████████████████████████████████████| 1000/1000 [01:46<00:00,  9.40it/s, mb_sent=382.20 Mb]\n"
     ]
    },
    {
     "name": "stdout",
     "output_type": "stream",
     "text": [
      "Sent 382.20 Mb/s.\tMean speed: 38.22 Mb/s\tEpisode 20/20 finished\n",
      "\n"
     ]
    },
    {
     "name": "stderr",
     "output_type": "stream",
     "text": [
      "COMET INFO: ----------------------------\n",
      "COMET INFO: Comet.ml Experiment Summary:\n",
      "COMET INFO:   Data:\n",
      "COMET INFO:     url: https://www.comet.ml/wwydmanski/rl-in-wifi/2e03b31466604001ade5db846424df61\n",
      "COMET INFO:   Metrics:\n",
      "COMET INFO:                     Chosen CW: 41.0\n",
      "COMET INFO:             Cumulative reward: 9.5283203125\n",
      "COMET INFO:                Megabytes sent: 382.19566600000087\n",
      "COMET INFO:                 Per-ep reward: 9.5283203125\n",
      "COMET INFO:          Round megabytes sent: 0.368591\n",
      "COMET INFO:                  Round reward: -0.008544921875\n",
      "COMET INFO:                         Speed: 38.219566600000086\n",
      "COMET INFO:                    actor_loss: -0.11530901\n",
      "COMET INFO:                   critic_loss: 0.764587\n",
      "COMET INFO:                          loss: -0.11530900746583939\n",
      "COMET INFO:         sys.gpu.0.free_memory: 8487227392\n",
      "COMET INFO:     sys.gpu.0.gpu_utilization: 2\n",
      "COMET INFO:        sys.gpu.0.total_memory: 11811160064\n",
      "COMET INFO:         sys.gpu.0.used_memory: 3323932672\n",
      "COMET INFO: ----------------------------\n",
      "COMET INFO: Uploading stats to Comet before program termination (may take several seconds)\n"
     ]
    },
    {
     "name": "stdout",
     "output_type": "stream",
     "text": [
      "Training finished.\n",
      "Params:\n",
      "lr_actor: 1.409536959146906E-5\n",
      "lr_critic: 5.449773742569078E-4\n"
     ]
    },
    {
     "name": "stderr",
     "output_type": "stream",
     "text": [
      "COMET INFO: Experiment is live on comet.ml https://www.comet.ml/wwydmanski/rl-in-wifi/2f0e93da04f94c59a7c820939282503d\n",
      "\n",
      " 52%|██████████████████████████████▉                             | 516/1000 [00:42<00:39, 12.11it/s, mb_sent=143.10 Mb]"
     ]
    },
    {
     "name": "stdout",
     "output_type": "stream",
     "text": [
      "------- STARTED TRAINING -------\n"
     ]
    },
    {
     "name": "stderr",
     "output_type": "stream",
     "text": [
      "100%|███████████████████████████████████████████████████████████| 1000/1000 [01:30<00:00, 11.07it/s, mb_sent=284.16 Mb]\n"
     ]
    },
    {
     "name": "stdout",
     "output_type": "stream",
     "text": [
      "Sent 284.16 Mb/s.\tMean speed: 28.42 Mb/s\tEpisode 1/20 finished\n",
      "\n"
     ]
    },
    {
     "name": "stderr",
     "output_type": "stream",
     "text": [
      "100%|███████████████████████████████████████████████████████████| 1000/1000 [01:38<00:00, 10.15it/s, mb_sent=317.36 Mb]\n"
     ]
    },
    {
     "name": "stdout",
     "output_type": "stream",
     "text": [
      "Sent 317.36 Mb/s.\tMean speed: 31.74 Mb/s\tEpisode 2/20 finished\n",
      "\n"
     ]
    },
    {
     "name": "stderr",
     "output_type": "stream",
     "text": [
      "100%|███████████████████████████████████████████████████████████| 1000/1000 [01:41<00:00,  9.89it/s, mb_sent=349.35 Mb]\n"
     ]
    },
    {
     "name": "stdout",
     "output_type": "stream",
     "text": [
      "Sent 349.35 Mb/s.\tMean speed: 34.93 Mb/s\tEpisode 3/20 finished\n",
      "\n"
     ]
    },
    {
     "name": "stderr",
     "output_type": "stream",
     "text": [
      "100%|███████████████████████████████████████████████████████████| 1000/1000 [01:44<00:00,  9.53it/s, mb_sent=366.97 Mb]\n"
     ]
    },
    {
     "name": "stdout",
     "output_type": "stream",
     "text": [
      "Sent 366.97 Mb/s.\tMean speed: 36.70 Mb/s\tEpisode 4/20 finished\n",
      "\n"
     ]
    },
    {
     "name": "stderr",
     "output_type": "stream",
     "text": [
      "100%|███████████████████████████████████████████████████████████| 1000/1000 [01:44<00:00,  9.58it/s, mb_sent=376.56 Mb]\n"
     ]
    },
    {
     "name": "stdout",
     "output_type": "stream",
     "text": [
      "Sent 376.56 Mb/s.\tMean speed: 37.66 Mb/s\tEpisode 5/20 finished\n",
      "\n"
     ]
    },
    {
     "name": "stderr",
     "output_type": "stream",
     "text": [
      "100%|███████████████████████████████████████████████████████████| 1000/1000 [01:45<00:00,  9.52it/s, mb_sent=381.26 Mb]\n"
     ]
    },
    {
     "name": "stdout",
     "output_type": "stream",
     "text": [
      "Sent 381.26 Mb/s.\tMean speed: 38.13 Mb/s\tEpisode 6/20 finished\n",
      "\n"
     ]
    },
    {
     "name": "stderr",
     "output_type": "stream",
     "text": [
      "100%|███████████████████████████████████████████████████████████| 1000/1000 [01:45<00:00,  9.50it/s, mb_sent=382.66 Mb]\n"
     ]
    },
    {
     "name": "stdout",
     "output_type": "stream",
     "text": [
      "Sent 382.66 Mb/s.\tMean speed: 38.27 Mb/s\tEpisode 7/20 finished\n",
      "\n"
     ]
    },
    {
     "name": "stderr",
     "output_type": "stream",
     "text": [
      "100%|███████████████████████████████████████████████████████████| 1000/1000 [01:46<00:00,  9.43it/s, mb_sent=383.22 Mb]\n"
     ]
    },
    {
     "name": "stdout",
     "output_type": "stream",
     "text": [
      "Sent 383.22 Mb/s.\tMean speed: 38.32 Mb/s\tEpisode 8/20 finished\n",
      "\n"
     ]
    },
    {
     "name": "stderr",
     "output_type": "stream",
     "text": [
      "100%|███████████████████████████████████████████████████████████| 1000/1000 [01:45<00:00,  9.47it/s, mb_sent=380.87 Mb]\n"
     ]
    },
    {
     "name": "stdout",
     "output_type": "stream",
     "text": [
      "Sent 380.87 Mb/s.\tMean speed: 38.09 Mb/s\tEpisode 9/20 finished\n",
      "\n"
     ]
    },
    {
     "name": "stderr",
     "output_type": "stream",
     "text": [
      "100%|███████████████████████████████████████████████████████████| 1000/1000 [01:48<00:00,  9.22it/s, mb_sent=379.62 Mb]\n"
     ]
    },
    {
     "name": "stdout",
     "output_type": "stream",
     "text": [
      "Sent 379.62 Mb/s.\tMean speed: 37.96 Mb/s\tEpisode 10/20 finished\n",
      "\n"
     ]
    },
    {
     "name": "stderr",
     "output_type": "stream",
     "text": [
      "100%|███████████████████████████████████████████████████████████| 1000/1000 [01:50<00:00,  9.03it/s, mb_sent=378.13 Mb]\n"
     ]
    },
    {
     "name": "stdout",
     "output_type": "stream",
     "text": [
      "Sent 378.13 Mb/s.\tMean speed: 37.81 Mb/s\tEpisode 11/20 finished\n",
      "\n"
     ]
    },
    {
     "name": "stderr",
     "output_type": "stream",
     "text": [
      "100%|███████████████████████████████████████████████████████████| 1000/1000 [01:51<00:00,  8.93it/s, mb_sent=373.60 Mb]\n"
     ]
    },
    {
     "name": "stdout",
     "output_type": "stream",
     "text": [
      "Sent 373.60 Mb/s.\tMean speed: 37.36 Mb/s\tEpisode 12/20 finished\n",
      "\n"
     ]
    },
    {
     "name": "stderr",
     "output_type": "stream",
     "text": [
      "100%|███████████████████████████████████████████████████████████| 1000/1000 [01:48<00:00,  9.18it/s, mb_sent=377.61 Mb]\n"
     ]
    },
    {
     "name": "stdout",
     "output_type": "stream",
     "text": [
      "Sent 377.61 Mb/s.\tMean speed: 37.76 Mb/s\tEpisode 13/20 finished\n",
      "\n"
     ]
    },
    {
     "name": "stderr",
     "output_type": "stream",
     "text": [
      "100%|███████████████████████████████████████████████████████████| 1000/1000 [01:50<00:00,  9.04it/s, mb_sent=381.00 Mb]\n"
     ]
    },
    {
     "name": "stdout",
     "output_type": "stream",
     "text": [
      "Sent 381.00 Mb/s.\tMean speed: 38.10 Mb/s\tEpisode 14/20 finished\n",
      "\n"
     ]
    },
    {
     "name": "stderr",
     "output_type": "stream",
     "text": [
      "100%|███████████████████████████████████████████████████████████| 1000/1000 [01:48<00:00,  9.22it/s, mb_sent=381.00 Mb]\n"
     ]
    },
    {
     "name": "stdout",
     "output_type": "stream",
     "text": [
      "Sent 381.00 Mb/s.\tMean speed: 38.10 Mb/s\tEpisode 15/20 finished\n",
      "\n"
     ]
    },
    {
     "name": "stderr",
     "output_type": "stream",
     "text": [
      "  1%|▉                                                              | 14/1000 [00:01<01:32, 10.68it/s, mb_sent=5.82 Mb]"
     ]
    },
    {
     "name": "stdout",
     "output_type": "stream",
     "text": [
      "------- MEMORY BUFFER FILLED -------\n"
     ]
    },
    {
     "name": "stderr",
     "output_type": "stream",
     "text": [
      "100%|███████████████████████████████████████████████████████████| 1000/1000 [01:51<00:00,  8.99it/s, mb_sent=384.61 Mb]\n"
     ]
    },
    {
     "name": "stdout",
     "output_type": "stream",
     "text": [
      "Sent 384.61 Mb/s.\tMean speed: 38.46 Mb/s\tEpisode 16/20 finished\n",
      "\n"
     ]
    },
    {
     "name": "stderr",
     "output_type": "stream",
     "text": [
      "100%|███████████████████████████████████████████████████████████| 1000/1000 [01:47<00:00,  9.29it/s, mb_sent=385.48 Mb]\n"
     ]
    },
    {
     "name": "stdout",
     "output_type": "stream",
     "text": [
      "Sent 385.48 Mb/s.\tMean speed: 38.55 Mb/s\tEpisode 17/20 finished\n",
      "\n"
     ]
    },
    {
     "name": "stderr",
     "output_type": "stream",
     "text": [
      "100%|███████████████████████████████████████████████████████████| 1000/1000 [01:47<00:00,  9.29it/s, mb_sent=384.34 Mb]\n"
     ]
    },
    {
     "name": "stdout",
     "output_type": "stream",
     "text": [
      "Sent 384.34 Mb/s.\tMean speed: 38.43 Mb/s\tEpisode 18/20 finished\n",
      "\n"
     ]
    },
    {
     "name": "stderr",
     "output_type": "stream",
     "text": [
      "100%|███████████████████████████████████████████████████████████| 1000/1000 [01:47<00:00,  9.32it/s, mb_sent=384.79 Mb]\n"
     ]
    },
    {
     "name": "stdout",
     "output_type": "stream",
     "text": [
      "Sent 384.79 Mb/s.\tMean speed: 38.48 Mb/s\tEpisode 19/20 finished\n",
      "\n"
     ]
    },
    {
     "name": "stderr",
     "output_type": "stream",
     "text": [
      "100%|███████████████████████████████████████████████████████████| 1000/1000 [01:47<00:00,  9.30it/s, mb_sent=383.27 Mb]\n"
     ]
    },
    {
     "name": "stdout",
     "output_type": "stream",
     "text": [
      "Sent 383.27 Mb/s.\tMean speed: 38.33 Mb/s\tEpisode 20/20 finished\n",
      "\n"
     ]
    },
    {
     "name": "stderr",
     "output_type": "stream",
     "text": [
      "COMET INFO: ----------------------------\n",
      "COMET INFO: Comet.ml Experiment Summary:\n",
      "COMET INFO:   Data:\n",
      "COMET INFO:     url: https://www.comet.ml/wwydmanski/rl-in-wifi/2f0e93da04f94c59a7c820939282503d\n",
      "COMET INFO:   Metrics:\n",
      "COMET INFO:                     Chosen CW: 53.0\n",
      "COMET INFO:             Cumulative reward: 11.002685546875\n",
      "COMET INFO:                Megabytes sent: 383.2679360000011\n",
      "COMET INFO:                 Per-ep reward: 11.002685546875\n",
      "COMET INFO:          Round megabytes sent: 0.4021\n",
      "COMET INFO:                  Round reward: 0.0361328125\n",
      "COMET INFO:                         Speed: 38.32679360000011\n",
      "COMET INFO:                    actor_loss: -0.078094415\n",
      "COMET INFO:                   critic_loss: 1.1031617\n",
      "COMET INFO:                          loss: -0.07809441536664963\n",
      "COMET INFO:         sys.gpu.0.free_memory: 8650121216\n",
      "COMET INFO:     sys.gpu.0.gpu_utilization: 2\n",
      "COMET INFO:        sys.gpu.0.total_memory: 11811160064\n",
      "COMET INFO:         sys.gpu.0.used_memory: 3161038848\n",
      "COMET INFO: ----------------------------\n",
      "COMET INFO: Uploading stats to Comet before program termination (may take several seconds)\n",
      "COMET INFO: Still uploading\n"
     ]
    },
    {
     "name": "stdout",
     "output_type": "stream",
     "text": [
      "Training finished.\n",
      "Params:\n",
      "lr_actor: 8.911157171035543E-5\n",
      "lr_critic: 8.501717870216129E-4\n"
     ]
    },
    {
     "name": "stderr",
     "output_type": "stream",
     "text": [
      "COMET INFO: Experiment is live on comet.ml https://www.comet.ml/wwydmanski/rl-in-wifi/2138c4795d6c4e6bb18cd3368016c208\n",
      "\n",
      " 52%|██████████████████████████████▉                             | 516/1000 [00:43<00:40, 11.98it/s, mb_sent=143.10 Mb]"
     ]
    },
    {
     "name": "stdout",
     "output_type": "stream",
     "text": [
      "------- STARTED TRAINING -------\n"
     ]
    },
    {
     "name": "stderr",
     "output_type": "stream",
     "text": [
      "100%|███████████████████████████████████████████████████████████| 1000/1000 [01:31<00:00, 10.94it/s, mb_sent=288.89 Mb]\n"
     ]
    },
    {
     "name": "stdout",
     "output_type": "stream",
     "text": [
      "Sent 288.89 Mb/s.\tMean speed: 28.89 Mb/s\tEpisode 1/20 finished\n",
      "\n"
     ]
    },
    {
     "name": "stderr",
     "output_type": "stream",
     "text": [
      "100%|███████████████████████████████████████████████████████████| 1000/1000 [01:45<00:00,  9.45it/s, mb_sent=366.63 Mb]\n"
     ]
    },
    {
     "name": "stdout",
     "output_type": "stream",
     "text": [
      "Sent 366.63 Mb/s.\tMean speed: 36.66 Mb/s\tEpisode 2/20 finished\n",
      "\n"
     ]
    },
    {
     "name": "stderr",
     "output_type": "stream",
     "text": [
      "100%|███████████████████████████████████████████████████████████| 1000/1000 [01:47<00:00,  9.27it/s, mb_sent=364.97 Mb]\n"
     ]
    },
    {
     "name": "stdout",
     "output_type": "stream",
     "text": [
      "Sent 364.97 Mb/s.\tMean speed: 36.50 Mb/s\tEpisode 3/20 finished\n",
      "\n"
     ]
    },
    {
     "name": "stderr",
     "output_type": "stream",
     "text": [
      "100%|███████████████████████████████████████████████████████████| 1000/1000 [01:47<00:00,  9.28it/s, mb_sent=346.70 Mb]\n"
     ]
    },
    {
     "name": "stdout",
     "output_type": "stream",
     "text": [
      "Sent 346.70 Mb/s.\tMean speed: 34.67 Mb/s\tEpisode 4/20 finished\n",
      "\n"
     ]
    },
    {
     "name": "stderr",
     "output_type": "stream",
     "text": [
      "100%|███████████████████████████████████████████████████████████| 1000/1000 [01:46<00:00,  9.36it/s, mb_sent=376.74 Mb]\n"
     ]
    },
    {
     "name": "stdout",
     "output_type": "stream",
     "text": [
      "Sent 376.74 Mb/s.\tMean speed: 37.67 Mb/s\tEpisode 5/20 finished\n",
      "\n"
     ]
    },
    {
     "name": "stderr",
     "output_type": "stream",
     "text": [
      "100%|███████████████████████████████████████████████████████████| 1000/1000 [01:47<00:00,  9.31it/s, mb_sent=381.84 Mb]\n"
     ]
    },
    {
     "name": "stdout",
     "output_type": "stream",
     "text": [
      "Sent 381.84 Mb/s.\tMean speed: 38.18 Mb/s\tEpisode 6/20 finished\n",
      "\n"
     ]
    },
    {
     "name": "stderr",
     "output_type": "stream",
     "text": [
      "100%|███████████████████████████████████████████████████████████| 1000/1000 [01:50<00:00,  9.04it/s, mb_sent=383.23 Mb]\n"
     ]
    },
    {
     "name": "stdout",
     "output_type": "stream",
     "text": [
      "Sent 383.23 Mb/s.\tMean speed: 38.32 Mb/s\tEpisode 7/20 finished\n",
      "\n"
     ]
    },
    {
     "name": "stderr",
     "output_type": "stream",
     "text": [
      "100%|███████████████████████████████████████████████████████████| 1000/1000 [01:46<00:00,  9.36it/s, mb_sent=383.76 Mb]\n"
     ]
    },
    {
     "name": "stdout",
     "output_type": "stream",
     "text": [
      "Sent 383.76 Mb/s.\tMean speed: 38.38 Mb/s\tEpisode 8/20 finished\n",
      "\n"
     ]
    },
    {
     "name": "stderr",
     "output_type": "stream",
     "text": [
      "100%|███████████████████████████████████████████████████████████| 1000/1000 [01:47<00:00,  9.32it/s, mb_sent=385.41 Mb]\n"
     ]
    },
    {
     "name": "stdout",
     "output_type": "stream",
     "text": [
      "Sent 385.41 Mb/s.\tMean speed: 38.54 Mb/s\tEpisode 9/20 finished\n",
      "\n"
     ]
    },
    {
     "name": "stderr",
     "output_type": "stream",
     "text": [
      "100%|███████████████████████████████████████████████████████████| 1000/1000 [01:48<00:00,  9.24it/s, mb_sent=383.42 Mb]\n"
     ]
    },
    {
     "name": "stdout",
     "output_type": "stream",
     "text": [
      "Sent 383.42 Mb/s.\tMean speed: 38.34 Mb/s\tEpisode 10/20 finished\n",
      "\n"
     ]
    },
    {
     "name": "stderr",
     "output_type": "stream",
     "text": [
      "100%|███████████████████████████████████████████████████████████| 1000/1000 [01:48<00:00,  9.21it/s, mb_sent=384.28 Mb]\n"
     ]
    },
    {
     "name": "stdout",
     "output_type": "stream",
     "text": [
      "Sent 384.28 Mb/s.\tMean speed: 38.43 Mb/s\tEpisode 11/20 finished\n",
      "\n"
     ]
    },
    {
     "name": "stderr",
     "output_type": "stream",
     "text": [
      "100%|███████████████████████████████████████████████████████████| 1000/1000 [01:47<00:00,  9.27it/s, mb_sent=384.40 Mb]\n"
     ]
    },
    {
     "name": "stdout",
     "output_type": "stream",
     "text": [
      "Sent 384.40 Mb/s.\tMean speed: 38.44 Mb/s\tEpisode 12/20 finished\n",
      "\n"
     ]
    },
    {
     "name": "stderr",
     "output_type": "stream",
     "text": [
      "100%|███████████████████████████████████████████████████████████| 1000/1000 [01:50<00:00,  9.09it/s, mb_sent=382.50 Mb]\n"
     ]
    },
    {
     "name": "stdout",
     "output_type": "stream",
     "text": [
      "Sent 382.50 Mb/s.\tMean speed: 38.25 Mb/s\tEpisode 13/20 finished\n",
      "\n"
     ]
    },
    {
     "name": "stderr",
     "output_type": "stream",
     "text": [
      "100%|███████████████████████████████████████████████████████████| 1000/1000 [01:48<00:00,  9.19it/s, mb_sent=384.83 Mb]\n"
     ]
    },
    {
     "name": "stdout",
     "output_type": "stream",
     "text": [
      "Sent 384.83 Mb/s.\tMean speed: 38.48 Mb/s\tEpisode 14/20 finished\n",
      "\n"
     ]
    },
    {
     "name": "stderr",
     "output_type": "stream",
     "text": [
      "100%|███████████████████████████████████████████████████████████| 1000/1000 [01:47<00:00,  9.29it/s, mb_sent=384.05 Mb]\n"
     ]
    },
    {
     "name": "stdout",
     "output_type": "stream",
     "text": [
      "Sent 384.05 Mb/s.\tMean speed: 38.40 Mb/s\tEpisode 15/20 finished\n",
      "\n"
     ]
    },
    {
     "name": "stderr",
     "output_type": "stream",
     "text": [
      "  1%|▉                                                              | 14/1000 [00:01<01:34, 10.42it/s, mb_sent=5.73 Mb]"
     ]
    },
    {
     "name": "stdout",
     "output_type": "stream",
     "text": [
      "------- MEMORY BUFFER FILLED -------\n"
     ]
    },
    {
     "name": "stderr",
     "output_type": "stream",
     "text": [
      "100%|███████████████████████████████████████████████████████████| 1000/1000 [01:49<00:00,  9.11it/s, mb_sent=384.92 Mb]\n"
     ]
    },
    {
     "name": "stdout",
     "output_type": "stream",
     "text": [
      "Sent 384.92 Mb/s.\tMean speed: 38.49 Mb/s\tEpisode 16/20 finished\n",
      "\n"
     ]
    },
    {
     "name": "stderr",
     "output_type": "stream",
     "text": [
      "100%|███████████████████████████████████████████████████████████| 1000/1000 [01:47<00:00,  9.27it/s, mb_sent=384.06 Mb]\n"
     ]
    },
    {
     "name": "stdout",
     "output_type": "stream",
     "text": [
      "Sent 384.06 Mb/s.\tMean speed: 38.41 Mb/s\tEpisode 17/20 finished\n",
      "\n"
     ]
    },
    {
     "name": "stderr",
     "output_type": "stream",
     "text": [
      "100%|███████████████████████████████████████████████████████████| 1000/1000 [01:48<00:00,  9.21it/s, mb_sent=385.57 Mb]\n"
     ]
    },
    {
     "name": "stdout",
     "output_type": "stream",
     "text": [
      "Sent 385.57 Mb/s.\tMean speed: 38.56 Mb/s\tEpisode 18/20 finished\n",
      "\n"
     ]
    },
    {
     "name": "stderr",
     "output_type": "stream",
     "text": [
      "100%|███████████████████████████████████████████████████████████| 1000/1000 [01:46<00:00,  9.35it/s, mb_sent=385.64 Mb]\n"
     ]
    },
    {
     "name": "stdout",
     "output_type": "stream",
     "text": [
      "Sent 385.64 Mb/s.\tMean speed: 38.56 Mb/s\tEpisode 19/20 finished\n",
      "\n"
     ]
    },
    {
     "name": "stderr",
     "output_type": "stream",
     "text": [
      "100%|███████████████████████████████████████████████████████████| 1000/1000 [01:47<00:00,  9.32it/s, mb_sent=379.28 Mb]\n"
     ]
    },
    {
     "name": "stdout",
     "output_type": "stream",
     "text": [
      "Sent 379.28 Mb/s.\tMean speed: 37.93 Mb/s\tEpisode 20/20 finished\n",
      "\n"
     ]
    },
    {
     "name": "stderr",
     "output_type": "stream",
     "text": [
      "COMET INFO: ----------------------------\n",
      "COMET INFO: Comet.ml Experiment Summary:\n",
      "COMET INFO:   Data:\n",
      "COMET INFO:     url: https://www.comet.ml/wwydmanski/rl-in-wifi/2138c4795d6c4e6bb18cd3368016c208\n",
      "COMET INFO:   Metrics:\n",
      "COMET INFO:                     Chosen CW: 33.0\n",
      "COMET INFO:             Cumulative reward: 5.730712890625\n",
      "COMET INFO:                Megabytes sent: 379.2804560000004\n",
      "COMET INFO:                 Per-ep reward: 5.730712890625\n",
      "COMET INFO:          Round megabytes sent: 0.39093\n",
      "COMET INFO:                  Round reward: 0.021240234375\n",
      "COMET INFO:                         Speed: 37.92804560000004\n",
      "COMET INFO:                    actor_loss: -0.0946041\n",
      "COMET INFO:                   critic_loss: 1.9176276\n",
      "COMET INFO:                          loss: -0.09460409730672836\n",
      "COMET INFO:         sys.gpu.0.free_memory: 8348147712\n",
      "COMET INFO:     sys.gpu.0.gpu_utilization: 3\n",
      "COMET INFO:        sys.gpu.0.total_memory: 11811160064\n",
      "COMET INFO:         sys.gpu.0.used_memory: 3463012352\n",
      "COMET INFO: ----------------------------\n",
      "COMET INFO: Uploading stats to Comet before program termination (may take several seconds)\n"
     ]
    },
    {
     "name": "stdout",
     "output_type": "stream",
     "text": [
      "Training finished.\n",
      "Params:\n",
      "lr_actor: 2.9514885842807642E-5\n",
      "lr_critic: 8.630230307560517E-4\n"
     ]
    },
    {
     "name": "stderr",
     "output_type": "stream",
     "text": [
      "COMET INFO: Experiment is live on comet.ml https://www.comet.ml/wwydmanski/rl-in-wifi/43aa344743d94287b0444509b9120b66\n",
      "\n",
      " 52%|██████████████████████████████▉                             | 516/1000 [00:43<00:40, 11.94it/s, mb_sent=143.10 Mb]"
     ]
    },
    {
     "name": "stdout",
     "output_type": "stream",
     "text": [
      "------- STARTED TRAINING -------\n"
     ]
    },
    {
     "name": "stderr",
     "output_type": "stream",
     "text": [
      "100%|███████████████████████████████████████████████████████████| 1000/1000 [01:31<00:00, 10.90it/s, mb_sent=285.43 Mb]\n"
     ]
    },
    {
     "name": "stdout",
     "output_type": "stream",
     "text": [
      "Sent 285.43 Mb/s.\tMean speed: 28.54 Mb/s\tEpisode 1/20 finished\n",
      "\n"
     ]
    },
    {
     "name": "stderr",
     "output_type": "stream",
     "text": [
      "100%|███████████████████████████████████████████████████████████| 1000/1000 [01:41<00:00,  9.86it/s, mb_sent=336.24 Mb]\n"
     ]
    },
    {
     "name": "stdout",
     "output_type": "stream",
     "text": [
      "Sent 336.24 Mb/s.\tMean speed: 33.62 Mb/s\tEpisode 2/20 finished\n",
      "\n"
     ]
    },
    {
     "name": "stderr",
     "output_type": "stream",
     "text": [
      "100%|███████████████████████████████████████████████████████████| 1000/1000 [01:47<00:00,  9.31it/s, mb_sent=375.05 Mb]\n"
     ]
    },
    {
     "name": "stdout",
     "output_type": "stream",
     "text": [
      "Sent 375.05 Mb/s.\tMean speed: 37.50 Mb/s\tEpisode 3/20 finished\n",
      "\n"
     ]
    },
    {
     "name": "stderr",
     "output_type": "stream",
     "text": [
      "100%|███████████████████████████████████████████████████████████| 1000/1000 [01:48<00:00,  9.18it/s, mb_sent=377.69 Mb]\n"
     ]
    },
    {
     "name": "stdout",
     "output_type": "stream",
     "text": [
      "Sent 377.69 Mb/s.\tMean speed: 37.77 Mb/s\tEpisode 4/20 finished\n",
      "\n"
     ]
    },
    {
     "name": "stderr",
     "output_type": "stream",
     "text": [
      "100%|███████████████████████████████████████████████████████████| 1000/1000 [01:48<00:00,  9.21it/s, mb_sent=378.96 Mb]\n"
     ]
    },
    {
     "name": "stdout",
     "output_type": "stream",
     "text": [
      "Sent 378.96 Mb/s.\tMean speed: 37.90 Mb/s\tEpisode 5/20 finished\n",
      "\n"
     ]
    },
    {
     "name": "stderr",
     "output_type": "stream",
     "text": [
      "100%|███████████████████████████████████████████████████████████| 1000/1000 [01:48<00:00,  9.22it/s, mb_sent=376.83 Mb]\n"
     ]
    },
    {
     "name": "stdout",
     "output_type": "stream",
     "text": [
      "Sent 376.83 Mb/s.\tMean speed: 37.68 Mb/s\tEpisode 6/20 finished\n",
      "\n"
     ]
    },
    {
     "name": "stderr",
     "output_type": "stream",
     "text": [
      "100%|███████████████████████████████████████████████████████████| 1000/1000 [01:48<00:00,  9.22it/s, mb_sent=377.07 Mb]\n"
     ]
    },
    {
     "name": "stdout",
     "output_type": "stream",
     "text": [
      "Sent 377.07 Mb/s.\tMean speed: 37.71 Mb/s\tEpisode 7/20 finished\n",
      "\n"
     ]
    },
    {
     "name": "stderr",
     "output_type": "stream",
     "text": [
      "100%|███████████████████████████████████████████████████████████| 1000/1000 [01:48<00:00,  9.22it/s, mb_sent=378.01 Mb]\n"
     ]
    },
    {
     "name": "stdout",
     "output_type": "stream",
     "text": [
      "Sent 378.01 Mb/s.\tMean speed: 37.80 Mb/s\tEpisode 8/20 finished\n",
      "\n"
     ]
    },
    {
     "name": "stderr",
     "output_type": "stream",
     "text": [
      "100%|███████████████████████████████████████████████████████████| 1000/1000 [01:46<00:00,  9.40it/s, mb_sent=379.74 Mb]\n"
     ]
    },
    {
     "name": "stdout",
     "output_type": "stream",
     "text": [
      "Sent 379.74 Mb/s.\tMean speed: 37.97 Mb/s\tEpisode 9/20 finished\n",
      "\n"
     ]
    },
    {
     "name": "stderr",
     "output_type": "stream",
     "text": [
      "100%|███████████████████████████████████████████████████████████| 1000/1000 [01:46<00:00,  9.38it/s, mb_sent=377.42 Mb]\n"
     ]
    },
    {
     "name": "stdout",
     "output_type": "stream",
     "text": [
      "Sent 377.42 Mb/s.\tMean speed: 37.74 Mb/s\tEpisode 10/20 finished\n",
      "\n"
     ]
    },
    {
     "name": "stderr",
     "output_type": "stream",
     "text": [
      "100%|███████████████████████████████████████████████████████████| 1000/1000 [01:48<00:00,  9.20it/s, mb_sent=378.12 Mb]\n"
     ]
    },
    {
     "name": "stdout",
     "output_type": "stream",
     "text": [
      "Sent 378.12 Mb/s.\tMean speed: 37.81 Mb/s\tEpisode 11/20 finished\n",
      "\n"
     ]
    },
    {
     "name": "stderr",
     "output_type": "stream",
     "text": [
      "100%|███████████████████████████████████████████████████████████| 1000/1000 [01:54<00:00,  8.77it/s, mb_sent=379.54 Mb]\n"
     ]
    },
    {
     "name": "stdout",
     "output_type": "stream",
     "text": [
      "Sent 379.54 Mb/s.\tMean speed: 37.95 Mb/s\tEpisode 12/20 finished\n",
      "\n"
     ]
    },
    {
     "name": "stderr",
     "output_type": "stream",
     "text": [
      "100%|███████████████████████████████████████████████████████████| 1000/1000 [01:51<00:00,  8.98it/s, mb_sent=377.85 Mb]\n"
     ]
    },
    {
     "name": "stdout",
     "output_type": "stream",
     "text": [
      "Sent 377.85 Mb/s.\tMean speed: 37.79 Mb/s\tEpisode 13/20 finished\n",
      "\n"
     ]
    },
    {
     "name": "stderr",
     "output_type": "stream",
     "text": [
      "100%|███████████████████████████████████████████████████████████| 1000/1000 [01:55<00:00,  8.63it/s, mb_sent=379.66 Mb]\n"
     ]
    },
    {
     "name": "stdout",
     "output_type": "stream",
     "text": [
      "Sent 379.66 Mb/s.\tMean speed: 37.97 Mb/s\tEpisode 14/20 finished\n",
      "\n"
     ]
    },
    {
     "name": "stderr",
     "output_type": "stream",
     "text": [
      "100%|███████████████████████████████████████████████████████████| 1000/1000 [01:59<00:00,  8.36it/s, mb_sent=378.20 Mb]\n"
     ]
    },
    {
     "name": "stdout",
     "output_type": "stream",
     "text": [
      "Sent 378.20 Mb/s.\tMean speed: 37.82 Mb/s\tEpisode 15/20 finished\n",
      "\n"
     ]
    },
    {
     "name": "stderr",
     "output_type": "stream",
     "text": [
      "  1%|▉                                                              | 14/1000 [00:01<01:31, 10.72it/s, mb_sent=5.72 Mb]"
     ]
    },
    {
     "name": "stdout",
     "output_type": "stream",
     "text": [
      "------- MEMORY BUFFER FILLED -------\n"
     ]
    },
    {
     "name": "stderr",
     "output_type": "stream",
     "text": [
      "100%|███████████████████████████████████████████████████████████| 1000/1000 [01:48<00:00,  9.18it/s, mb_sent=380.90 Mb]\n"
     ]
    },
    {
     "name": "stdout",
     "output_type": "stream",
     "text": [
      "Sent 380.90 Mb/s.\tMean speed: 38.09 Mb/s\tEpisode 16/20 finished\n",
      "\n"
     ]
    },
    {
     "name": "stderr",
     "output_type": "stream",
     "text": [
      "100%|███████████████████████████████████████████████████████████| 1000/1000 [01:53<00:00,  8.83it/s, mb_sent=380.14 Mb]\n"
     ]
    },
    {
     "name": "stdout",
     "output_type": "stream",
     "text": [
      "Sent 380.14 Mb/s.\tMean speed: 38.01 Mb/s\tEpisode 17/20 finished\n",
      "\n"
     ]
    },
    {
     "name": "stderr",
     "output_type": "stream",
     "text": [
      "100%|███████████████████████████████████████████████████████████| 1000/1000 [01:54<00:00,  8.74it/s, mb_sent=378.19 Mb]\n"
     ]
    },
    {
     "name": "stdout",
     "output_type": "stream",
     "text": [
      "Sent 378.19 Mb/s.\tMean speed: 37.82 Mb/s\tEpisode 18/20 finished\n",
      "\n"
     ]
    },
    {
     "name": "stderr",
     "output_type": "stream",
     "text": [
      "100%|███████████████████████████████████████████████████████████| 1000/1000 [01:52<00:00,  8.89it/s, mb_sent=379.97 Mb]\n"
     ]
    },
    {
     "name": "stdout",
     "output_type": "stream",
     "text": [
      "Sent 379.97 Mb/s.\tMean speed: 38.00 Mb/s\tEpisode 19/20 finished\n",
      "\n"
     ]
    },
    {
     "name": "stderr",
     "output_type": "stream",
     "text": [
      "100%|███████████████████████████████████████████████████████████| 1000/1000 [01:53<00:00,  8.79it/s, mb_sent=379.62 Mb]\n"
     ]
    },
    {
     "name": "stdout",
     "output_type": "stream",
     "text": [
      "Sent 379.62 Mb/s.\tMean speed: 37.96 Mb/s\tEpisode 20/20 finished\n",
      "\n"
     ]
    },
    {
     "name": "stderr",
     "output_type": "stream",
     "text": [
      "COMET INFO: ----------------------------\n",
      "COMET INFO: Comet.ml Experiment Summary:\n",
      "COMET INFO:   Data:\n",
      "COMET INFO:     url: https://www.comet.ml/wwydmanski/rl-in-wifi/43aa344743d94287b0444509b9120b66\n",
      "COMET INFO:   Metrics:\n",
      "COMET INFO:                     Chosen CW: 23.0\n",
      "COMET INFO:             Cumulative reward: 6.1328125\n",
      "COMET INFO:                Megabytes sent: 379.61552900000004\n",
      "COMET INFO:                 Per-ep reward: 6.1328125\n",
      "COMET INFO:          Round megabytes sent: 0.379761\n",
      "COMET INFO:                  Round reward: 0.00634765625\n",
      "COMET INFO:                         Speed: 37.9615529\n",
      "COMET INFO:                    actor_loss: -0.093365446\n",
      "COMET INFO:                   critic_loss: 0.6325728\n",
      "COMET INFO:                          loss: -0.09336544573307037\n",
      "COMET INFO:         sys.gpu.0.free_memory: 7804919808\n",
      "COMET INFO:     sys.gpu.0.gpu_utilization: 2\n",
      "COMET INFO:        sys.gpu.0.total_memory: 11811160064\n",
      "COMET INFO:         sys.gpu.0.used_memory: 4006240256\n",
      "COMET INFO: ----------------------------\n",
      "COMET INFO: Uploading stats to Comet before program termination (may take several seconds)\n"
     ]
    },
    {
     "name": "stdout",
     "output_type": "stream",
     "text": [
      "Training finished.\n",
      "Params:\n",
      "lr_actor: 9.685075814731821E-5\n",
      "lr_critic: 7.213043192829359E-4\n"
     ]
    },
    {
     "name": "stderr",
     "output_type": "stream",
     "text": [
      "COMET INFO: Experiment is live on comet.ml https://www.comet.ml/wwydmanski/rl-in-wifi/7803c5352cd6458f928cd529b5479421\n",
      "\n",
      " 52%|██████████████████████████████▉                             | 516/1000 [00:44<00:41, 11.60it/s, mb_sent=143.10 Mb]"
     ]
    },
    {
     "name": "stdout",
     "output_type": "stream",
     "text": [
      "------- STARTED TRAINING -------\n"
     ]
    },
    {
     "name": "stderr",
     "output_type": "stream",
     "text": [
      "100%|███████████████████████████████████████████████████████████| 1000/1000 [01:33<00:00, 10.67it/s, mb_sent=290.39 Mb]\n"
     ]
    },
    {
     "name": "stdout",
     "output_type": "stream",
     "text": [
      "Sent 290.39 Mb/s.\tMean speed: 29.04 Mb/s\tEpisode 1/20 finished\n",
      "\n"
     ]
    },
    {
     "name": "stderr",
     "output_type": "stream",
     "text": [
      "100%|███████████████████████████████████████████████████████████| 1000/1000 [01:48<00:00,  9.25it/s, mb_sent=366.83 Mb]\n"
     ]
    },
    {
     "name": "stdout",
     "output_type": "stream",
     "text": [
      "Sent 366.83 Mb/s.\tMean speed: 36.68 Mb/s\tEpisode 2/20 finished\n",
      "\n"
     ]
    },
    {
     "name": "stderr",
     "output_type": "stream",
     "text": [
      "100%|███████████████████████████████████████████████████████████| 1000/1000 [01:57<00:00,  8.49it/s, mb_sent=353.38 Mb]\n"
     ]
    },
    {
     "name": "stdout",
     "output_type": "stream",
     "text": [
      "Sent 353.38 Mb/s.\tMean speed: 35.34 Mb/s\tEpisode 3/20 finished\n",
      "\n"
     ]
    },
    {
     "name": "stderr",
     "output_type": "stream",
     "text": [
      "100%|███████████████████████████████████████████████████████████| 1000/1000 [01:49<00:00,  9.13it/s, mb_sent=362.81 Mb]\n"
     ]
    },
    {
     "name": "stdout",
     "output_type": "stream",
     "text": [
      "Sent 362.81 Mb/s.\tMean speed: 36.28 Mb/s\tEpisode 4/20 finished\n",
      "\n"
     ]
    },
    {
     "name": "stderr",
     "output_type": "stream",
     "text": [
      "100%|███████████████████████████████████████████████████████████| 1000/1000 [01:51<00:00,  8.94it/s, mb_sent=352.84 Mb]\n"
     ]
    },
    {
     "name": "stdout",
     "output_type": "stream",
     "text": [
      "Sent 352.84 Mb/s.\tMean speed: 35.28 Mb/s\tEpisode 5/20 finished\n",
      "\n"
     ]
    },
    {
     "name": "stderr",
     "output_type": "stream",
     "text": [
      "100%|███████████████████████████████████████████████████████████| 1000/1000 [01:49<00:00,  9.16it/s, mb_sent=376.24 Mb]\n"
     ]
    },
    {
     "name": "stdout",
     "output_type": "stream",
     "text": [
      "Sent 376.24 Mb/s.\tMean speed: 37.62 Mb/s\tEpisode 6/20 finished\n",
      "\n"
     ]
    },
    {
     "name": "stderr",
     "output_type": "stream",
     "text": [
      "100%|███████████████████████████████████████████████████████████| 1000/1000 [01:47<00:00,  9.32it/s, mb_sent=371.92 Mb]\n"
     ]
    },
    {
     "name": "stdout",
     "output_type": "stream",
     "text": [
      "Sent 371.92 Mb/s.\tMean speed: 37.19 Mb/s\tEpisode 7/20 finished\n",
      "\n"
     ]
    },
    {
     "name": "stderr",
     "output_type": "stream",
     "text": [
      "100%|███████████████████████████████████████████████████████████| 1000/1000 [01:53<00:00,  8.80it/s, mb_sent=371.03 Mb]\n"
     ]
    },
    {
     "name": "stdout",
     "output_type": "stream",
     "text": [
      "Sent 371.03 Mb/s.\tMean speed: 37.10 Mb/s\tEpisode 8/20 finished\n",
      "\n"
     ]
    },
    {
     "name": "stderr",
     "output_type": "stream",
     "text": [
      "100%|███████████████████████████████████████████████████████████| 1000/1000 [01:58<00:00,  8.46it/s, mb_sent=381.76 Mb]\n"
     ]
    },
    {
     "name": "stdout",
     "output_type": "stream",
     "text": [
      "Sent 381.76 Mb/s.\tMean speed: 38.18 Mb/s\tEpisode 9/20 finished\n",
      "\n"
     ]
    },
    {
     "name": "stderr",
     "output_type": "stream",
     "text": [
      "100%|███████████████████████████████████████████████████████████| 1000/1000 [02:02<00:00,  8.16it/s, mb_sent=384.14 Mb]\n"
     ]
    },
    {
     "name": "stdout",
     "output_type": "stream",
     "text": [
      "Sent 384.14 Mb/s.\tMean speed: 38.41 Mb/s\tEpisode 10/20 finished\n",
      "\n"
     ]
    },
    {
     "name": "stderr",
     "output_type": "stream",
     "text": [
      "100%|███████████████████████████████████████████████████████████| 1000/1000 [01:57<00:00,  8.48it/s, mb_sent=382.72 Mb]\n"
     ]
    },
    {
     "name": "stdout",
     "output_type": "stream",
     "text": [
      "Sent 382.72 Mb/s.\tMean speed: 38.27 Mb/s\tEpisode 11/20 finished\n",
      "\n"
     ]
    },
    {
     "name": "stderr",
     "output_type": "stream",
     "text": [
      "100%|███████████████████████████████████████████████████████████| 1000/1000 [01:50<00:00,  9.06it/s, mb_sent=384.54 Mb]\n"
     ]
    },
    {
     "name": "stdout",
     "output_type": "stream",
     "text": [
      "Sent 384.54 Mb/s.\tMean speed: 38.45 Mb/s\tEpisode 12/20 finished\n",
      "\n"
     ]
    },
    {
     "name": "stderr",
     "output_type": "stream",
     "text": [
      "100%|███████████████████████████████████████████████████████████| 1000/1000 [01:49<00:00,  9.10it/s, mb_sent=384.02 Mb]\n"
     ]
    },
    {
     "name": "stdout",
     "output_type": "stream",
     "text": [
      "Sent 384.02 Mb/s.\tMean speed: 38.40 Mb/s\tEpisode 13/20 finished\n",
      "\n"
     ]
    },
    {
     "name": "stderr",
     "output_type": "stream",
     "text": [
      "100%|███████████████████████████████████████████████████████████| 1000/1000 [01:52<00:00,  8.87it/s, mb_sent=384.90 Mb]\n"
     ]
    },
    {
     "name": "stdout",
     "output_type": "stream",
     "text": [
      "Sent 384.90 Mb/s.\tMean speed: 38.49 Mb/s\tEpisode 14/20 finished\n",
      "\n"
     ]
    },
    {
     "name": "stderr",
     "output_type": "stream",
     "text": [
      "100%|███████████████████████████████████████████████████████████| 1000/1000 [01:52<00:00,  8.88it/s, mb_sent=384.54 Mb]\n"
     ]
    },
    {
     "name": "stdout",
     "output_type": "stream",
     "text": [
      "Sent 384.54 Mb/s.\tMean speed: 38.45 Mb/s\tEpisode 15/20 finished\n",
      "\n"
     ]
    },
    {
     "name": "stderr",
     "output_type": "stream",
     "text": [
      "  1%|▉                                                              | 14/1000 [00:01<01:32, 10.65it/s, mb_sent=5.65 Mb]"
     ]
    },
    {
     "name": "stdout",
     "output_type": "stream",
     "text": [
      "------- MEMORY BUFFER FILLED -------\n"
     ]
    },
    {
     "name": "stderr",
     "output_type": "stream",
     "text": [
      "100%|███████████████████████████████████████████████████████████| 1000/1000 [01:50<00:00,  9.06it/s, mb_sent=384.36 Mb]\n"
     ]
    },
    {
     "name": "stdout",
     "output_type": "stream",
     "text": [
      "Sent 384.36 Mb/s.\tMean speed: 38.44 Mb/s\tEpisode 16/20 finished\n",
      "\n"
     ]
    },
    {
     "name": "stderr",
     "output_type": "stream",
     "text": [
      "100%|███████████████████████████████████████████████████████████| 1000/1000 [01:56<00:00,  8.61it/s, mb_sent=384.24 Mb]\n"
     ]
    },
    {
     "name": "stdout",
     "output_type": "stream",
     "text": [
      "Sent 384.24 Mb/s.\tMean speed: 38.42 Mb/s\tEpisode 17/20 finished\n",
      "\n"
     ]
    },
    {
     "name": "stderr",
     "output_type": "stream",
     "text": [
      "100%|███████████████████████████████████████████████████████████| 1000/1000 [01:50<00:00,  9.04it/s, mb_sent=383.12 Mb]\n"
     ]
    },
    {
     "name": "stdout",
     "output_type": "stream",
     "text": [
      "Sent 383.12 Mb/s.\tMean speed: 38.31 Mb/s\tEpisode 18/20 finished\n",
      "\n"
     ]
    },
    {
     "name": "stderr",
     "output_type": "stream",
     "text": [
      "100%|███████████████████████████████████████████████████████████| 1000/1000 [01:53<00:00,  8.81it/s, mb_sent=384.82 Mb]\n"
     ]
    },
    {
     "name": "stdout",
     "output_type": "stream",
     "text": [
      "Sent 384.82 Mb/s.\tMean speed: 38.48 Mb/s\tEpisode 19/20 finished\n",
      "\n"
     ]
    },
    {
     "name": "stderr",
     "output_type": "stream",
     "text": [
      "100%|███████████████████████████████████████████████████████████| 1000/1000 [01:54<00:00,  8.76it/s, mb_sent=383.61 Mb]\n"
     ]
    },
    {
     "name": "stdout",
     "output_type": "stream",
     "text": [
      "Sent 383.61 Mb/s.\tMean speed: 38.36 Mb/s\tEpisode 20/20 finished\n",
      "\n"
     ]
    },
    {
     "name": "stderr",
     "output_type": "stream",
     "text": [
      "COMET INFO: ----------------------------\n",
      "COMET INFO: Comet.ml Experiment Summary:\n",
      "COMET INFO:   Data:\n",
      "COMET INFO:     url: https://www.comet.ml/wwydmanski/rl-in-wifi/7803c5352cd6458f928cd529b5479421\n",
      "COMET INFO:   Metrics:\n",
      "COMET INFO:                     Chosen CW: 37.0\n",
      "COMET INFO:             Cumulative reward: 11.449462890625\n",
      "COMET INFO:                Megabytes sent: 383.6141910000012\n",
      "COMET INFO:                 Per-ep reward: 11.449462890625\n",
      "COMET INFO:          Round megabytes sent: 0.357422\n",
      "COMET INFO:                  Round reward: -0.0234375\n",
      "COMET INFO:                         Speed: 38.36141910000012\n",
      "COMET INFO:                    actor_loss: -0.081219524\n",
      "COMET INFO:                   critic_loss: 1.1309305\n",
      "COMET INFO:                          loss: -0.08121952414512634\n",
      "COMET INFO:         sys.gpu.0.free_memory: 7846641664\n",
      "COMET INFO:     sys.gpu.0.gpu_utilization: 1\n",
      "COMET INFO:        sys.gpu.0.total_memory: 11811160064\n",
      "COMET INFO:         sys.gpu.0.used_memory: 3964518400\n",
      "COMET INFO: ----------------------------\n",
      "COMET INFO: Uploading stats to Comet before program termination (may take several seconds)\n"
     ]
    },
    {
     "name": "stdout",
     "output_type": "stream",
     "text": [
      "Training finished.\n",
      "Params:\n",
      "lr_actor: 2.60501592078509E-5\n",
      "lr_critic: 7.619304016371738E-4\n"
     ]
    },
    {
     "name": "stderr",
     "output_type": "stream",
     "text": [
      "COMET INFO: Experiment is live on comet.ml https://www.comet.ml/wwydmanski/rl-in-wifi/548f1eca9efc48728348b837b0ded750\n",
      "\n",
      " 52%|██████████████████████████████▉                             | 516/1000 [00:43<00:41, 11.74it/s, mb_sent=143.10 Mb]"
     ]
    },
    {
     "name": "stdout",
     "output_type": "stream",
     "text": [
      "------- STARTED TRAINING -------\n"
     ]
    },
    {
     "name": "stderr",
     "output_type": "stream",
     "text": [
      "100%|███████████████████████████████████████████████████████████| 1000/1000 [01:34<00:00, 10.59it/s, mb_sent=285.12 Mb]\n"
     ]
    },
    {
     "name": "stdout",
     "output_type": "stream",
     "text": [
      "Sent 285.12 Mb/s.\tMean speed: 28.51 Mb/s\tEpisode 1/20 finished\n",
      "\n"
     ]
    },
    {
     "name": "stderr",
     "output_type": "stream",
     "text": [
      "100%|███████████████████████████████████████████████████████████| 1000/1000 [01:43<00:00,  9.65it/s, mb_sent=333.43 Mb]\n"
     ]
    },
    {
     "name": "stdout",
     "output_type": "stream",
     "text": [
      "Sent 333.43 Mb/s.\tMean speed: 33.34 Mb/s\tEpisode 2/20 finished\n",
      "\n"
     ]
    },
    {
     "name": "stderr",
     "output_type": "stream",
     "text": [
      "100%|███████████████████████████████████████████████████████████| 1000/1000 [01:46<00:00,  9.38it/s, mb_sent=370.88 Mb]\n"
     ]
    },
    {
     "name": "stdout",
     "output_type": "stream",
     "text": [
      "Sent 370.88 Mb/s.\tMean speed: 37.09 Mb/s\tEpisode 3/20 finished\n",
      "\n"
     ]
    },
    {
     "name": "stderr",
     "output_type": "stream",
     "text": [
      "100%|███████████████████████████████████████████████████████████| 1000/1000 [01:51<00:00,  8.97it/s, mb_sent=381.26 Mb]\n"
     ]
    },
    {
     "name": "stdout",
     "output_type": "stream",
     "text": [
      "Sent 381.26 Mb/s.\tMean speed: 38.13 Mb/s\tEpisode 4/20 finished\n",
      "\n"
     ]
    },
    {
     "name": "stderr",
     "output_type": "stream",
     "text": [
      "100%|███████████████████████████████████████████████████████████| 1000/1000 [01:51<00:00,  9.00it/s, mb_sent=380.59 Mb]\n"
     ]
    },
    {
     "name": "stdout",
     "output_type": "stream",
     "text": [
      "Sent 380.59 Mb/s.\tMean speed: 38.06 Mb/s\tEpisode 5/20 finished\n",
      "\n"
     ]
    },
    {
     "name": "stderr",
     "output_type": "stream",
     "text": [
      "100%|███████████████████████████████████████████████████████████| 1000/1000 [02:08<00:00,  7.81it/s, mb_sent=378.35 Mb]\n"
     ]
    },
    {
     "name": "stdout",
     "output_type": "stream",
     "text": [
      "Sent 378.35 Mb/s.\tMean speed: 37.84 Mb/s\tEpisode 6/20 finished\n",
      "\n"
     ]
    },
    {
     "name": "stderr",
     "output_type": "stream",
     "text": [
      "100%|███████████████████████████████████████████████████████████| 1000/1000 [01:49<00:00,  9.10it/s, mb_sent=374.60 Mb]\n"
     ]
    },
    {
     "name": "stdout",
     "output_type": "stream",
     "text": [
      "Sent 374.60 Mb/s.\tMean speed: 37.46 Mb/s\tEpisode 7/20 finished\n",
      "\n"
     ]
    },
    {
     "name": "stderr",
     "output_type": "stream",
     "text": [
      "100%|███████████████████████████████████████████████████████████| 1000/1000 [01:49<00:00,  9.14it/s, mb_sent=374.47 Mb]\n"
     ]
    },
    {
     "name": "stdout",
     "output_type": "stream",
     "text": [
      "Sent 374.47 Mb/s.\tMean speed: 37.45 Mb/s\tEpisode 8/20 finished\n",
      "\n"
     ]
    },
    {
     "name": "stderr",
     "output_type": "stream",
     "text": [
      "100%|███████████████████████████████████████████████████████████| 1000/1000 [02:16<00:00,  7.33it/s, mb_sent=367.60 Mb]\n"
     ]
    },
    {
     "name": "stdout",
     "output_type": "stream",
     "text": [
      "Sent 367.60 Mb/s.\tMean speed: 36.76 Mb/s\tEpisode 9/20 finished\n",
      "\n"
     ]
    },
    {
     "name": "stderr",
     "output_type": "stream",
     "text": [
      "100%|███████████████████████████████████████████████████████████| 1000/1000 [02:59<00:00,  5.58it/s, mb_sent=377.57 Mb]\n"
     ]
    },
    {
     "name": "stdout",
     "output_type": "stream",
     "text": [
      "Sent 377.57 Mb/s.\tMean speed: 37.76 Mb/s\tEpisode 10/20 finished\n",
      "\n"
     ]
    },
    {
     "name": "stderr",
     "output_type": "stream",
     "text": [
      "100%|███████████████████████████████████████████████████████████| 1000/1000 [04:52<00:00,  3.42it/s, mb_sent=377.83 Mb]\n"
     ]
    },
    {
     "name": "stdout",
     "output_type": "stream",
     "text": [
      "Sent 377.83 Mb/s.\tMean speed: 37.78 Mb/s\tEpisode 11/20 finished\n",
      "\n"
     ]
    },
    {
     "name": "stderr",
     "output_type": "stream",
     "text": [
      "100%|███████████████████████████████████████████████████████████| 1000/1000 [03:58<00:00,  4.20it/s, mb_sent=378.54 Mb]\n"
     ]
    },
    {
     "name": "stdout",
     "output_type": "stream",
     "text": [
      "Sent 378.54 Mb/s.\tMean speed: 37.85 Mb/s\tEpisode 12/20 finished\n",
      "\n"
     ]
    },
    {
     "name": "stderr",
     "output_type": "stream",
     "text": [
      " 92%|███████████████████████████████████████████████████████     | 918/1000 [03:00<00:16,  5.09it/s, mb_sent=346.98 Mb]"
     ]
    }
   ],
   "source": [
    "optimizer = Optimizer(\"OZwyhJHyqzPZgHEpDFL1zxhyI\")\n",
    "  # Declare your hyper-parameters:\n",
    "# actor_fc1 integer [1, 4] [2]\n",
    "# actor_fc2 integer [1, 4] [2]\n",
    "# actor_fc3 integer [1, 4] [2]\n",
    "\n",
    "# critic_fc1 integer [1, 4] [2]\n",
    "# critic_fc2 integer [1, 4] [2]\n",
    "# critic_fc3 integer [1, 4] [2]\n",
    "\n",
    "params = \"\"\"\n",
    "lr_actor real [1e-5, 1e-4] [6e-5] log\n",
    "lr_critic real [5e-4, 1e-3] [8e-4] log\n",
    "\"\"\"\n",
    "optimizer.set_params(params)\n",
    "\n",
    "teacher = Teacher(env, 1)\n",
    "\n",
    "while True:\n",
    "    suggestion = optimizer.get_suggestion()\n",
    "    \n",
    "    actor_l = [128, 64, 32]        # [2**(suggestion[\"actor_fc1\"]+5), 2**(suggestion[\"actor_fc2\"]+4), 2**(suggestion[\"actor_fc3\"]+3)]\n",
    "    critic_l = [512, 256, 64]      # [2**(suggestion[\"critic_fc1\"]+5), 2**(suggestion[\"critic_fc2\"]+4), 2**(suggestion[\"critic_fc3\"]+3)]\n",
    "    \n",
    "    lr_actor = suggestion[\"lr_actor\"]\n",
    "    lr_critic = suggestion[\"lr_critic\"]\n",
    "    \n",
    "    config = Config(buffer_size=1.5e4*threads_no, batch_size=512, gamma=0.99, tau=1e-3, lr_actor=lr_actor, lr_critic=lr_critic)\n",
    "    \n",
    "    print(\"Params:\")\n",
    "    for k, v in suggestion.params.items():\n",
    "        print(f\"{k}: {v}\")\n",
    "    \n",
    "    agent = Agent(history_length, action_size=1, config=config, actor_layers = actor_l, critic_layers = critic_l)\n",
    "\n",
    "    # Test the model\n",
    "    logger = teacher.train(agent, EPISODE_COUNT, simTime, stepTime, \"Inp: collisions mb\", \"Rew: normalized speed\", \"DDPG\", \"Convergence\", f\"Actor: {actor_l}\", f\"Critic: {critic_l}\", f\"Instances: {threads_no}\",\n",
    "                          **config.__dict__)\n",
    "    \n",
    "    # Report the score back\n",
    "    suggestion.report_score(\"last_speed\", logger.last_speed)\n",
    "    del agent\n",
    "\n",
    "\n",
    "SCRIPT_RUNNING = False"
   ]
  },
  {
   "cell_type": "code",
   "execution_count": null,
   "metadata": {},
   "outputs": [],
   "source": [
    "config.__dict__"
   ]
  }
 ],
 "metadata": {
  "kernelspec": {
   "display_name": "Python 3",
   "language": "python",
   "name": "python3"
  },
  "language_info": {
   "codemirror_mode": {
    "name": "ipython",
    "version": 3
   },
   "file_extension": ".py",
   "mimetype": "text/x-python",
   "name": "python",
   "nbconvert_exporter": "python",
   "pygments_lexer": "ipython3",
   "version": "3.6.5"
  }
 },
 "nbformat": 4,
 "nbformat_minor": 2
}
