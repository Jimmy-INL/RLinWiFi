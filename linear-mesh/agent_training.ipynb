{
 "cells": [
  {
   "cell_type": "code",
   "execution_count": 1,
   "metadata": {},
   "outputs": [
    {
     "name": "stderr",
     "output_type": "stream",
     "text": [
      "C:\\ProgramData\\Anaconda3\\lib\\site-packages\\requests\\__init__.py:80: RequestsDependencyWarning: urllib3 (1.24.1) or chardet (3.0.4) doesn't match a supported version!\n",
      "  RequestsDependencyWarning)\n",
      "C:\\ProgramData\\Anaconda3\\lib\\site-packages\\h5py\\__init__.py:36: FutureWarning: Conversion of the second argument of issubdtype from `float` to `np.floating` is deprecated. In future, it will be treated as `np.float64 == np.dtype(float).type`.\n",
      "  from ._conv import register_converters as _register_converters\n"
     ]
    }
   ],
   "source": [
    "from ns3gym import ns3env\n",
    "from comet_ml import Experiment, Optimizer\n",
    "import tqdm\n",
    "import subprocess\n",
    "from collections import deque\n",
    "import numpy as np\n",
    "\n",
    "from agents.ddpg.agent import Agent, Config\n",
    "# from agents.dqn.agent import Agent, Config\n",
    "# from agents.dqn.model import QNetworkTf\n",
    "from agents.teacher import Teacher, EnvWrapper"
   ]
  },
  {
   "cell_type": "markdown",
   "metadata": {},
   "source": [
    "### Basic constants and setting up environment"
   ]
  },
  {
   "cell_type": "code",
   "execution_count": 2,
   "metadata": {},
   "outputs": [
    {
     "name": "stdout",
     "output_type": "stream",
     "text": [
      "Steps per episode: 1000\n"
     ]
    }
   ],
   "source": [
    "scenario = \"convergence\"\n",
    "\n",
    "simTime = 10 # seconds\n",
    "stepTime = 0.01  # seconds\n",
    "history_length = 10\n",
    "\n",
    "\n",
    "EPISODE_COUNT = 20\n",
    "steps_per_ep = int(simTime/stepTime)\n",
    "\n",
    "sim_args = {\n",
    "    \"simTime\": simTime,\n",
    "    \"envStepTime\": stepTime,\n",
    "    \"historyLength\": 10,\n",
    "    \"agentType\": Agent.TYPE,\n",
    "    \"nonZeroStart\": True,\n",
    "    \"scenario\": \"convergence\",\n",
    "    \"nWifi\": 7\n",
    "}\n",
    "print(\"Steps per episode:\", steps_per_ep)\n",
    "\n",
    "threads_no = 1\n",
    "env = EnvWrapper(threads_no, **sim_args)"
   ]
  },
  {
   "cell_type": "code",
   "execution_count": 3,
   "metadata": {},
   "outputs": [],
   "source": [
    "# config = Config(buffer_size=2e3, batch_size=64, gamma=0.99, tau=1e-3, lr=5e-4)\n",
    "config = Config(buffer_size=1.5e4*threads_no, batch_size=512, gamma=0.99, tau=1e-3, lr_actor=6e-5, lr_critic=1e-3)"
   ]
  },
  {
   "cell_type": "code",
   "execution_count": 4,
   "metadata": {},
   "outputs": [
    {
     "name": "stdout",
     "output_type": "stream",
     "text": [
      "Observation space shape: (1, 'Box(10,)')\n",
      "Action space shape: (1, 'Box(1,)')\n"
     ]
    }
   ],
   "source": [
    "env.reset()\n",
    "ob_space = env.observation_space\n",
    "ac_space = env.action_space\n",
    "\n",
    "print(\"Observation space shape:\", ob_space)\n",
    "print(\"Action space shape:\", ac_space)\n",
    "\n",
    "assert ob_space is not None"
   ]
  },
  {
   "cell_type": "markdown",
   "metadata": {},
   "source": [
    "### Creating and training agent"
   ]
  },
  {
   "cell_type": "code",
   "execution_count": 5,
   "metadata": {},
   "outputs": [],
   "source": [
    "# import tensorflow as tf\n",
    "\n",
    "# class Network(QNetworkTf):\n",
    "#     def _inference(self):\n",
    "#         with tf.variable_scope(\"inference_\"+self.name):\n",
    "#             layer = tf.layers.dense(self.input, 128, activation=tf.nn.relu)\n",
    "# #             layer = tf.layers.dense(layer, 128, activation=tf.nn.relu)\n",
    "# #             layer = tf.layers.batch_normalization(layer)\n",
    "#             layer = tf.layers.dense(layer, 64, activation=tf.nn.relu)\n",
    "#             layer = tf.layers.dense(layer, 32, activation=tf.nn.relu)\n",
    "# #             layer = tf.layers.dense(layer, 256, activation=tf.nn.relu)\n",
    "# #             layer = tf.layers.dense(layer, 64, activation=tf.nn.relu)\n",
    "#             layer = tf.layers.dense(layer, self.action_size)\n",
    "#         return layer"
   ]
  },
  {
   "cell_type": "code",
   "execution_count": null,
   "metadata": {},
   "outputs": [
    {
     "name": "stderr",
     "output_type": "stream",
     "text": [
      "COMET INFO: old comet version (1.0.45) detected. current: 1.0.50 please update your comet lib with command: `pip install --no-cache-dir --upgrade comet_ml`\n",
      "COMET INFO: Experiment is live on comet.ml https://www.comet.ml/wwydmanski/rl-in-wifi/c8d98fc7a99c4dc0a81d7b2854e82151\n",
      "\n",
      " 52%|██████████████████████████████▉                             | 515/1000 [00:45<00:43, 11.20it/s, mb_sent=158.19 Mb]"
     ]
    },
    {
     "name": "stdout",
     "output_type": "stream",
     "text": [
      "------- STARTED TRAINING -------\n"
     ]
    },
    {
     "name": "stderr",
     "output_type": "stream",
     "text": [
      "100%|███████████████████████████████████████████████████████████| 1000/1000 [01:37<00:00, 10.23it/s, mb_sent=317.50 Mb]\n"
     ]
    },
    {
     "name": "stdout",
     "output_type": "stream",
     "text": [
      "Sent 317.50 Mb/s.\tMean speed: 31.75 Mb/s\tEpisode 1/20 finished\n",
      "\n"
     ]
    },
    {
     "name": "stderr",
     "output_type": "stream",
     "text": [
      "100%|███████████████████████████████████████████████████████████| 1000/1000 [01:46<00:00,  9.41it/s, mb_sent=367.84 Mb]\n"
     ]
    },
    {
     "name": "stdout",
     "output_type": "stream",
     "text": [
      "Sent 367.84 Mb/s.\tMean speed: 36.78 Mb/s\tEpisode 2/20 finished\n",
      "\n"
     ]
    },
    {
     "name": "stderr",
     "output_type": "stream",
     "text": [
      "100%|███████████████████████████████████████████████████████████| 1000/1000 [01:45<00:00,  9.44it/s, mb_sent=364.86 Mb]\n"
     ]
    },
    {
     "name": "stdout",
     "output_type": "stream",
     "text": [
      "Sent 364.86 Mb/s.\tMean speed: 36.49 Mb/s\tEpisode 3/20 finished\n",
      "\n"
     ]
    },
    {
     "name": "stderr",
     "output_type": "stream",
     "text": [
      "100%|███████████████████████████████████████████████████████████| 1000/1000 [01:44<00:00,  9.60it/s, mb_sent=367.44 Mb]\n"
     ]
    },
    {
     "name": "stdout",
     "output_type": "stream",
     "text": [
      "Sent 367.44 Mb/s.\tMean speed: 36.74 Mb/s\tEpisode 4/20 finished\n",
      "\n"
     ]
    },
    {
     "name": "stderr",
     "output_type": "stream",
     "text": [
      "100%|███████████████████████████████████████████████████████████| 1000/1000 [01:44<00:00,  9.59it/s, mb_sent=368.59 Mb]\n"
     ]
    },
    {
     "name": "stdout",
     "output_type": "stream",
     "text": [
      "Sent 368.59 Mb/s.\tMean speed: 36.86 Mb/s\tEpisode 5/20 finished\n",
      "\n"
     ]
    },
    {
     "name": "stderr",
     "output_type": "stream",
     "text": [
      "100%|███████████████████████████████████████████████████████████| 1000/1000 [01:43<00:00,  9.65it/s, mb_sent=371.73 Mb]\n"
     ]
    },
    {
     "name": "stdout",
     "output_type": "stream",
     "text": [
      "Sent 371.73 Mb/s.\tMean speed: 37.17 Mb/s\tEpisode 6/20 finished\n",
      "\n"
     ]
    },
    {
     "name": "stderr",
     "output_type": "stream",
     "text": [
      "100%|███████████████████████████████████████████████████████████| 1000/1000 [01:43<00:00,  9.64it/s, mb_sent=371.38 Mb]\n"
     ]
    },
    {
     "name": "stdout",
     "output_type": "stream",
     "text": [
      "Sent 371.38 Mb/s.\tMean speed: 37.14 Mb/s\tEpisode 7/20 finished\n",
      "\n"
     ]
    },
    {
     "name": "stderr",
     "output_type": "stream",
     "text": [
      "100%|███████████████████████████████████████████████████████████| 1000/1000 [01:44<00:00,  9.57it/s, mb_sent=362.14 Mb]\n"
     ]
    },
    {
     "name": "stdout",
     "output_type": "stream",
     "text": [
      "Sent 362.14 Mb/s.\tMean speed: 36.21 Mb/s\tEpisode 8/20 finished\n",
      "\n"
     ]
    },
    {
     "name": "stderr",
     "output_type": "stream",
     "text": [
      "100%|███████████████████████████████████████████████████████████| 1000/1000 [01:46<00:00,  9.41it/s, mb_sent=370.65 Mb]\n"
     ]
    },
    {
     "name": "stdout",
     "output_type": "stream",
     "text": [
      "Sent 370.65 Mb/s.\tMean speed: 37.06 Mb/s\tEpisode 9/20 finished\n",
      "\n"
     ]
    },
    {
     "name": "stderr",
     "output_type": "stream",
     "text": [
      "100%|███████████████████████████████████████████████████████████| 1000/1000 [01:44<00:00,  9.61it/s, mb_sent=369.75 Mb]\n"
     ]
    },
    {
     "name": "stdout",
     "output_type": "stream",
     "text": [
      "Sent 369.75 Mb/s.\tMean speed: 36.98 Mb/s\tEpisode 10/20 finished\n",
      "\n"
     ]
    },
    {
     "name": "stderr",
     "output_type": "stream",
     "text": [
      "100%|███████████████████████████████████████████████████████████| 1000/1000 [01:44<00:00,  9.54it/s, mb_sent=359.97 Mb]\n"
     ]
    },
    {
     "name": "stdout",
     "output_type": "stream",
     "text": [
      "Sent 359.97 Mb/s.\tMean speed: 36.00 Mb/s\tEpisode 11/20 finished\n",
      "\n"
     ]
    },
    {
     "name": "stderr",
     "output_type": "stream",
     "text": [
      "100%|███████████████████████████████████████████████████████████| 1000/1000 [01:44<00:00,  9.56it/s, mb_sent=369.76 Mb]\n"
     ]
    },
    {
     "name": "stdout",
     "output_type": "stream",
     "text": [
      "Sent 369.76 Mb/s.\tMean speed: 36.98 Mb/s\tEpisode 12/20 finished\n",
      "\n"
     ]
    },
    {
     "name": "stderr",
     "output_type": "stream",
     "text": [
      "100%|███████████████████████████████████████████████████████████| 1000/1000 [01:45<00:00,  9.52it/s, mb_sent=370.75 Mb]\n"
     ]
    },
    {
     "name": "stdout",
     "output_type": "stream",
     "text": [
      "Sent 370.75 Mb/s.\tMean speed: 37.07 Mb/s\tEpisode 13/20 finished\n",
      "\n"
     ]
    },
    {
     "name": "stderr",
     "output_type": "stream",
     "text": [
      "100%|███████████████████████████████████████████████████████████| 1000/1000 [01:44<00:00,  9.57it/s, mb_sent=369.70 Mb]\n"
     ]
    },
    {
     "name": "stdout",
     "output_type": "stream",
     "text": [
      "Sent 369.70 Mb/s.\tMean speed: 36.97 Mb/s\tEpisode 14/20 finished\n",
      "\n"
     ]
    },
    {
     "name": "stderr",
     "output_type": "stream",
     "text": [
      "100%|███████████████████████████████████████████████████████████| 1000/1000 [01:45<00:00,  9.51it/s, mb_sent=368.89 Mb]\n"
     ]
    },
    {
     "name": "stdout",
     "output_type": "stream",
     "text": [
      "Sent 368.89 Mb/s.\tMean speed: 36.89 Mb/s\tEpisode 15/20 finished\n",
      "\n"
     ]
    },
    {
     "name": "stderr",
     "output_type": "stream",
     "text": [
      "  1%|▉                                                              | 14/1000 [00:01<01:28, 11.19it/s, mb_sent=5.36 Mb]"
     ]
    },
    {
     "name": "stdout",
     "output_type": "stream",
     "text": [
      "------- MEMORY BUFFER FILLED -------\n"
     ]
    },
    {
     "name": "stderr",
     "output_type": "stream",
     "text": [
      "100%|███████████████████████████████████████████████████████████| 1000/1000 [01:44<00:00,  9.60it/s, mb_sent=364.11 Mb]\n"
     ]
    },
    {
     "name": "stdout",
     "output_type": "stream",
     "text": [
      "Sent 364.11 Mb/s.\tMean speed: 36.41 Mb/s\tEpisode 16/20 finished\n",
      "\n"
     ]
    },
    {
     "name": "stderr",
     "output_type": "stream",
     "text": [
      "100%|███████████████████████████████████████████████████████████| 1000/1000 [01:43<00:00,  9.63it/s, mb_sent=367.60 Mb]\n"
     ]
    },
    {
     "name": "stdout",
     "output_type": "stream",
     "text": [
      "Sent 367.60 Mb/s.\tMean speed: 36.76 Mb/s\tEpisode 17/20 finished\n",
      "\n"
     ]
    },
    {
     "name": "stderr",
     "output_type": "stream",
     "text": [
      "100%|███████████████████████████████████████████████████████████| 1000/1000 [01:44<00:00,  9.61it/s, mb_sent=367.35 Mb]\n"
     ]
    },
    {
     "name": "stdout",
     "output_type": "stream",
     "text": [
      "Sent 367.35 Mb/s.\tMean speed: 36.74 Mb/s\tEpisode 18/20 finished\n",
      "\n"
     ]
    },
    {
     "name": "stderr",
     "output_type": "stream",
     "text": [
      "100%|███████████████████████████████████████████████████████████| 1000/1000 [01:44<00:00,  9.61it/s, mb_sent=367.04 Mb]\n"
     ]
    },
    {
     "name": "stdout",
     "output_type": "stream",
     "text": [
      "Sent 367.04 Mb/s.\tMean speed: 36.70 Mb/s\tEpisode 19/20 finished\n",
      "\n"
     ]
    },
    {
     "name": "stderr",
     "output_type": "stream",
     "text": [
      "100%|███████████████████████████████████████████████████████████| 1000/1000 [01:44<00:00,  9.55it/s, mb_sent=367.13 Mb]\n"
     ]
    },
    {
     "name": "stdout",
     "output_type": "stream",
     "text": [
      "Sent 367.13 Mb/s.\tMean speed: 36.71 Mb/s\tEpisode 20/20 finished\n",
      "\n"
     ]
    },
    {
     "name": "stderr",
     "output_type": "stream",
     "text": [
      "COMET INFO: ----------------------------\n",
      "COMET INFO: Comet.ml Experiment Summary:\n",
      "COMET INFO:   Metrics:\n",
      "COMET INFO:                     Chosen CW: 99.0\n",
      "COMET INFO:             Cumulative reward: -10.4873046875\n",
      "COMET INFO:                Megabytes sent: 367.1281019999998\n",
      "COMET INFO:                 Per-ep reward: -10.4873046875\n",
      "COMET INFO:          Round megabytes sent: 0.379761\n",
      "COMET INFO:                  Round reward: 0.00634765625\n",
      "COMET INFO:                         Speed: 36.71281019999998\n",
      "COMET INFO:                    actor_loss: -0.017426435\n",
      "COMET INFO:                   critic_loss: 0.5355618\n",
      "COMET INFO:                          loss: -0.01742643490433693\n",
      "COMET INFO:         sys.gpu.0.free_memory: 8628494336\n",
      "COMET INFO:     sys.gpu.0.gpu_utilization: 1\n",
      "COMET INFO:        sys.gpu.0.total_memory: 11811160064\n",
      "COMET INFO:         sys.gpu.0.used_memory: 3182665728\n",
      "COMET INFO: ----------------------------\n",
      "COMET INFO: Uploading stats to Comet before program termination (may take several seconds)\n"
     ]
    },
    {
     "name": "stdout",
     "output_type": "stream",
     "text": [
      "Training finished.\n"
     ]
    },
    {
     "name": "stderr",
     "output_type": "stream",
     "text": [
      "COMET INFO: old comet version (1.0.45) detected. current: 1.0.50 please update your comet lib with command: `pip install --no-cache-dir --upgrade comet_ml`\n",
      "COMET INFO: Experiment is live on comet.ml https://www.comet.ml/wwydmanski/rl-in-wifi/7135eaf363e94ff19db1fbcdbb64af2b\n",
      "\n",
      "100%|███████████████████████████████████████████████████████████| 1000/1000 [01:40<00:00,  9.99it/s, mb_sent=335.30 Mb]\n"
     ]
    },
    {
     "name": "stdout",
     "output_type": "stream",
     "text": [
      "Sent 335.30 Mb/s.\tMean speed: 33.53 Mb/s\tEpisode 1/20 finished\n",
      "\n"
     ]
    },
    {
     "name": "stderr",
     "output_type": "stream",
     "text": [
      "100%|███████████████████████████████████████████████████████████| 1000/1000 [01:38<00:00, 10.20it/s, mb_sent=318.97 Mb]\n"
     ]
    },
    {
     "name": "stdout",
     "output_type": "stream",
     "text": [
      "Sent 318.97 Mb/s.\tMean speed: 31.90 Mb/s\tEpisode 2/20 finished\n",
      "\n"
     ]
    },
    {
     "name": "stderr",
     "output_type": "stream",
     "text": [
      "100%|███████████████████████████████████████████████████████████| 1000/1000 [01:40<00:00,  9.95it/s, mb_sent=348.85 Mb]\n"
     ]
    },
    {
     "name": "stdout",
     "output_type": "stream",
     "text": [
      "Sent 348.85 Mb/s.\tMean speed: 34.89 Mb/s\tEpisode 3/20 finished\n",
      "\n"
     ]
    },
    {
     "name": "stderr",
     "output_type": "stream",
     "text": [
      "100%|███████████████████████████████████████████████████████████| 1000/1000 [01:41<00:00,  9.84it/s, mb_sent=347.99 Mb]\n"
     ]
    },
    {
     "name": "stdout",
     "output_type": "stream",
     "text": [
      "Sent 347.99 Mb/s.\tMean speed: 34.80 Mb/s\tEpisode 4/20 finished\n",
      "\n"
     ]
    },
    {
     "name": "stderr",
     "output_type": "stream",
     "text": [
      "100%|███████████████████████████████████████████████████████████| 1000/1000 [01:45<00:00,  9.44it/s, mb_sent=347.64 Mb]\n"
     ]
    },
    {
     "name": "stdout",
     "output_type": "stream",
     "text": [
      "Sent 347.64 Mb/s.\tMean speed: 34.76 Mb/s\tEpisode 5/20 finished\n",
      "\n"
     ]
    },
    {
     "name": "stderr",
     "output_type": "stream",
     "text": [
      "100%|███████████████████████████████████████████████████████████| 1000/1000 [01:43<00:00,  9.67it/s, mb_sent=349.80 Mb]\n"
     ]
    },
    {
     "name": "stdout",
     "output_type": "stream",
     "text": [
      "Sent 349.80 Mb/s.\tMean speed: 34.98 Mb/s\tEpisode 6/20 finished\n",
      "\n"
     ]
    },
    {
     "name": "stderr",
     "output_type": "stream",
     "text": [
      "100%|███████████████████████████████████████████████████████████| 1000/1000 [01:43<00:00,  9.65it/s, mb_sent=351.19 Mb]\n"
     ]
    },
    {
     "name": "stdout",
     "output_type": "stream",
     "text": [
      "Sent 351.19 Mb/s.\tMean speed: 35.12 Mb/s\tEpisode 7/20 finished\n",
      "\n"
     ]
    },
    {
     "name": "stderr",
     "output_type": "stream",
     "text": [
      "100%|███████████████████████████████████████████████████████████| 1000/1000 [01:43<00:00,  9.70it/s, mb_sent=350.95 Mb]\n"
     ]
    },
    {
     "name": "stdout",
     "output_type": "stream",
     "text": [
      "Sent 350.95 Mb/s.\tMean speed: 35.10 Mb/s\tEpisode 8/20 finished\n",
      "\n"
     ]
    },
    {
     "name": "stderr",
     "output_type": "stream",
     "text": [
      "100%|███████████████████████████████████████████████████████████| 1000/1000 [01:44<00:00,  9.58it/s, mb_sent=359.51 Mb]\n"
     ]
    },
    {
     "name": "stdout",
     "output_type": "stream",
     "text": [
      "Sent 359.51 Mb/s.\tMean speed: 35.95 Mb/s\tEpisode 9/20 finished\n",
      "\n"
     ]
    },
    {
     "name": "stderr",
     "output_type": "stream",
     "text": [
      "100%|███████████████████████████████████████████████████████████| 1000/1000 [01:44<00:00,  9.55it/s, mb_sent=358.24 Mb]\n"
     ]
    },
    {
     "name": "stdout",
     "output_type": "stream",
     "text": [
      "Sent 358.24 Mb/s.\tMean speed: 35.82 Mb/s\tEpisode 10/20 finished\n",
      "\n"
     ]
    },
    {
     "name": "stderr",
     "output_type": "stream",
     "text": [
      "100%|███████████████████████████████████████████████████████████| 1000/1000 [01:45<00:00,  9.47it/s, mb_sent=341.61 Mb]\n"
     ]
    },
    {
     "name": "stdout",
     "output_type": "stream",
     "text": [
      "Sent 341.61 Mb/s.\tMean speed: 34.16 Mb/s\tEpisode 11/20 finished\n",
      "\n"
     ]
    },
    {
     "name": "stderr",
     "output_type": "stream",
     "text": [
      "100%|███████████████████████████████████████████████████████████| 1000/1000 [01:43<00:00,  9.66it/s, mb_sent=341.36 Mb]\n"
     ]
    },
    {
     "name": "stdout",
     "output_type": "stream",
     "text": [
      "Sent 341.36 Mb/s.\tMean speed: 34.14 Mb/s\tEpisode 12/20 finished\n",
      "\n"
     ]
    },
    {
     "name": "stderr",
     "output_type": "stream",
     "text": [
      "100%|███████████████████████████████████████████████████████████| 1000/1000 [01:40<00:00,  9.93it/s, mb_sent=314.87 Mb]\n"
     ]
    },
    {
     "name": "stdout",
     "output_type": "stream",
     "text": [
      "Sent 314.87 Mb/s.\tMean speed: 31.49 Mb/s\tEpisode 13/20 finished\n",
      "\n"
     ]
    },
    {
     "name": "stderr",
     "output_type": "stream",
     "text": [
      "100%|███████████████████████████████████████████████████████████| 1000/1000 [01:39<00:00, 10.04it/s, mb_sent=287.67 Mb]\n"
     ]
    },
    {
     "name": "stdout",
     "output_type": "stream",
     "text": [
      "Sent 287.67 Mb/s.\tMean speed: 28.77 Mb/s\tEpisode 14/20 finished\n",
      "\n"
     ]
    },
    {
     "name": "stderr",
     "output_type": "stream",
     "text": [
      "100%|███████████████████████████████████████████████████████████| 1000/1000 [01:37<00:00, 10.23it/s, mb_sent=283.71 Mb]\n"
     ]
    },
    {
     "name": "stdout",
     "output_type": "stream",
     "text": [
      "Sent 283.71 Mb/s.\tMean speed: 28.37 Mb/s\tEpisode 15/20 finished\n",
      "\n"
     ]
    },
    {
     "name": "stderr",
     "output_type": "stream",
     "text": [
      "100%|███████████████████████████████████████████████████████████| 1000/1000 [01:38<00:00, 10.18it/s, mb_sent=266.26 Mb]\n"
     ]
    },
    {
     "name": "stdout",
     "output_type": "stream",
     "text": [
      "Sent 266.26 Mb/s.\tMean speed: 26.63 Mb/s\tEpisode 16/20 finished\n",
      "\n"
     ]
    },
    {
     "name": "stderr",
     "output_type": "stream",
     "text": [
      "100%|███████████████████████████████████████████████████████████| 1000/1000 [01:32<00:00, 10.77it/s, mb_sent=261.59 Mb]\n"
     ]
    },
    {
     "name": "stdout",
     "output_type": "stream",
     "text": [
      "Sent 261.59 Mb/s.\tMean speed: 26.16 Mb/s\tEpisode 17/20 finished\n",
      "\n"
     ]
    },
    {
     "name": "stderr",
     "output_type": "stream",
     "text": [
      "100%|███████████████████████████████████████████████████████████| 1000/1000 [01:33<00:00, 10.70it/s, mb_sent=268.65 Mb]\n"
     ]
    },
    {
     "name": "stdout",
     "output_type": "stream",
     "text": [
      "Sent 268.65 Mb/s.\tMean speed: 26.86 Mb/s\tEpisode 18/20 finished\n",
      "\n"
     ]
    },
    {
     "name": "stderr",
     "output_type": "stream",
     "text": [
      "100%|███████████████████████████████████████████████████████████| 1000/1000 [01:35<00:00, 10.50it/s, mb_sent=277.42 Mb]\n"
     ]
    },
    {
     "name": "stdout",
     "output_type": "stream",
     "text": [
      "Sent 277.42 Mb/s.\tMean speed: 27.74 Mb/s\tEpisode 19/20 finished\n",
      "\n"
     ]
    },
    {
     "name": "stderr",
     "output_type": "stream",
     "text": [
      "100%|███████████████████████████████████████████████████████████| 1000/1000 [01:35<00:00, 10.47it/s, mb_sent=277.63 Mb]\n"
     ]
    },
    {
     "name": "stdout",
     "output_type": "stream",
     "text": [
      "Sent 277.63 Mb/s.\tMean speed: 27.76 Mb/s\tEpisode 20/20 finished\n",
      "\n"
     ]
    },
    {
     "name": "stderr",
     "output_type": "stream",
     "text": [
      "COMET INFO: ----------------------------\n",
      "COMET INFO: Comet.ml Experiment Summary:\n",
      "COMET INFO:   Metrics:\n",
      "COMET INFO:                     Chosen CW: 570.0\n",
      "COMET INFO:             Cumulative reward: -129.851318359375\n",
      "COMET INFO:                Megabytes sent: 277.62746700000037\n",
      "COMET INFO:                 Per-ep reward: -129.851318359375\n",
      "COMET INFO:          Round megabytes sent: 0.20105\n",
      "COMET INFO:                  Round reward: -0.23193359375\n",
      "COMET INFO:                         Speed: 27.762746700000037\n",
      "COMET INFO:                    actor_loss: 0.13110414\n",
      "COMET INFO:                   critic_loss: 0.9686145\n",
      "COMET INFO:                          loss: 0.13110414147377014\n",
      "COMET INFO:         sys.gpu.0.free_memory: 7913046016\n",
      "COMET INFO:     sys.gpu.0.gpu_utilization: 8\n",
      "COMET INFO:        sys.gpu.0.total_memory: 11811160064\n",
      "COMET INFO:         sys.gpu.0.used_memory: 3898114048\n",
      "COMET INFO: ----------------------------\n",
      "COMET INFO: Uploading stats to Comet before program termination (may take several seconds)\n"
     ]
    },
    {
     "name": "stdout",
     "output_type": "stream",
     "text": [
      "Training finished.\n"
     ]
    },
    {
     "name": "stderr",
     "output_type": "stream",
     "text": [
      "COMET INFO: old comet version (1.0.45) detected. current: 1.0.50 please update your comet lib with command: `pip install --no-cache-dir --upgrade comet_ml`\n",
      "COMET INFO: Experiment is live on comet.ml https://www.comet.ml/wwydmanski/rl-in-wifi/a709c29fcfa743c29ceccdfafc6ff82c\n",
      "\n",
      "100%|███████████████████████████████████████████████████████████| 1000/1000 [01:43<00:00,  9.62it/s, mb_sent=338.47 Mb]\n"
     ]
    },
    {
     "name": "stdout",
     "output_type": "stream",
     "text": [
      "Sent 338.47 Mb/s.\tMean speed: 33.85 Mb/s\tEpisode 1/20 finished\n",
      "\n"
     ]
    },
    {
     "name": "stderr",
     "output_type": "stream",
     "text": [
      "100%|███████████████████████████████████████████████████████████| 1000/1000 [01:45<00:00,  9.46it/s, mb_sent=373.35 Mb]\n"
     ]
    },
    {
     "name": "stdout",
     "output_type": "stream",
     "text": [
      "Sent 373.35 Mb/s.\tMean speed: 37.33 Mb/s\tEpisode 2/20 finished\n",
      "\n"
     ]
    },
    {
     "name": "stderr",
     "output_type": "stream",
     "text": [
      "100%|███████████████████████████████████████████████████████████| 1000/1000 [01:37<00:00, 10.28it/s, mb_sent=289.29 Mb]\n"
     ]
    },
    {
     "name": "stdout",
     "output_type": "stream",
     "text": [
      "Sent 289.29 Mb/s.\tMean speed: 28.93 Mb/s\tEpisode 3/20 finished\n",
      "\n"
     ]
    },
    {
     "name": "stderr",
     "output_type": "stream",
     "text": [
      "100%|███████████████████████████████████████████████████████████| 1000/1000 [01:35<00:00, 10.42it/s, mb_sent=271.75 Mb]\n"
     ]
    },
    {
     "name": "stdout",
     "output_type": "stream",
     "text": [
      "Sent 271.75 Mb/s.\tMean speed: 27.18 Mb/s\tEpisode 4/20 finished\n",
      "\n"
     ]
    },
    {
     "name": "stderr",
     "output_type": "stream",
     "text": [
      "100%|███████████████████████████████████████████████████████████| 1000/1000 [01:36<00:00, 10.39it/s, mb_sent=272.12 Mb]\n"
     ]
    },
    {
     "name": "stdout",
     "output_type": "stream",
     "text": [
      "Sent 272.12 Mb/s.\tMean speed: 27.21 Mb/s\tEpisode 5/20 finished\n",
      "\n"
     ]
    },
    {
     "name": "stderr",
     "output_type": "stream",
     "text": [
      "100%|███████████████████████████████████████████████████████████| 1000/1000 [01:35<00:00, 10.44it/s, mb_sent=272.21 Mb]\n"
     ]
    },
    {
     "name": "stdout",
     "output_type": "stream",
     "text": [
      "Sent 272.21 Mb/s.\tMean speed: 27.22 Mb/s\tEpisode 6/20 finished\n",
      "\n"
     ]
    },
    {
     "name": "stderr",
     "output_type": "stream",
     "text": [
      "100%|███████████████████████████████████████████████████████████| 1000/1000 [01:35<00:00, 10.43it/s, mb_sent=277.61 Mb]\n"
     ]
    },
    {
     "name": "stdout",
     "output_type": "stream",
     "text": [
      "Sent 277.61 Mb/s.\tMean speed: 27.76 Mb/s\tEpisode 7/20 finished\n",
      "\n"
     ]
    },
    {
     "name": "stderr",
     "output_type": "stream",
     "text": [
      "100%|███████████████████████████████████████████████████████████| 1000/1000 [01:37<00:00, 10.27it/s, mb_sent=290.58 Mb]\n"
     ]
    },
    {
     "name": "stdout",
     "output_type": "stream",
     "text": [
      "Sent 290.58 Mb/s.\tMean speed: 29.06 Mb/s\tEpisode 8/20 finished\n",
      "\n"
     ]
    },
    {
     "name": "stderr",
     "output_type": "stream",
     "text": [
      "100%|███████████████████████████████████████████████████████████| 1000/1000 [01:37<00:00, 10.22it/s, mb_sent=295.84 Mb]\n"
     ]
    },
    {
     "name": "stdout",
     "output_type": "stream",
     "text": [
      "Sent 295.84 Mb/s.\tMean speed: 29.58 Mb/s\tEpisode 9/20 finished\n",
      "\n"
     ]
    },
    {
     "name": "stderr",
     "output_type": "stream",
     "text": [
      "100%|███████████████████████████████████████████████████████████| 1000/1000 [01:38<00:00, 10.16it/s, mb_sent=293.32 Mb]\n"
     ]
    },
    {
     "name": "stdout",
     "output_type": "stream",
     "text": [
      "Sent 293.32 Mb/s.\tMean speed: 29.33 Mb/s\tEpisode 10/20 finished\n",
      "\n"
     ]
    },
    {
     "name": "stderr",
     "output_type": "stream",
     "text": [
      "100%|███████████████████████████████████████████████████████████| 1000/1000 [01:37<00:00, 10.22it/s, mb_sent=292.01 Mb]\n"
     ]
    },
    {
     "name": "stdout",
     "output_type": "stream",
     "text": [
      "Sent 292.01 Mb/s.\tMean speed: 29.20 Mb/s\tEpisode 11/20 finished\n",
      "\n"
     ]
    },
    {
     "name": "stderr",
     "output_type": "stream",
     "text": [
      "100%|███████████████████████████████████████████████████████████| 1000/1000 [01:38<00:00, 10.15it/s, mb_sent=291.98 Mb]\n"
     ]
    },
    {
     "name": "stdout",
     "output_type": "stream",
     "text": [
      "Sent 291.98 Mb/s.\tMean speed: 29.20 Mb/s\tEpisode 12/20 finished\n",
      "\n"
     ]
    },
    {
     "name": "stderr",
     "output_type": "stream",
     "text": [
      "100%|███████████████████████████████████████████████████████████| 1000/1000 [01:39<00:00, 10.08it/s, mb_sent=290.47 Mb]\n"
     ]
    },
    {
     "name": "stdout",
     "output_type": "stream",
     "text": [
      "Sent 290.47 Mb/s.\tMean speed: 29.05 Mb/s\tEpisode 13/20 finished\n",
      "\n"
     ]
    },
    {
     "name": "stderr",
     "output_type": "stream",
     "text": [
      "100%|███████████████████████████████████████████████████████████| 1000/1000 [01:39<00:00, 10.05it/s, mb_sent=292.94 Mb]\n"
     ]
    },
    {
     "name": "stdout",
     "output_type": "stream",
     "text": [
      "Sent 292.94 Mb/s.\tMean speed: 29.29 Mb/s\tEpisode 14/20 finished\n",
      "\n"
     ]
    },
    {
     "name": "stderr",
     "output_type": "stream",
     "text": [
      "100%|███████████████████████████████████████████████████████████| 1000/1000 [01:45<00:00,  9.47it/s, mb_sent=298.64 Mb]\n"
     ]
    },
    {
     "name": "stdout",
     "output_type": "stream",
     "text": [
      "Sent 298.64 Mb/s.\tMean speed: 29.86 Mb/s\tEpisode 15/20 finished\n",
      "\n"
     ]
    },
    {
     "name": "stderr",
     "output_type": "stream",
     "text": [
      "100%|███████████████████████████████████████████████████████████| 1000/1000 [01:50<00:00,  9.07it/s, mb_sent=298.83 Mb]\n"
     ]
    },
    {
     "name": "stdout",
     "output_type": "stream",
     "text": [
      "Sent 298.83 Mb/s.\tMean speed: 29.88 Mb/s\tEpisode 16/20 finished\n",
      "\n"
     ]
    },
    {
     "name": "stderr",
     "output_type": "stream",
     "text": [
      "100%|███████████████████████████████████████████████████████████| 1000/1000 [01:50<00:00,  9.02it/s, mb_sent=309.61 Mb]\n"
     ]
    },
    {
     "name": "stdout",
     "output_type": "stream",
     "text": [
      "Sent 309.61 Mb/s.\tMean speed: 30.96 Mb/s\tEpisode 17/20 finished\n",
      "\n"
     ]
    },
    {
     "name": "stderr",
     "output_type": "stream",
     "text": [
      "100%|███████████████████████████████████████████████████████████| 1000/1000 [01:53<00:00,  8.82it/s, mb_sent=319.26 Mb]\n"
     ]
    },
    {
     "name": "stdout",
     "output_type": "stream",
     "text": [
      "Sent 319.26 Mb/s.\tMean speed: 31.93 Mb/s\tEpisode 18/20 finished\n",
      "\n"
     ]
    },
    {
     "name": "stderr",
     "output_type": "stream",
     "text": [
      "100%|███████████████████████████████████████████████████████████| 1000/1000 [01:52<00:00,  8.88it/s, mb_sent=318.25 Mb]\n"
     ]
    },
    {
     "name": "stdout",
     "output_type": "stream",
     "text": [
      "Sent 318.25 Mb/s.\tMean speed: 31.83 Mb/s\tEpisode 19/20 finished\n",
      "\n"
     ]
    },
    {
     "name": "stderr",
     "output_type": "stream",
     "text": [
      "100%|███████████████████████████████████████████████████████████| 1000/1000 [01:49<00:00,  9.16it/s, mb_sent=319.36 Mb]\n"
     ]
    },
    {
     "name": "stdout",
     "output_type": "stream",
     "text": [
      "Sent 319.36 Mb/s.\tMean speed: 31.94 Mb/s\tEpisode 20/20 finished\n",
      "\n"
     ]
    },
    {
     "name": "stderr",
     "output_type": "stream",
     "text": [
      "COMET INFO: ----------------------------\n",
      "COMET INFO: Comet.ml Experiment Summary:\n",
      "COMET INFO:   Metrics:\n",
      "COMET INFO:                     Chosen CW: 16.0\n",
      "COMET INFO:             Cumulative reward: -74.212646484375\n",
      "COMET INFO:                Megabytes sent: 319.3564550000008\n",
      "COMET INFO:                 Per-ep reward: -74.212646484375\n",
      "COMET INFO:          Round megabytes sent: 0.268066\n",
      "COMET INFO:                  Round reward: -0.142578125\n",
      "COMET INFO:                         Speed: 31.935645500000078\n",
      "COMET INFO:                    actor_loss: 0.42178676\n",
      "COMET INFO:                   critic_loss: 1.328913\n",
      "COMET INFO:                          loss: 0.42178675532341003\n",
      "COMET INFO:         sys.gpu.0.free_memory: 7715426304\n",
      "COMET INFO:     sys.gpu.0.gpu_utilization: 16\n",
      "COMET INFO:        sys.gpu.0.total_memory: 11811160064\n",
      "COMET INFO:         sys.gpu.0.used_memory: 4095733760\n",
      "COMET INFO: ----------------------------\n",
      "COMET INFO: Uploading stats to Comet before program termination (may take several seconds)\n"
     ]
    },
    {
     "name": "stdout",
     "output_type": "stream",
     "text": [
      "Training finished.\n"
     ]
    },
    {
     "name": "stderr",
     "output_type": "stream",
     "text": [
      "COMET INFO: old comet version (1.0.45) detected. current: 1.0.50 please update your comet lib with command: `pip install --no-cache-dir --upgrade comet_ml`\n",
      "COMET INFO: Experiment is live on comet.ml https://www.comet.ml/wwydmanski/rl-in-wifi/bf58b039e76941039a6f2b005d470354\n",
      "\n",
      "100%|███████████████████████████████████████████████████████████| 1000/1000 [01:53<00:00,  8.80it/s, mb_sent=364.03 Mb]\n"
     ]
    },
    {
     "name": "stdout",
     "output_type": "stream",
     "text": [
      "Sent 364.03 Mb/s.\tMean speed: 36.40 Mb/s\tEpisode 1/20 finished\n",
      "\n"
     ]
    },
    {
     "name": "stderr",
     "output_type": "stream",
     "text": [
      "100%|███████████████████████████████████████████████████████████| 1000/1000 [01:57<00:00,  8.48it/s, mb_sent=347.50 Mb]\n"
     ]
    },
    {
     "name": "stdout",
     "output_type": "stream",
     "text": [
      "Sent 347.50 Mb/s.\tMean speed: 34.75 Mb/s\tEpisode 2/20 finished\n",
      "\n"
     ]
    },
    {
     "name": "stderr",
     "output_type": "stream",
     "text": [
      "100%|███████████████████████████████████████████████████████████| 1000/1000 [01:58<00:00,  8.44it/s, mb_sent=339.06 Mb]\n"
     ]
    },
    {
     "name": "stdout",
     "output_type": "stream",
     "text": [
      "Sent 339.06 Mb/s.\tMean speed: 33.91 Mb/s\tEpisode 3/20 finished\n",
      "\n"
     ]
    },
    {
     "name": "stderr",
     "output_type": "stream",
     "text": [
      "100%|███████████████████████████████████████████████████████████| 1000/1000 [01:58<00:00,  8.44it/s, mb_sent=341.45 Mb]\n"
     ]
    },
    {
     "name": "stdout",
     "output_type": "stream",
     "text": [
      "Sent 341.45 Mb/s.\tMean speed: 34.14 Mb/s\tEpisode 4/20 finished\n",
      "\n"
     ]
    },
    {
     "name": "stderr",
     "output_type": "stream",
     "text": [
      "100%|███████████████████████████████████████████████████████████| 1000/1000 [01:58<00:00,  8.45it/s, mb_sent=370.39 Mb]\n"
     ]
    },
    {
     "name": "stdout",
     "output_type": "stream",
     "text": [
      "Sent 370.39 Mb/s.\tMean speed: 37.04 Mb/s\tEpisode 5/20 finished\n",
      "\n"
     ]
    },
    {
     "name": "stderr",
     "output_type": "stream",
     "text": [
      "100%|███████████████████████████████████████████████████████████| 1000/1000 [01:56<00:00,  8.60it/s, mb_sent=366.37 Mb]\n"
     ]
    },
    {
     "name": "stdout",
     "output_type": "stream",
     "text": [
      "Sent 366.37 Mb/s.\tMean speed: 36.64 Mb/s\tEpisode 6/20 finished\n",
      "\n"
     ]
    },
    {
     "name": "stderr",
     "output_type": "stream",
     "text": [
      "100%|███████████████████████████████████████████████████████████| 1000/1000 [01:50<00:00,  9.02it/s, mb_sent=358.78 Mb]\n"
     ]
    },
    {
     "name": "stdout",
     "output_type": "stream",
     "text": [
      "Sent 358.78 Mb/s.\tMean speed: 35.88 Mb/s\tEpisode 7/20 finished\n",
      "\n"
     ]
    },
    {
     "name": "stderr",
     "output_type": "stream",
     "text": [
      "100%|███████████████████████████████████████████████████████████| 1000/1000 [01:53<00:00,  8.79it/s, mb_sent=360.63 Mb]\n"
     ]
    },
    {
     "name": "stdout",
     "output_type": "stream",
     "text": [
      "Sent 360.63 Mb/s.\tMean speed: 36.06 Mb/s\tEpisode 8/20 finished\n",
      "\n"
     ]
    },
    {
     "name": "stderr",
     "output_type": "stream",
     "text": [
      "100%|███████████████████████████████████████████████████████████| 1000/1000 [01:51<00:00,  8.94it/s, mb_sent=362.28 Mb]\n"
     ]
    },
    {
     "name": "stdout",
     "output_type": "stream",
     "text": [
      "Sent 362.28 Mb/s.\tMean speed: 36.23 Mb/s\tEpisode 9/20 finished\n",
      "\n"
     ]
    },
    {
     "name": "stderr",
     "output_type": "stream",
     "text": [
      "100%|███████████████████████████████████████████████████████████| 1000/1000 [01:56<00:00,  8.62it/s, mb_sent=370.29 Mb]\n"
     ]
    },
    {
     "name": "stdout",
     "output_type": "stream",
     "text": [
      "Sent 370.29 Mb/s.\tMean speed: 37.03 Mb/s\tEpisode 10/20 finished\n",
      "\n"
     ]
    },
    {
     "name": "stderr",
     "output_type": "stream",
     "text": [
      "100%|███████████████████████████████████████████████████████████| 1000/1000 [01:56<00:00,  8.56it/s, mb_sent=378.73 Mb]\n"
     ]
    },
    {
     "name": "stdout",
     "output_type": "stream",
     "text": [
      "Sent 378.73 Mb/s.\tMean speed: 37.87 Mb/s\tEpisode 11/20 finished\n",
      "\n"
     ]
    },
    {
     "name": "stderr",
     "output_type": "stream",
     "text": [
      "100%|███████████████████████████████████████████████████████████| 1000/1000 [01:56<00:00,  8.57it/s, mb_sent=380.30 Mb]\n"
     ]
    },
    {
     "name": "stdout",
     "output_type": "stream",
     "text": [
      "Sent 380.30 Mb/s.\tMean speed: 38.03 Mb/s\tEpisode 12/20 finished\n",
      "\n"
     ]
    },
    {
     "name": "stderr",
     "output_type": "stream",
     "text": [
      "100%|███████████████████████████████████████████████████████████| 1000/1000 [01:56<00:00,  8.59it/s, mb_sent=378.79 Mb]\n"
     ]
    },
    {
     "name": "stdout",
     "output_type": "stream",
     "text": [
      "Sent 378.79 Mb/s.\tMean speed: 37.88 Mb/s\tEpisode 13/20 finished\n",
      "\n"
     ]
    },
    {
     "name": "stderr",
     "output_type": "stream",
     "text": [
      "100%|███████████████████████████████████████████████████████████| 1000/1000 [01:50<00:00,  9.05it/s, mb_sent=378.54 Mb]\n"
     ]
    },
    {
     "name": "stdout",
     "output_type": "stream",
     "text": [
      "Sent 378.54 Mb/s.\tMean speed: 37.85 Mb/s\tEpisode 14/20 finished\n",
      "\n"
     ]
    },
    {
     "name": "stderr",
     "output_type": "stream",
     "text": [
      "100%|███████████████████████████████████████████████████████████| 1000/1000 [01:49<00:00,  9.15it/s, mb_sent=375.43 Mb]\n"
     ]
    },
    {
     "name": "stdout",
     "output_type": "stream",
     "text": [
      "Sent 375.43 Mb/s.\tMean speed: 37.54 Mb/s\tEpisode 15/20 finished\n",
      "\n"
     ]
    },
    {
     "name": "stderr",
     "output_type": "stream",
     "text": [
      "100%|███████████████████████████████████████████████████████████| 1000/1000 [01:50<00:00,  9.07it/s, mb_sent=361.44 Mb]\n"
     ]
    },
    {
     "name": "stdout",
     "output_type": "stream",
     "text": [
      "Sent 361.44 Mb/s.\tMean speed: 36.14 Mb/s\tEpisode 16/20 finished\n",
      "\n"
     ]
    },
    {
     "name": "stderr",
     "output_type": "stream",
     "text": [
      "100%|███████████████████████████████████████████████████████████| 1000/1000 [01:49<00:00,  9.14it/s, mb_sent=365.88 Mb]\n"
     ]
    },
    {
     "name": "stdout",
     "output_type": "stream",
     "text": [
      "Sent 365.88 Mb/s.\tMean speed: 36.59 Mb/s\tEpisode 17/20 finished\n",
      "\n"
     ]
    },
    {
     "name": "stderr",
     "output_type": "stream",
     "text": [
      "100%|███████████████████████████████████████████████████████████| 1000/1000 [01:50<00:00,  9.08it/s, mb_sent=368.70 Mb]\n"
     ]
    },
    {
     "name": "stdout",
     "output_type": "stream",
     "text": [
      "Sent 368.70 Mb/s.\tMean speed: 36.87 Mb/s\tEpisode 18/20 finished\n",
      "\n"
     ]
    },
    {
     "name": "stderr",
     "output_type": "stream",
     "text": [
      "100%|███████████████████████████████████████████████████████████| 1000/1000 [01:50<00:00,  9.04it/s, mb_sent=363.21 Mb]\n"
     ]
    },
    {
     "name": "stdout",
     "output_type": "stream",
     "text": [
      "Sent 363.21 Mb/s.\tMean speed: 36.32 Mb/s\tEpisode 19/20 finished\n",
      "\n"
     ]
    },
    {
     "name": "stderr",
     "output_type": "stream",
     "text": [
      "100%|███████████████████████████████████████████████████████████| 1000/1000 [01:41<00:00,  9.83it/s, mb_sent=279.14 Mb]\n"
     ]
    },
    {
     "name": "stdout",
     "output_type": "stream",
     "text": [
      "Sent 279.14 Mb/s.\tMean speed: 27.91 Mb/s\tEpisode 20/20 finished\n",
      "\n"
     ]
    },
    {
     "name": "stderr",
     "output_type": "stream",
     "text": [
      "COMET INFO: ----------------------------\n",
      "COMET INFO: Comet.ml Experiment Summary:\n",
      "COMET INFO:   Metrics:\n",
      "COMET INFO:                     Chosen CW: 72.0\n",
      "COMET INFO:             Cumulative reward: -127.825927734375\n",
      "COMET INFO:                Megabytes sent: 279.1353030000011\n",
      "COMET INFO:                 Per-ep reward: -127.825927734375\n",
      "COMET INFO:          Round megabytes sent: 0.39093\n",
      "COMET INFO:                  Round reward: 0.021240234375\n",
      "COMET INFO:                         Speed: 27.91353030000011\n",
      "COMET INFO:                    actor_loss: 0.2618592\n",
      "COMET INFO:                   critic_loss: 0.55955666\n",
      "COMET INFO:                          loss: 0.2618592083454132\n",
      "COMET INFO:         sys.gpu.0.free_memory: 7662592000\n",
      "COMET INFO:     sys.gpu.0.gpu_utilization: 27\n",
      "COMET INFO:        sys.gpu.0.total_memory: 11811160064\n",
      "COMET INFO:         sys.gpu.0.used_memory: 4148568064\n",
      "COMET INFO: ----------------------------\n",
      "COMET INFO: Uploading stats to Comet before program termination (may take several seconds)\n"
     ]
    },
    {
     "name": "stdout",
     "output_type": "stream",
     "text": [
      "Training finished.\n"
     ]
    },
    {
     "name": "stderr",
     "output_type": "stream",
     "text": [
      "COMET INFO: old comet version (1.0.45) detected. current: 1.0.50 please update your comet lib with command: `pip install --no-cache-dir --upgrade comet_ml`\n",
      "COMET INFO: Experiment is live on comet.ml https://www.comet.ml/wwydmanski/rl-in-wifi/82710e0608cb4877aeb211cb09bc68b2\n",
      "\n",
      "100%|███████████████████████████████████████████████████████████| 1000/1000 [01:49<00:00,  9.15it/s, mb_sent=361.50 Mb]\n"
     ]
    },
    {
     "name": "stdout",
     "output_type": "stream",
     "text": [
      "Sent 361.50 Mb/s.\tMean speed: 36.15 Mb/s\tEpisode 1/20 finished\n",
      "\n"
     ]
    },
    {
     "name": "stderr",
     "output_type": "stream",
     "text": [
      "100%|███████████████████████████████████████████████████████████| 1000/1000 [01:50<00:00,  9.03it/s, mb_sent=359.18 Mb]\n"
     ]
    },
    {
     "name": "stdout",
     "output_type": "stream",
     "text": [
      "Sent 359.18 Mb/s.\tMean speed: 35.92 Mb/s\tEpisode 2/20 finished\n",
      "\n"
     ]
    },
    {
     "name": "stderr",
     "output_type": "stream",
     "text": [
      "100%|███████████████████████████████████████████████████████████| 1000/1000 [01:51<00:00,  8.95it/s, mb_sent=345.63 Mb]\n"
     ]
    },
    {
     "name": "stdout",
     "output_type": "stream",
     "text": [
      "Sent 345.63 Mb/s.\tMean speed: 34.56 Mb/s\tEpisode 3/20 finished\n",
      "\n"
     ]
    },
    {
     "name": "stderr",
     "output_type": "stream",
     "text": [
      "100%|███████████████████████████████████████████████████████████| 1000/1000 [01:52<00:00,  8.88it/s, mb_sent=383.19 Mb]\n"
     ]
    },
    {
     "name": "stdout",
     "output_type": "stream",
     "text": [
      "Sent 383.19 Mb/s.\tMean speed: 38.32 Mb/s\tEpisode 4/20 finished\n",
      "\n"
     ]
    },
    {
     "name": "stderr",
     "output_type": "stream",
     "text": [
      "100%|███████████████████████████████████████████████████████████| 1000/1000 [01:52<00:00,  8.89it/s, mb_sent=383.85 Mb]\n"
     ]
    },
    {
     "name": "stdout",
     "output_type": "stream",
     "text": [
      "Sent 383.85 Mb/s.\tMean speed: 38.38 Mb/s\tEpisode 5/20 finished\n",
      "\n"
     ]
    },
    {
     "name": "stderr",
     "output_type": "stream",
     "text": [
      "100%|███████████████████████████████████████████████████████████| 1000/1000 [01:52<00:00,  8.91it/s, mb_sent=383.95 Mb]\n"
     ]
    },
    {
     "name": "stdout",
     "output_type": "stream",
     "text": [
      "Sent 383.95 Mb/s.\tMean speed: 38.39 Mb/s\tEpisode 6/20 finished\n",
      "\n"
     ]
    },
    {
     "name": "stderr",
     "output_type": "stream",
     "text": [
      "100%|███████████████████████████████████████████████████████████| 1000/1000 [01:51<00:00,  8.96it/s, mb_sent=382.63 Mb]\n"
     ]
    },
    {
     "name": "stdout",
     "output_type": "stream",
     "text": [
      "Sent 382.63 Mb/s.\tMean speed: 38.26 Mb/s\tEpisode 7/20 finished\n",
      "\n"
     ]
    },
    {
     "name": "stderr",
     "output_type": "stream",
     "text": [
      "100%|███████████████████████████████████████████████████████████| 1000/1000 [01:52<00:00,  8.86it/s, mb_sent=383.36 Mb]\n"
     ]
    },
    {
     "name": "stdout",
     "output_type": "stream",
     "text": [
      "Sent 383.36 Mb/s.\tMean speed: 38.34 Mb/s\tEpisode 8/20 finished\n",
      "\n"
     ]
    },
    {
     "name": "stderr",
     "output_type": "stream",
     "text": [
      "100%|███████████████████████████████████████████████████████████| 1000/1000 [01:51<00:00,  8.94it/s, mb_sent=382.78 Mb]\n"
     ]
    },
    {
     "name": "stdout",
     "output_type": "stream",
     "text": [
      "Sent 382.78 Mb/s.\tMean speed: 38.28 Mb/s\tEpisode 9/20 finished\n",
      "\n"
     ]
    },
    {
     "name": "stderr",
     "output_type": "stream",
     "text": [
      "100%|███████████████████████████████████████████████████████████| 1000/1000 [01:51<00:00,  8.94it/s, mb_sent=383.90 Mb]\n"
     ]
    },
    {
     "name": "stdout",
     "output_type": "stream",
     "text": [
      "Sent 383.90 Mb/s.\tMean speed: 38.39 Mb/s\tEpisode 10/20 finished\n",
      "\n"
     ]
    },
    {
     "name": "stderr",
     "output_type": "stream",
     "text": [
      "100%|███████████████████████████████████████████████████████████| 1000/1000 [01:51<00:00,  9.00it/s, mb_sent=382.97 Mb]\n"
     ]
    },
    {
     "name": "stdout",
     "output_type": "stream",
     "text": [
      "Sent 382.97 Mb/s.\tMean speed: 38.30 Mb/s\tEpisode 11/20 finished\n",
      "\n"
     ]
    },
    {
     "name": "stderr",
     "output_type": "stream",
     "text": [
      "100%|███████████████████████████████████████████████████████████| 1000/1000 [01:50<00:00,  9.02it/s, mb_sent=385.14 Mb]\n"
     ]
    },
    {
     "name": "stdout",
     "output_type": "stream",
     "text": [
      "Sent 385.14 Mb/s.\tMean speed: 38.51 Mb/s\tEpisode 12/20 finished\n",
      "\n"
     ]
    },
    {
     "name": "stderr",
     "output_type": "stream",
     "text": [
      "100%|███████████████████████████████████████████████████████████| 1000/1000 [01:54<00:00,  8.76it/s, mb_sent=385.36 Mb]\n"
     ]
    },
    {
     "name": "stdout",
     "output_type": "stream",
     "text": [
      "Sent 385.36 Mb/s.\tMean speed: 38.54 Mb/s\tEpisode 13/20 finished\n",
      "\n"
     ]
    },
    {
     "name": "stderr",
     "output_type": "stream",
     "text": [
      "100%|███████████████████████████████████████████████████████████| 1000/1000 [01:57<00:00,  8.51it/s, mb_sent=384.81 Mb]\n"
     ]
    },
    {
     "name": "stdout",
     "output_type": "stream",
     "text": [
      "Sent 384.81 Mb/s.\tMean speed: 38.48 Mb/s\tEpisode 14/20 finished\n",
      "\n"
     ]
    },
    {
     "name": "stderr",
     "output_type": "stream",
     "text": [
      "100%|███████████████████████████████████████████████████████████| 1000/1000 [01:57<00:00,  8.55it/s, mb_sent=381.07 Mb]\n"
     ]
    },
    {
     "name": "stdout",
     "output_type": "stream",
     "text": [
      "Sent 381.07 Mb/s.\tMean speed: 38.11 Mb/s\tEpisode 15/20 finished\n",
      "\n"
     ]
    },
    {
     "name": "stderr",
     "output_type": "stream",
     "text": [
      "100%|███████████████████████████████████████████████████████████| 1000/1000 [01:57<00:00,  8.49it/s, mb_sent=374.14 Mb]\n"
     ]
    },
    {
     "name": "stdout",
     "output_type": "stream",
     "text": [
      "Sent 374.14 Mb/s.\tMean speed: 37.41 Mb/s\tEpisode 16/20 finished\n",
      "\n"
     ]
    },
    {
     "name": "stderr",
     "output_type": "stream",
     "text": [
      "100%|███████████████████████████████████████████████████████████| 1000/1000 [01:57<00:00,  8.53it/s, mb_sent=372.33 Mb]\n"
     ]
    },
    {
     "name": "stdout",
     "output_type": "stream",
     "text": [
      "Sent 372.33 Mb/s.\tMean speed: 37.23 Mb/s\tEpisode 17/20 finished\n",
      "\n"
     ]
    },
    {
     "name": "stderr",
     "output_type": "stream",
     "text": [
      "100%|███████████████████████████████████████████████████████████| 1000/1000 [01:57<00:00,  8.49it/s, mb_sent=378.15 Mb]\n"
     ]
    },
    {
     "name": "stdout",
     "output_type": "stream",
     "text": [
      "Sent 378.15 Mb/s.\tMean speed: 37.82 Mb/s\tEpisode 18/20 finished\n",
      "\n"
     ]
    },
    {
     "name": "stderr",
     "output_type": "stream",
     "text": [
      "100%|███████████████████████████████████████████████████████████| 1000/1000 [01:57<00:00,  8.51it/s, mb_sent=380.03 Mb]\n"
     ]
    },
    {
     "name": "stdout",
     "output_type": "stream",
     "text": [
      "Sent 380.03 Mb/s.\tMean speed: 38.00 Mb/s\tEpisode 19/20 finished\n",
      "\n"
     ]
    },
    {
     "name": "stderr",
     "output_type": "stream",
     "text": [
      "100%|███████████████████████████████████████████████████████████| 1000/1000 [01:55<00:00,  8.67it/s, mb_sent=367.30 Mb]\n"
     ]
    },
    {
     "name": "stdout",
     "output_type": "stream",
     "text": [
      "Sent 367.30 Mb/s.\tMean speed: 36.73 Mb/s\tEpisode 20/20 finished\n",
      "\n"
     ]
    },
    {
     "name": "stderr",
     "output_type": "stream",
     "text": [
      "COMET INFO: ----------------------------\n",
      "COMET INFO: Comet.ml Experiment Summary:\n",
      "COMET INFO:   Metrics:\n",
      "COMET INFO:                     Chosen CW: 48.0\n",
      "COMET INFO:             Cumulative reward: -10.33837890625\n",
      "COMET INFO:                Megabytes sent: 367.29565199999956\n",
      "COMET INFO:                 Per-ep reward: -10.33837890625\n",
      "COMET INFO:          Round megabytes sent: 0.413269\n",
      "COMET INFO:                  Round reward: 0.051025390625\n",
      "COMET INFO:                         Speed: 36.72956519999995\n",
      "COMET INFO:                    actor_loss: 0.1932603\n",
      "COMET INFO:                   critic_loss: 0.5411854\n",
      "COMET INFO:                          loss: 0.1932602971792221\n",
      "COMET INFO:         sys.gpu.0.free_memory: 7671361536\n",
      "COMET INFO:     sys.gpu.0.gpu_utilization: 26\n",
      "COMET INFO:        sys.gpu.0.total_memory: 11811160064\n",
      "COMET INFO:         sys.gpu.0.used_memory: 4139798528\n",
      "COMET INFO: ----------------------------\n",
      "COMET INFO: Uploading stats to Comet before program termination (may take several seconds)\n"
     ]
    },
    {
     "name": "stdout",
     "output_type": "stream",
     "text": [
      "Training finished.\n"
     ]
    },
    {
     "name": "stderr",
     "output_type": "stream",
     "text": [
      "COMET INFO: old comet version (1.0.45) detected. current: 1.0.50 please update your comet lib with command: `pip install --no-cache-dir --upgrade comet_ml`\n",
      "COMET INFO: Experiment is live on comet.ml https://www.comet.ml/wwydmanski/rl-in-wifi/b34c4414ecc34d219101384d8629fef6\n",
      "\n",
      "100%|███████████████████████████████████████████████████████████| 1000/1000 [01:49<00:00,  9.14it/s, mb_sent=339.18 Mb]\n"
     ]
    },
    {
     "name": "stdout",
     "output_type": "stream",
     "text": [
      "Sent 339.18 Mb/s.\tMean speed: 33.92 Mb/s\tEpisode 1/20 finished\n",
      "\n"
     ]
    },
    {
     "name": "stderr",
     "output_type": "stream",
     "text": [
      "100%|███████████████████████████████████████████████████████████| 1000/1000 [01:48<00:00,  9.23it/s, mb_sent=326.87 Mb]\n"
     ]
    },
    {
     "name": "stdout",
     "output_type": "stream",
     "text": [
      "Sent 326.87 Mb/s.\tMean speed: 32.69 Mb/s\tEpisode 2/20 finished\n",
      "\n"
     ]
    },
    {
     "name": "stderr",
     "output_type": "stream",
     "text": [
      "100%|███████████████████████████████████████████████████████████| 1000/1000 [01:53<00:00,  8.83it/s, mb_sent=357.78 Mb]\n"
     ]
    },
    {
     "name": "stdout",
     "output_type": "stream",
     "text": [
      "Sent 357.78 Mb/s.\tMean speed: 35.78 Mb/s\tEpisode 3/20 finished\n",
      "\n"
     ]
    },
    {
     "name": "stderr",
     "output_type": "stream",
     "text": [
      "100%|███████████████████████████████████████████████████████████| 1000/1000 [01:56<00:00,  8.55it/s, mb_sent=376.01 Mb]\n"
     ]
    },
    {
     "name": "stdout",
     "output_type": "stream",
     "text": [
      "Sent 376.01 Mb/s.\tMean speed: 37.60 Mb/s\tEpisode 4/20 finished\n",
      "\n"
     ]
    },
    {
     "name": "stderr",
     "output_type": "stream",
     "text": [
      "100%|███████████████████████████████████████████████████████████| 1000/1000 [01:57<00:00,  8.50it/s, mb_sent=383.54 Mb]\n"
     ]
    },
    {
     "name": "stdout",
     "output_type": "stream",
     "text": [
      "Sent 383.54 Mb/s.\tMean speed: 38.35 Mb/s\tEpisode 5/20 finished\n",
      "\n"
     ]
    },
    {
     "name": "stderr",
     "output_type": "stream",
     "text": [
      "100%|███████████████████████████████████████████████████████████| 1000/1000 [01:56<00:00,  8.61it/s, mb_sent=382.42 Mb]\n"
     ]
    },
    {
     "name": "stdout",
     "output_type": "stream",
     "text": [
      "Sent 382.42 Mb/s.\tMean speed: 38.24 Mb/s\tEpisode 6/20 finished\n",
      "\n"
     ]
    },
    {
     "name": "stderr",
     "output_type": "stream",
     "text": [
      "100%|███████████████████████████████████████████████████████████| 1000/1000 [01:54<00:00,  8.71it/s, mb_sent=379.68 Mb]\n"
     ]
    },
    {
     "name": "stdout",
     "output_type": "stream",
     "text": [
      "Sent 379.68 Mb/s.\tMean speed: 37.97 Mb/s\tEpisode 7/20 finished\n",
      "\n"
     ]
    },
    {
     "name": "stderr",
     "output_type": "stream",
     "text": [
      "100%|███████████████████████████████████████████████████████████| 1000/1000 [01:54<00:00,  8.76it/s, mb_sent=379.06 Mb]\n"
     ]
    },
    {
     "name": "stdout",
     "output_type": "stream",
     "text": [
      "Sent 379.06 Mb/s.\tMean speed: 37.91 Mb/s\tEpisode 8/20 finished\n",
      "\n"
     ]
    },
    {
     "name": "stderr",
     "output_type": "stream",
     "text": [
      "100%|███████████████████████████████████████████████████████████| 1000/1000 [01:53<00:00,  8.80it/s, mb_sent=379.47 Mb]\n"
     ]
    },
    {
     "name": "stdout",
     "output_type": "stream",
     "text": [
      "Sent 379.47 Mb/s.\tMean speed: 37.95 Mb/s\tEpisode 9/20 finished\n",
      "\n"
     ]
    },
    {
     "name": "stderr",
     "output_type": "stream",
     "text": [
      "100%|███████████████████████████████████████████████████████████| 1000/1000 [01:51<00:00,  8.97it/s, mb_sent=378.81 Mb]\n"
     ]
    },
    {
     "name": "stdout",
     "output_type": "stream",
     "text": [
      "Sent 378.81 Mb/s.\tMean speed: 37.88 Mb/s\tEpisode 10/20 finished\n",
      "\n"
     ]
    },
    {
     "name": "stderr",
     "output_type": "stream",
     "text": [
      "100%|███████████████████████████████████████████████████████████| 1000/1000 [01:52<00:00,  8.86it/s, mb_sent=380.26 Mb]\n"
     ]
    },
    {
     "name": "stdout",
     "output_type": "stream",
     "text": [
      "Sent 380.26 Mb/s.\tMean speed: 38.03 Mb/s\tEpisode 11/20 finished\n",
      "\n"
     ]
    },
    {
     "name": "stderr",
     "output_type": "stream",
     "text": [
      "100%|███████████████████████████████████████████████████████████| 1000/1000 [01:49<00:00,  9.11it/s, mb_sent=380.29 Mb]\n"
     ]
    },
    {
     "name": "stdout",
     "output_type": "stream",
     "text": [
      "Sent 380.29 Mb/s.\tMean speed: 38.03 Mb/s\tEpisode 12/20 finished\n",
      "\n"
     ]
    },
    {
     "name": "stderr",
     "output_type": "stream",
     "text": [
      "100%|███████████████████████████████████████████████████████████| 1000/1000 [01:52<00:00,  8.88it/s, mb_sent=381.08 Mb]\n"
     ]
    },
    {
     "name": "stdout",
     "output_type": "stream",
     "text": [
      "Sent 381.08 Mb/s.\tMean speed: 38.11 Mb/s\tEpisode 13/20 finished\n",
      "\n"
     ]
    },
    {
     "name": "stderr",
     "output_type": "stream",
     "text": [
      "100%|███████████████████████████████████████████████████████████| 1000/1000 [01:56<00:00,  8.60it/s, mb_sent=380.68 Mb]\n"
     ]
    },
    {
     "name": "stdout",
     "output_type": "stream",
     "text": [
      "Sent 380.68 Mb/s.\tMean speed: 38.07 Mb/s\tEpisode 14/20 finished\n",
      "\n"
     ]
    },
    {
     "name": "stderr",
     "output_type": "stream",
     "text": [
      "100%|███████████████████████████████████████████████████████████| 1000/1000 [01:56<00:00,  8.57it/s, mb_sent=380.08 Mb]\n"
     ]
    },
    {
     "name": "stdout",
     "output_type": "stream",
     "text": [
      "Sent 380.08 Mb/s.\tMean speed: 38.01 Mb/s\tEpisode 15/20 finished\n",
      "\n"
     ]
    },
    {
     "name": "stderr",
     "output_type": "stream",
     "text": [
      "100%|███████████████████████████████████████████████████████████| 1000/1000 [01:55<00:00,  8.69it/s, mb_sent=379.77 Mb]\n"
     ]
    },
    {
     "name": "stdout",
     "output_type": "stream",
     "text": [
      "Sent 379.77 Mb/s.\tMean speed: 37.98 Mb/s\tEpisode 16/20 finished\n",
      "\n"
     ]
    },
    {
     "name": "stderr",
     "output_type": "stream",
     "text": [
      "100%|███████████████████████████████████████████████████████████| 1000/1000 [01:54<00:00,  8.73it/s, mb_sent=379.19 Mb]\n"
     ]
    },
    {
     "name": "stdout",
     "output_type": "stream",
     "text": [
      "Sent 379.19 Mb/s.\tMean speed: 37.92 Mb/s\tEpisode 17/20 finished\n",
      "\n"
     ]
    },
    {
     "name": "stderr",
     "output_type": "stream",
     "text": [
      "100%|███████████████████████████████████████████████████████████| 1000/1000 [01:54<00:00,  8.75it/s, mb_sent=378.55 Mb]\n"
     ]
    },
    {
     "name": "stdout",
     "output_type": "stream",
     "text": [
      "Sent 378.55 Mb/s.\tMean speed: 37.86 Mb/s\tEpisode 18/20 finished\n",
      "\n"
     ]
    },
    {
     "name": "stderr",
     "output_type": "stream",
     "text": [
      "100%|███████████████████████████████████████████████████████████| 1000/1000 [01:56<00:00,  8.61it/s, mb_sent=374.77 Mb]\n"
     ]
    },
    {
     "name": "stdout",
     "output_type": "stream",
     "text": [
      "Sent 374.77 Mb/s.\tMean speed: 37.48 Mb/s\tEpisode 19/20 finished\n",
      "\n"
     ]
    },
    {
     "name": "stderr",
     "output_type": "stream",
     "text": [
      "100%|███████████████████████████████████████████████████████████| 1000/1000 [01:54<00:00,  8.77it/s, mb_sent=373.06 Mb]\n"
     ]
    },
    {
     "name": "stdout",
     "output_type": "stream",
     "text": [
      "Sent 373.06 Mb/s.\tMean speed: 37.31 Mb/s\tEpisode 20/20 finished\n",
      "\n"
     ]
    },
    {
     "name": "stderr",
     "output_type": "stream",
     "text": [
      "COMET INFO: ----------------------------\n",
      "COMET INFO: Comet.ml Experiment Summary:\n",
      "COMET INFO:   Metrics:\n",
      "COMET INFO:                     Chosen CW: 66.0\n",
      "COMET INFO:             Cumulative reward: -2.59423828125\n",
      "COMET INFO:                Megabytes sent: 373.0590590000006\n",
      "COMET INFO:                 Per-ep reward: -2.59423828125\n",
      "COMET INFO:          Round megabytes sent: 0.379761\n",
      "COMET INFO:                  Round reward: 0.00634765625\n",
      "COMET INFO:                         Speed: 37.30590590000006\n",
      "COMET INFO:                    actor_loss: 0.2098749\n",
      "COMET INFO:                   critic_loss: 0.525615\n",
      "COMET INFO:                          loss: 0.20987489819526672\n",
      "COMET INFO:         sys.gpu.0.free_memory: 7619538944\n",
      "COMET INFO:     sys.gpu.0.gpu_utilization: 21\n",
      "COMET INFO:        sys.gpu.0.total_memory: 11811160064\n",
      "COMET INFO:         sys.gpu.0.used_memory: 4191621120\n",
      "COMET INFO: ----------------------------\n",
      "COMET INFO: Uploading stats to Comet before program termination (may take several seconds)\n"
     ]
    },
    {
     "name": "stdout",
     "output_type": "stream",
     "text": [
      "Training finished.\n"
     ]
    },
    {
     "name": "stderr",
     "output_type": "stream",
     "text": [
      "COMET INFO: old comet version (1.0.45) detected. current: 1.0.50 please update your comet lib with command: `pip install --no-cache-dir --upgrade comet_ml`\n",
      "COMET INFO: Experiment is live on comet.ml https://www.comet.ml/wwydmanski/rl-in-wifi/5766fef567b24dd983e4679239b7af25\n",
      "\n",
      "100%|███████████████████████████████████████████████████████████| 1000/1000 [01:49<00:00,  9.17it/s, mb_sent=349.56 Mb]\n"
     ]
    },
    {
     "name": "stdout",
     "output_type": "stream",
     "text": [
      "Sent 349.56 Mb/s.\tMean speed: 34.96 Mb/s\tEpisode 1/20 finished\n",
      "\n"
     ]
    },
    {
     "name": "stderr",
     "output_type": "stream",
     "text": [
      "100%|███████████████████████████████████████████████████████████| 1000/1000 [01:48<00:00,  9.19it/s, mb_sent=346.13 Mb]\n"
     ]
    },
    {
     "name": "stdout",
     "output_type": "stream",
     "text": [
      "Sent 346.13 Mb/s.\tMean speed: 34.61 Mb/s\tEpisode 2/20 finished\n",
      "\n"
     ]
    },
    {
     "name": "stderr",
     "output_type": "stream",
     "text": [
      "100%|███████████████████████████████████████████████████████████| 1000/1000 [01:50<00:00,  9.05it/s, mb_sent=367.82 Mb]\n"
     ]
    },
    {
     "name": "stdout",
     "output_type": "stream",
     "text": [
      "Sent 367.82 Mb/s.\tMean speed: 36.78 Mb/s\tEpisode 3/20 finished\n",
      "\n"
     ]
    },
    {
     "name": "stderr",
     "output_type": "stream",
     "text": [
      "100%|███████████████████████████████████████████████████████████| 1000/1000 [01:54<00:00,  8.71it/s, mb_sent=344.13 Mb]\n"
     ]
    },
    {
     "name": "stdout",
     "output_type": "stream",
     "text": [
      "Sent 344.13 Mb/s.\tMean speed: 34.41 Mb/s\tEpisode 4/20 finished\n",
      "\n"
     ]
    },
    {
     "name": "stderr",
     "output_type": "stream",
     "text": [
      " 94%|████████████████████████████████████████████████████████▍   | 941/1000 [01:42<00:06,  9.18it/s, mb_sent=329.46 Mb]"
     ]
    }
   ],
   "source": [
    "optimizer = Optimizer(\"OZwyhJHyqzPZgHEpDFL1zxhyI\")\n",
    "  # Declare your hyper-parameters:\n",
    "params = \"\"\"\n",
    "lr_actor real [1e-7, 1e-4] [6e-5] log\n",
    "lr_critic real [1e-6, 1e-3] [1e-3] log\n",
    "\"\"\"\n",
    "optimizer.set_params(params)\n",
    "\n",
    "agent = Agent(history_length, action_size=1, config=config)\n",
    "# agent = Agent(Network, history_length, action_size=3, config=config)\n",
    "# agent.set_epsilon(0.9, 0.01, 25)\n",
    "teacher = Teacher(agent, env, 1)\n",
    "# teacher.train(EPISODE_COUNT, simTime, stepTime, \"Inp: window Mb sent\", \"Rew: normalized speed\", \"DQN\", \"Convergence\", \"Instances: 2\", \"Net: 128, 64, 32\")\n",
    "\n",
    "while True:\n",
    "    # Get a suggestion\n",
    "    suggestion = optimizer.get_suggestion()\n",
    "    config = Config(buffer_size=1.5*threads_no, batch_size=512, gamma=0.99, tau=1e-3, lr_actor=suggestion[\"lr_actor\"], lr_critic=suggestion[\"lr_critic\"])\n",
    "\n",
    "    # Test the model\n",
    "    logger = teacher.train(EPISODE_COUNT, simTime, stepTime, \"Inp: collisions mb\", \"Rew: normalized speed\", \"DDPG\", \"Convergence\", \"Actor: 256, 128, 64\", \"Critic: 512, 256, 128\", f\"Instances: {threads_no}\",\n",
    "                          **config.__dict__)\n",
    "    \n",
    "    # Report the score back\n",
    "    suggestion.report_score(\"last_speed\", logger.last_speed)\n",
    "\n",
    "\n",
    "SCRIPT_RUNNING = False"
   ]
  },
  {
   "cell_type": "code",
   "execution_count": null,
   "metadata": {},
   "outputs": [],
   "source": [
    "config.__dict__"
   ]
  }
 ],
 "metadata": {
  "kernelspec": {
   "display_name": "Python 3",
   "language": "python",
   "name": "python3"
  },
  "language_info": {
   "codemirror_mode": {
    "name": "ipython",
    "version": 3
   },
   "file_extension": ".py",
   "mimetype": "text/x-python",
   "name": "python",
   "nbconvert_exporter": "python",
   "pygments_lexer": "ipython3",
   "version": "3.6.5"
  }
 },
 "nbformat": 4,
 "nbformat_minor": 2
}
