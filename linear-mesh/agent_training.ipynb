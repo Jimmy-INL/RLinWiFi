{
 "cells": [
  {
   "cell_type": "code",
   "execution_count": 1,
   "metadata": {},
   "outputs": [],
   "source": [
    "from ns3gym import ns3env\n",
    "from comet_ml import Experiment, Optimizer\n",
    "import tqdm\n",
    "import subprocess\n",
    "from collections import deque\n",
    "import numpy as np\n",
    "\n",
    "from agents.ddpg.agent import Agent, Config\n",
    "# from agents.dqn.agent import Agent, Config\n",
    "# from agents.dqn.model import QNetworkTf\n",
    "from agents.teacher import Teacher, EnvWrapper"
   ]
  },
  {
   "cell_type": "markdown",
   "metadata": {},
   "source": [
    "### Basic constants and setting up environment"
   ]
  },
  {
   "cell_type": "code",
   "execution_count": 2,
   "metadata": {},
   "outputs": [
    {
     "name": "stdout",
     "output_type": "stream",
     "text": [
      "Steps per episode: 1000\n"
     ]
    }
   ],
   "source": [
    "scenario = \"convergence\"\n",
    "\n",
    "simTime = 10 # seconds\n",
    "stepTime = 0.01  # seconds\n",
    "history_length = 10\n",
    "\n",
    "\n",
    "EPISODE_COUNT = 15\n",
    "steps_per_ep = int(simTime/stepTime)\n",
    "\n",
    "sim_args = {\n",
    "    \"simTime\": simTime,\n",
    "    \"envStepTime\": stepTime,\n",
    "    \"historyLength\": 100,\n",
    "    \"agentType\": Agent.TYPE,\n",
    "    \"nonZeroStart\": True,\n",
    "    \"scenario\": \"convergence\",\n",
    "    \"nWifi\": 6\n",
    "}\n",
    "print(\"Steps per episode:\", steps_per_ep)\n",
    "\n",
    "threads_no = 1\n",
    "env = EnvWrapper(threads_no, **sim_args)"
   ]
  },
  {
   "cell_type": "code",
   "execution_count": 3,
   "metadata": {},
   "outputs": [],
   "source": [
    "# config = Config(buffer_size=2e3, batch_size=64, gamma=0.99, tau=1e-3, lr=5e-4)\n",
    "config = Config(buffer_size=1.5e4*threads_no, batch_size=512, gamma=0.99, tau=1e-3, lr_actor=6e-5, lr_critic=1e-3)"
   ]
  },
  {
   "cell_type": "code",
   "execution_count": 4,
   "metadata": {},
   "outputs": [
    {
     "name": "stdout",
     "output_type": "stream",
     "text": [
      "Observation space shape: (1, 'Box(10,)')\n",
      "Action space shape: (1, 'Box(1,)')\n"
     ]
    }
   ],
   "source": [
    "env.reset()\n",
    "ob_space = env.observation_space\n",
    "ac_space = env.action_space\n",
    "\n",
    "print(\"Observation space shape:\", ob_space)\n",
    "print(\"Action space shape:\", ac_space)\n",
    "\n",
    "assert ob_space is not None"
   ]
  },
  {
   "cell_type": "markdown",
   "metadata": {},
   "source": [
    "### Creating and training agent"
   ]
  },
  {
   "cell_type": "code",
   "execution_count": 5,
   "metadata": {},
   "outputs": [],
   "source": [
    "# import tensorflow as tf\n",
    "\n",
    "# class Network(QNetworkTf):\n",
    "#     def _inference(self):\n",
    "#         with tf.variable_scope(\"inference_\"+self.name):\n",
    "#             layer = tf.layers.dense(self.input, 128, activation=tf.nn.relu)\n",
    "# #             layer = tf.layers.dense(layer, 128, activation=tf.nn.relu)\n",
    "# #             layer = tf.layers.batch_normalization(layer)\n",
    "#             layer = tf.layers.dense(layer, 64, activation=tf.nn.relu)\n",
    "#             layer = tf.layers.dense(layer, 32, activation=tf.nn.relu)\n",
    "# #             layer = tf.layers.dense(layer, 256, activation=tf.nn.relu)\n",
    "# #             layer = tf.layers.dense(layer, 64, activation=tf.nn.relu)\n",
    "#             layer = tf.layers.dense(layer, self.action_size)\n",
    "#         return layer"
   ]
  },
  {
   "cell_type": "code",
   "execution_count": null,
   "metadata": {},
   "outputs": [
    {
     "name": "stdout",
     "output_type": "stream",
     "text": [
      "Params:\n",
      "lr_actor: 6.000000000000003E-5\n",
      "lr_critic: 8.000000000000004E-4\n"
     ]
    },
    {
     "name": "stderr",
     "output_type": "stream",
     "text": [
      "COMET INFO: Experiment is live on comet.ml https://www.comet.ml/wwydmanski/rl-in-wifi/1dbe003dc7ea4e63930f6fda241e33c0\n",
      "\n",
      " 52%|██████████████████████████████▉                             | 516/1000 [00:48<00:45, 10.61it/s, mb_sent=154.22 Mb]"
     ]
    },
    {
     "name": "stdout",
     "output_type": "stream",
     "text": [
      "------- STARTED TRAINING -------\n"
     ]
    },
    {
     "name": "stderr",
     "output_type": "stream",
     "text": [
      "100%|███████████████████████████████████████████████████████████| 1000/1000 [01:34<00:00, 10.55it/s, mb_sent=305.85 Mb]\n"
     ]
    },
    {
     "name": "stdout",
     "output_type": "stream",
     "text": [
      "Sent 305.85 Mb/s.\tMean speed: 30.59 Mb/s\tEpisode 1/15 finished\n",
      "\n"
     ]
    },
    {
     "name": "stderr",
     "output_type": "stream",
     "text": [
      "100%|███████████████████████████████████████████████████████████| 1000/1000 [01:37<00:00, 10.27it/s, mb_sent=368.48 Mb]\n"
     ]
    },
    {
     "name": "stdout",
     "output_type": "stream",
     "text": [
      "Sent 368.48 Mb/s.\tMean speed: 36.85 Mb/s\tEpisode 2/15 finished\n",
      "\n"
     ]
    },
    {
     "name": "stderr",
     "output_type": "stream",
     "text": [
      "100%|███████████████████████████████████████████████████████████| 1000/1000 [01:40<00:00,  9.96it/s, mb_sent=376.41 Mb]\n"
     ]
    },
    {
     "name": "stdout",
     "output_type": "stream",
     "text": [
      "Sent 376.41 Mb/s.\tMean speed: 37.64 Mb/s\tEpisode 3/15 finished\n",
      "\n"
     ]
    },
    {
     "name": "stderr",
     "output_type": "stream",
     "text": [
      "100%|███████████████████████████████████████████████████████████| 1000/1000 [01:40<00:00,  9.90it/s, mb_sent=377.85 Mb]\n"
     ]
    },
    {
     "name": "stdout",
     "output_type": "stream",
     "text": [
      "Sent 377.85 Mb/s.\tMean speed: 37.79 Mb/s\tEpisode 4/15 finished\n",
      "\n"
     ]
    },
    {
     "name": "stderr",
     "output_type": "stream",
     "text": [
      "100%|███████████████████████████████████████████████████████████| 1000/1000 [01:40<00:00,  9.91it/s, mb_sent=378.84 Mb]\n"
     ]
    },
    {
     "name": "stdout",
     "output_type": "stream",
     "text": [
      "Sent 378.84 Mb/s.\tMean speed: 37.88 Mb/s\tEpisode 5/15 finished\n",
      "\n"
     ]
    },
    {
     "name": "stderr",
     "output_type": "stream",
     "text": [
      " 17%|██████████▌                                                  | 174/1000 [00:17<01:21, 10.14it/s, mb_sent=66.36 Mb]"
     ]
    }
   ],
   "source": [
    "optimizer = Optimizer(\"OZwyhJHyqzPZgHEpDFL1zxhyI\")\n",
    "  # Declare your hyper-parameters:\n",
    "# actor_fc1 integer [1, 4] [2]\n",
    "# actor_fc2 integer [1, 4] [2]\n",
    "# actor_fc3 integer [1, 4] [2]\n",
    "\n",
    "# critic_fc1 integer [1, 4] [2]\n",
    "# critic_fc2 integer [1, 4] [2]\n",
    "# critic_fc3 integer [1, 4] [2]\n",
    "\n",
    "params = \"\"\"\n",
    "lr_actor real [1e-5, 5e-4] [6e-5] log\n",
    "lr_critic real [5e-4, 1e-3] [8e-4] log\n",
    "\"\"\"\n",
    "optimizer.set_params(params)\n",
    "\n",
    "teacher = Teacher(env, 1)\n",
    "\n",
    "while True:\n",
    "    suggestion = optimizer.get_suggestion()\n",
    "    \n",
    "    actor_l = [128, 64, 32]        # [2**(suggestion[\"actor_fc1\"]+5), 2**(suggestion[\"actor_fc2\"]+4), 2**(suggestion[\"actor_fc3\"]+3)]\n",
    "    critic_l = [512, 256, 64]      # [2**(suggestion[\"critic_fc1\"]+5), 2**(suggestion[\"critic_fc2\"]+4), 2**(suggestion[\"critic_fc3\"]+3)]\n",
    "    \n",
    "    lr_actor = suggestion[\"lr_actor\"]\n",
    "    lr_critic = suggestion[\"lr_critic\"]\n",
    "    \n",
    "    config = Config(buffer_size=1.5e4*threads_no, batch_size=512, gamma=0.99, tau=1e-3, lr_actor=lr_actor, lr_critic=lr_critic)\n",
    "    \n",
    "    print(\"Params:\")\n",
    "    for k, v in suggestion.params.items():\n",
    "        print(f\"{k}: {v}\")\n",
    "    \n",
    "    agent = Agent(history_length, action_size=1, config=config, actor_layers = actor_l, critic_layers = critic_l)\n",
    "\n",
    "    # Test the model\n",
    "    logger = teacher.train(agent, EPISODE_COUNT, simTime, stepTime, \"Inp: collisions mb\", \"Rew: normalized speed\", \"DDPG\", \"Convergence\", f\"Actor: {actor_l}\", f\"Critic: {critic_l}\", f\"Instances: {threads_no}\", \"LSTM\",\n",
    "                          **config.__dict__)\n",
    "    \n",
    "    # Report the score back\n",
    "    suggestion.report_score(\"last_speed\", logger.last_speed)\n",
    "    del agent\n",
    "\n",
    "\n",
    "SCRIPT_RUNNING = False"
   ]
  },
  {
   "cell_type": "code",
   "execution_count": null,
   "metadata": {},
   "outputs": [],
   "source": [
    "config.__dict__"
   ]
  }
 ],
 "metadata": {
  "kernelspec": {
   "display_name": "Python 3",
   "language": "python",
   "name": "python3"
  },
  "language_info": {
   "codemirror_mode": {
    "name": "ipython",
    "version": 3
   },
   "file_extension": ".py",
   "mimetype": "text/x-python",
   "name": "python",
   "nbconvert_exporter": "python",
   "pygments_lexer": "ipython3",
   "version": "3.6.5"
  }
 },
 "nbformat": 4,
 "nbformat_minor": 2
}
