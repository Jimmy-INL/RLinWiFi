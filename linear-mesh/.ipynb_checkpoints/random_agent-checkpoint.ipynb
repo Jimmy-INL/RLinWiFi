{
 "cells": [
  {
   "cell_type": "code",
   "execution_count": 1,
   "metadata": {},
   "outputs": [],
   "source": [
    "from ns3gym import ns3env\n",
    "from comet_ml import Experiment\n",
    "import tqdm\n",
    "import subprocess"
   ]
  },
  {
   "cell_type": "code",
   "execution_count": 6,
   "metadata": {},
   "outputs": [],
   "source": [
    "EPISODE_COUNT = 3\n",
    "STEPS_PER_EP = 100\n",
    "\n",
    "SCRIPT_RUNNING = False"
   ]
  },
  {
   "cell_type": "code",
   "execution_count": 3,
   "metadata": {},
   "outputs": [
    {
     "name": "stdout",
     "output_type": "stream",
     "text": [
      "Waiting for simulation script to connect on port: tcp://localhost:5555\n",
      "Please start proper ns-3 simulation script using ./waf --run \"...\"\n"
     ]
    }
   ],
   "source": [
    "port = 5555\n",
    "simTime = 10 # seconds\n",
    "stepTime = 0.01  # seconds\n",
    "seed = 0\n",
    "simArgs = {\"--simTime\": simTime,\n",
    "           \"--testArg\": 123,\n",
    "           \"--nodeNum\": 5,\n",
    "           \"--distance\": 500}\n",
    "debug = False\n",
    "\n",
    "subprocess.Popen(['bash', '-c', '../../waf --run linear-mesh'])\n",
    "SCRIPT_RUNNING = True\n",
    "\n",
    "env = ns3env.Ns3Env(port=port, stepTime=stepTime, startSim=0, simSeed=seed, simArgs=simArgs, debug=debug)"
   ]
  },
  {
   "cell_type": "code",
   "execution_count": 4,
   "metadata": {},
   "outputs": [
    {
     "name": "stdout",
     "output_type": "stream",
     "text": [
      "Observation space shape: Box(5,)\n",
      "Action space shape: Box(5,)\n"
     ]
    }
   ],
   "source": [
    "env.reset()\n",
    "ob_space = env.observation_space\n",
    "ac_space = env.action_space\n",
    "\n",
    "print(\"Observation space shape:\", ob_space)\n",
    "print(\"Action space shape:\", ac_space)"
   ]
  },
  {
   "cell_type": "code",
   "execution_count": 7,
   "metadata": {},
   "outputs": [
    {
     "name": "stderr",
     "output_type": "stream",
     "text": [
      "COMET INFO: old comet version (1.0.44) detected. current: 1.0.45 please update your comet lib with command: `pip install --no-cache-dir --upgrade comet_ml`\n",
      "COMET INFO: Experiment is live on comet.ml https://www.comet.ml/wwydmanski/rl-in-wifi/bdb02e212ef64b92a47b4da887eb5292\n",
      "\n",
      "  0%|                                                                                            | 0/3 [00:00<?, ?it/s]"
     ]
    },
    {
     "name": "stdout",
     "output_type": "stream",
     "text": [
      "Waiting for simulation script to connect on port: tcp://localhost:5555\n",
      "Please start proper ns-3 simulation script using ./waf --run \"...\"\n"
     ]
    },
    {
     "name": "stderr",
     "output_type": "stream",
     "text": [
      " 33%|████████████████████                                        | 1/3 [00:06<00:12,  6.24s/it, cumul_rew=335, step=99]"
     ]
    },
    {
     "name": "stdout",
     "output_type": "stream",
     "text": [
      "Waiting for simulation script to connect on port: tcp://localhost:5555\n",
      "Please start proper ns-3 simulation script using ./waf --run \"...\"\n"
     ]
    },
    {
     "name": "stderr",
     "output_type": "stream",
     "text": [
      " 67%|████████████████████████████████████████                    | 2/3 [00:12<00:06,  6.11s/it, cumul_rew=376, step=99]"
     ]
    },
    {
     "name": "stdout",
     "output_type": "stream",
     "text": [
      "Waiting for simulation script to connect on port: tcp://localhost:5555\n",
      "Please start proper ns-3 simulation script using ./waf --run \"...\"\n"
     ]
    },
    {
     "name": "stderr",
     "output_type": "stream",
     "text": [
      "100%|████████████████████████████████████████████████████████████| 3/3 [00:26<00:00,  8.84s/it, cumul_rew=354, step=99]\n",
      "COMET INFO: ----------------------------\n",
      "COMET INFO: Comet.ml Experiment Summary:\n",
      "COMET INFO:   Metrics:\n",
      "COMET INFO:             Cumulative reward: 354.0\n",
      "COMET INFO:                 Per-ep reward: 354.0\n",
      "COMET INFO:         sys.gpu.0.free_memory: 9732943872\n",
      "COMET INFO:     sys.gpu.0.gpu_utilization: 0\n",
      "COMET INFO:        sys.gpu.0.total_memory: 11811160064\n",
      "COMET INFO:         sys.gpu.0.used_memory: 2078216192\n",
      "COMET INFO: ----------------------------\n",
      "COMET INFO: Uploading stats to Comet before program termination (may take several seconds)\n"
     ]
    }
   ],
   "source": [
    "experiment = Experiment(api_key=\"OZwyhJHyqzPZgHEpDFL1zxhyI\",\n",
    "                        project_name=\"rl-in-wifi\", workspace=\"wwydmanski\")\n",
    "\n",
    "experiment.log_parameter(\"Episode count\", EPISODE_COUNT)\n",
    "experiment.log_parameter(\"Steps per episode\", STEPS_PER_EP)\n",
    " \n",
    "with tqdm.trange(EPISODE_COUNT) as t:\n",
    "    for i in t:\n",
    "        if not SCRIPT_RUNNING:\n",
    "            subprocess.Popen(['bash', '-c', '../../waf --run linear-mesh'])\n",
    "            SCRIPT_RUNNING = True\n",
    "        \n",
    "        cumulative_reward = 0\n",
    "        reward = 0\n",
    "        \n",
    "        obs = env.reset()\n",
    "        for step in range(STEPS_PER_EP):\n",
    "            action = env.action_space.sample()\n",
    "            action = action * 1 + 1\n",
    "            obs, reward, done, info = env.step(action)\n",
    "            cumulative_reward += reward\n",
    "            experiment.log_metric(\"Per-ep reward\", cumulative_reward, step=i*STEPS_PER_EP+step)\n",
    "            \n",
    "            t.set_postfix(step=step, cumul_rew=cumulative_reward)\n",
    "            \n",
    "        experiment.log_metric(\"Cumulative reward\", cumulative_reward, step=i)\n",
    "        SCRIPT_RUNNING = False\n",
    "            \n",
    "experiment.end()"
   ]
  },
  {
   "cell_type": "code",
   "execution_count": null,
   "metadata": {},
   "outputs": [],
   "source": []
  }
 ],
 "metadata": {
  "kernelspec": {
   "display_name": "Python 3",
   "language": "python",
   "name": "python3"
  },
  "language_info": {
   "codemirror_mode": {
    "name": "ipython",
    "version": 3
   },
   "file_extension": ".py",
   "mimetype": "text/x-python",
   "name": "python",
   "nbconvert_exporter": "python",
   "pygments_lexer": "ipython3",
   "version": "3.6.5"
  }
 },
 "nbformat": 4,
 "nbformat_minor": 2
}
