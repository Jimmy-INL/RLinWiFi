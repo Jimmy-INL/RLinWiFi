{
 "cells": [
  {
   "cell_type": "code",
   "execution_count": 1,
   "metadata": {},
   "outputs": [
    {
     "name": "stderr",
     "output_type": "stream",
     "text": [
      "C:\\ProgramData\\Anaconda3\\lib\\site-packages\\requests\\__init__.py:80: RequestsDependencyWarning: urllib3 (1.24.1) or chardet (3.0.4) doesn't match a supported version!\n",
      "  RequestsDependencyWarning)\n"
     ]
    }
   ],
   "source": [
    "from ns3gym import ns3env\n",
    "from comet_ml import Experiment\n",
    "import tqdm\n",
    "import subprocess\n",
    "from collections import deque"
   ]
  },
  {
   "cell_type": "code",
   "execution_count": 2,
   "metadata": {},
   "outputs": [
    {
     "name": "stdout",
     "output_type": "stream",
     "text": [
      "Steps per episode: 100\n"
     ]
    }
   ],
   "source": [
    "simTime = 10 # seconds\n",
    "stepTime = 0.1  # seconds\n",
    "\n",
    "EPISODE_COUNT = 3\n",
    "steps_per_ep = int(simTime/stepTime)\n",
    "\n",
    "SCRIPT_RUNNING = False\n",
    "\n",
    "script_exec_command = f'../../waf --run \"linear-mesh --simTime={simTime} --envStepTime={stepTime}\"'\n",
    "print(\"Steps per episode:\", steps_per_ep)"
   ]
  },
  {
   "cell_type": "code",
   "execution_count": 3,
   "metadata": {},
   "outputs": [
    {
     "name": "stdout",
     "output_type": "stream",
     "text": [
      "Waiting for simulation script to connect on port: tcp://localhost:5555\n",
      "Please start proper ns-3 simulation script using ./waf --run \"...\"\n"
     ]
    }
   ],
   "source": [
    "port = 5555\n",
    "seed = 0\n",
    "\n",
    "simArgs = {\"--simTime\": simTime,\n",
    "           \"--testArg\": 123,\n",
    "           \"--nodeNum\": 5,\n",
    "           \"--distance\": 500}\n",
    "debug = False\n",
    "\n",
    "subprocess.Popen(['bash', '-c', script_exec_command])\n",
    "SCRIPT_RUNNING = True\n",
    "\n",
    "env = ns3env.Ns3Env(port=port, stepTime=stepTime, startSim=0, simSeed=seed, simArgs=simArgs, debug=debug)"
   ]
  },
  {
   "cell_type": "code",
   "execution_count": 4,
   "metadata": {},
   "outputs": [
    {
     "name": "stdout",
     "output_type": "stream",
     "text": [
      "Observation space shape: Box(4,)\n",
      "Action space shape: Box(1,)\n"
     ]
    }
   ],
   "source": [
    "env.reset()\n",
    "ob_space = env.observation_space\n",
    "ac_space = env.action_space\n",
    "\n",
    "print(\"Observation space shape:\", ob_space)\n",
    "print(\"Action space shape:\", ac_space)"
   ]
  },
  {
   "cell_type": "code",
   "execution_count": 5,
   "metadata": {},
   "outputs": [
    {
     "name": "stderr",
     "output_type": "stream",
     "text": [
      "COMET INFO: Experiment is live on comet.ml https://www.comet.ml/wwydmanski/rl-in-wifi/46a5bae930d74bb59c3e596f876d12b3\n",
      "\n",
      "100%|████████████████████████████████████████████████| 100/100 [00:40<00:00,  2.44it/s, cumul_rew=308.80 Mb/s, step=99]\n"
     ]
    },
    {
     "name": "stdout",
     "output_type": "stream",
     "text": [
      "Sent 308.80 Mb/s.\tMean per round: 308.798592209816 Episode 1/3 finished\n",
      "\n",
      "Waiting for simulation script to connect on port: tcp://localhost:5555\n",
      "Please start proper ns-3 simulation script using ./waf --run \"...\"\n"
     ]
    },
    {
     "name": "stderr",
     "output_type": "stream",
     "text": [
      "100%|███████████████████████████████████████████████| 100/100 [00:41<00:00,  2.42it/s, cumul_rew=320.91 Mb/s, step=199]\n"
     ]
    },
    {
     "name": "stdout",
     "output_type": "stream",
     "text": [
      "Sent 320.91 Mb/s.\tMean per round: 320.90879940986633 Episode 2/3 finished\n",
      "\n",
      "Waiting for simulation script to connect on port: tcp://localhost:5555\n",
      "Please start proper ns-3 simulation script using ./waf --run \"...\"\n"
     ]
    },
    {
     "name": "stderr",
     "output_type": "stream",
     "text": [
      "100%|███████████████████████████████████████████████| 100/100 [00:41<00:00,  2.41it/s, cumul_rew=319.91 Mb/s, step=299]\n"
     ]
    },
    {
     "name": "stdout",
     "output_type": "stream",
     "text": [
      "Sent 319.91 Mb/s.\tMean per round: 319.91327917575836 Episode 3/3 finished\n",
      "\n"
     ]
    },
    {
     "name": "stderr",
     "output_type": "stream",
     "text": [
      "COMET INFO: ----------------------------\n",
      "COMET INFO: Comet.ml Experiment Summary:\n",
      "COMET INFO:   Metrics:\n",
      "COMET INFO:             Cumulative reward: 319.91327917575836\n",
      "COMET INFO:                 Per-ep reward: 319.91327917575836\n",
      "COMET INFO:                  Round reward: 3.935231924057007\n",
      "COMET INFO:         sys.gpu.0.free_memory: 9519456256\n",
      "COMET INFO:     sys.gpu.0.gpu_utilization: 5\n",
      "COMET INFO:        sys.gpu.0.total_memory: 11811160064\n",
      "COMET INFO:         sys.gpu.0.used_memory: 2291703808\n",
      "COMET INFO: ----------------------------\n",
      "COMET INFO: Uploading stats to Comet before program termination (may take several seconds)\n",
      "COMET INFO: Still uploading\n"
     ]
    }
   ],
   "source": [
    "experiment = Experiment(api_key=\"OZwyhJHyqzPZgHEpDFL1zxhyI\",\n",
    "                        project_name=\"rl-in-wifi\", workspace=\"wwydmanski\")\n",
    "\n",
    "experiment.log_parameter(\"Episode count\", EPISODE_COUNT)\n",
    "experiment.log_parameter(\"Steps per episode\", steps_per_ep)\n",
    " \n",
    "for i in range(EPISODE_COUNT):\n",
    "    if not SCRIPT_RUNNING:\n",
    "        subprocess.Popen(['bash', '-c', script_exec_command])\n",
    "        SCRIPT_RUNNING = True\n",
    "\n",
    "    cumulative_reward = 0\n",
    "    reward = 0\n",
    "\n",
    "    obs = env.reset()\n",
    "    with tqdm.trange(steps_per_ep) as t:\n",
    "        for step in t:\n",
    "            action = env.action_space.sample()\n",
    "            action = action * 1 + 1\n",
    "            obs, reward, done, info = env.step(action)\n",
    "            cumulative_reward += reward\n",
    "            experiment.log_metric(\"Round reward\", reward, step=i*steps_per_ep+step)\n",
    "            experiment.log_metric(\"Per-ep reward\", cumulative_reward, step=i*steps_per_ep+step)\n",
    "            t.set_postfix(cumul_rew=f\"{cumulative_reward:.2f} Mb/s\")\n",
    "\n",
    "    experiment.log_metric(\"Cumulative reward\", cumulative_reward, step=i)\n",
    "    print(f\"Sent {cumulative_reward:.2f} Mb/s.\\tMean per round: {cumulative_reward} Episode {i+1}/{EPISODE_COUNT} finished\\n\")\n",
    "    SCRIPT_RUNNING = False\n",
    "            \n",
    "experiment.end()"
   ]
  },
  {
   "cell_type": "code",
   "execution_count": null,
   "metadata": {},
   "outputs": [],
   "source": []
  }
 ],
 "metadata": {
  "kernelspec": {
   "display_name": "Python 3",
   "language": "python",
   "name": "python3"
  },
  "language_info": {
   "codemirror_mode": {
    "name": "ipython",
    "version": 3
   },
   "file_extension": ".py",
   "mimetype": "text/x-python",
   "name": "python",
   "nbconvert_exporter": "python",
   "pygments_lexer": "ipython3",
   "version": "3.6.5"
  }
 },
 "nbformat": 4,
 "nbformat_minor": 2
}
