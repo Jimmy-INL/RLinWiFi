{
 "cells": [
  {
   "cell_type": "code",
   "execution_count": 1,
   "metadata": {},
   "outputs": [
    {
     "name": "stderr",
     "output_type": "stream",
     "text": [
      "C:\\ProgramData\\Anaconda3\\lib\\site-packages\\requests\\__init__.py:80: RequestsDependencyWarning: urllib3 (1.24.1) or chardet (3.0.4) doesn't match a supported version!\n",
      "  RequestsDependencyWarning)\n"
     ]
    }
   ],
   "source": [
    "from ns3gym import ns3env\n",
    "import subprocess\n",
    "from collections import deque\n",
    "\n",
    "from agents.teacher import Teacher"
   ]
  },
  {
   "cell_type": "code",
   "execution_count": 2,
   "metadata": {},
   "outputs": [
    {
     "name": "stdout",
     "output_type": "stream",
     "text": [
      "Steps per episode: 100\n"
     ]
    }
   ],
   "source": [
    "simTime = 10 # seconds\n",
    "stepTime = 0.1  # seconds\n",
    "\n",
    "EPISODE_COUNT = 30\n",
    "steps_per_ep = int(simTime/stepTime)\n",
    "\n",
    "SCRIPT_RUNNING = False\n",
    "\n",
    "script_exec_command = f'../../waf --run \"linear-mesh --simTime={simTime} --envStepTime={stepTime}\"'\n",
    "print(\"Steps per episode:\", steps_per_ep)"
   ]
  },
  {
   "cell_type": "code",
   "execution_count": 3,
   "metadata": {},
   "outputs": [
    {
     "name": "stdout",
     "output_type": "stream",
     "text": [
      "Waiting for simulation script to connect on port: tcp://localhost:5555\n",
      "Please start proper ns-3 simulation script using ./waf --run \"...\"\n"
     ]
    }
   ],
   "source": [
    "port = 5555\n",
    "seed = 0\n",
    "\n",
    "simArgs = {\"--simTime\": simTime,\n",
    "           \"--testArg\": 123,\n",
    "           \"--nodeNum\": 5,\n",
    "           \"--distance\": 500}\n",
    "debug = False\n",
    "\n",
    "subprocess.Popen(['bash', '-c', script_exec_command])\n",
    "SCRIPT_RUNNING = True\n",
    "\n",
    "env = ns3env.Ns3Env(port=port, stepTime=stepTime, startSim=0, simSeed=seed, simArgs=simArgs, debug=debug)"
   ]
  },
  {
   "cell_type": "code",
   "execution_count": 4,
   "metadata": {},
   "outputs": [
    {
     "name": "stdout",
     "output_type": "stream",
     "text": [
      "Observation space shape: Box(1,)\n",
      "Action space shape: Box(1,)\n"
     ]
    }
   ],
   "source": [
    "env.reset()\n",
    "ob_space = env.observation_space\n",
    "ac_space = env.action_space\n",
    "\n",
    "print(\"Observation space shape:\", ob_space)\n",
    "print(\"Action space shape:\", ac_space)"
   ]
  },
  {
   "cell_type": "code",
   "execution_count": 5,
   "metadata": {},
   "outputs": [],
   "source": [
    "class Agent:\n",
    "    def __init__(self, action_space):\n",
    "        self.action_space = action_space\n",
    "        self.actor_loss = 0\n",
    "        self.critic_loss = 0\n",
    "        \n",
    "    def act(self, *args):\n",
    "        return [self.action_space.sample()]\n",
    "    \n",
    "    def step(self, *args):\n",
    "        pass\n",
    "    \n",
    "    def reset(self):\n",
    "        pass"
   ]
  },
  {
   "cell_type": "code",
   "execution_count": 6,
   "metadata": {},
   "outputs": [
    {
     "name": "stderr",
     "output_type": "stream",
     "text": [
      "COMET INFO: Experiment is live on comet.ml https://www.comet.ml/wwydmanski/rl-in-wifi/b16196f4f9a045a58bb839906ad1f3cf\n",
      "\n",
      "100%|█████████████████████████████████████████████████████████████| 100/100 [01:15<00:00,  1.33it/s, mb_sent=240.54 Mb]\n"
     ]
    },
    {
     "name": "stdout",
     "output_type": "stream",
     "text": [
      "Sent 240.54 Mb/s.\tMean per round: 2.41 Mb/s\tEpisode 1/15 finished\n",
      "\n",
      "Waiting for simulation script to connect on port: tcp://localhost:5555\n",
      "Please start proper ns-3 simulation script using ./waf --run \"...\"\n"
     ]
    },
    {
     "name": "stderr",
     "output_type": "stream",
     "text": [
      "100%|█████████████████████████████████████████████████████████████| 100/100 [01:22<00:00,  1.20it/s, mb_sent=254.70 Mb]\n"
     ]
    },
    {
     "name": "stdout",
     "output_type": "stream",
     "text": [
      "Sent 254.70 Mb/s.\tMean per round: 2.55 Mb/s\tEpisode 2/15 finished\n",
      "\n",
      "Waiting for simulation script to connect on port: tcp://localhost:5555\n",
      "Please start proper ns-3 simulation script using ./waf --run \"...\"\n"
     ]
    },
    {
     "name": "stderr",
     "output_type": "stream",
     "text": [
      "100%|█████████████████████████████████████████████████████████████| 100/100 [01:11<00:00,  1.40it/s, mb_sent=237.65 Mb]\n"
     ]
    },
    {
     "name": "stdout",
     "output_type": "stream",
     "text": [
      "Sent 237.65 Mb/s.\tMean per round: 2.38 Mb/s\tEpisode 3/15 finished\n",
      "\n",
      "Waiting for simulation script to connect on port: tcp://localhost:5555\n",
      "Please start proper ns-3 simulation script using ./waf --run \"...\"\n"
     ]
    },
    {
     "name": "stderr",
     "output_type": "stream",
     "text": [
      "100%|█████████████████████████████████████████████████████████████| 100/100 [01:12<00:00,  1.38it/s, mb_sent=258.41 Mb]\n"
     ]
    },
    {
     "name": "stdout",
     "output_type": "stream",
     "text": [
      "Sent 258.41 Mb/s.\tMean per round: 2.58 Mb/s\tEpisode 4/15 finished\n",
      "\n",
      "Waiting for simulation script to connect on port: tcp://localhost:5555\n",
      "Please start proper ns-3 simulation script using ./waf --run \"...\"\n"
     ]
    },
    {
     "name": "stderr",
     "output_type": "stream",
     "text": [
      "100%|█████████████████████████████████████████████████████████████| 100/100 [01:11<00:00,  1.41it/s, mb_sent=248.67 Mb]\n"
     ]
    },
    {
     "name": "stdout",
     "output_type": "stream",
     "text": [
      "Sent 248.67 Mb/s.\tMean per round: 2.49 Mb/s\tEpisode 5/15 finished\n",
      "\n",
      "Waiting for simulation script to connect on port: tcp://localhost:5555\n",
      "Please start proper ns-3 simulation script using ./waf --run \"...\"\n"
     ]
    },
    {
     "name": "stderr",
     "output_type": "stream",
     "text": [
      "100%|█████████████████████████████████████████████████████████████| 100/100 [01:13<00:00,  1.36it/s, mb_sent=239.99 Mb]\n"
     ]
    },
    {
     "name": "stdout",
     "output_type": "stream",
     "text": [
      "Sent 239.99 Mb/s.\tMean per round: 2.40 Mb/s\tEpisode 6/15 finished\n",
      "\n",
      "Waiting for simulation script to connect on port: tcp://localhost:5555\n",
      "Please start proper ns-3 simulation script using ./waf --run \"...\"\n"
     ]
    },
    {
     "name": "stderr",
     "output_type": "stream",
     "text": [
      "100%|█████████████████████████████████████████████████████████████| 100/100 [01:15<00:00,  1.33it/s, mb_sent=251.80 Mb]\n"
     ]
    },
    {
     "name": "stdout",
     "output_type": "stream",
     "text": [
      "Sent 251.80 Mb/s.\tMean per round: 2.52 Mb/s\tEpisode 7/15 finished\n",
      "\n",
      "Waiting for simulation script to connect on port: tcp://localhost:5555\n",
      "Please start proper ns-3 simulation script using ./waf --run \"...\"\n"
     ]
    },
    {
     "name": "stderr",
     "output_type": "stream",
     "text": [
      "100%|█████████████████████████████████████████████████████████████| 100/100 [01:12<00:00,  1.39it/s, mb_sent=240.48 Mb]\n"
     ]
    },
    {
     "name": "stdout",
     "output_type": "stream",
     "text": [
      "Sent 240.48 Mb/s.\tMean per round: 2.40 Mb/s\tEpisode 8/15 finished\n",
      "\n",
      "Waiting for simulation script to connect on port: tcp://localhost:5555\n",
      "Please start proper ns-3 simulation script using ./waf --run \"...\"\n"
     ]
    },
    {
     "name": "stderr",
     "output_type": "stream",
     "text": [
      "100%|█████████████████████████████████████████████████████████████| 100/100 [01:13<00:00,  1.35it/s, mb_sent=261.17 Mb]\n"
     ]
    },
    {
     "name": "stdout",
     "output_type": "stream",
     "text": [
      "Sent 261.17 Mb/s.\tMean per round: 2.61 Mb/s\tEpisode 9/15 finished\n",
      "\n",
      "Waiting for simulation script to connect on port: tcp://localhost:5555\n",
      "Please start proper ns-3 simulation script using ./waf --run \"...\"\n"
     ]
    },
    {
     "name": "stderr",
     "output_type": "stream",
     "text": [
      "100%|█████████████████████████████████████████████████████████████| 100/100 [01:11<00:00,  1.39it/s, mb_sent=248.66 Mb]\n"
     ]
    },
    {
     "name": "stdout",
     "output_type": "stream",
     "text": [
      "Sent 248.66 Mb/s.\tMean per round: 2.49 Mb/s\tEpisode 10/15 finished\n",
      "\n",
      "Waiting for simulation script to connect on port: tcp://localhost:5555\n",
      "Please start proper ns-3 simulation script using ./waf --run \"...\"\n"
     ]
    },
    {
     "name": "stderr",
     "output_type": "stream",
     "text": [
      "100%|█████████████████████████████████████████████████████████████| 100/100 [01:14<00:00,  1.35it/s, mb_sent=238.83 Mb]\n"
     ]
    },
    {
     "name": "stdout",
     "output_type": "stream",
     "text": [
      "Sent 238.83 Mb/s.\tMean per round: 2.39 Mb/s\tEpisode 11/15 finished\n",
      "\n",
      "Waiting for simulation script to connect on port: tcp://localhost:5555\n",
      "Please start proper ns-3 simulation script using ./waf --run \"...\"\n"
     ]
    },
    {
     "name": "stderr",
     "output_type": "stream",
     "text": [
      "100%|█████████████████████████████████████████████████████████████| 100/100 [01:13<00:00,  1.36it/s, mb_sent=249.52 Mb]\n"
     ]
    },
    {
     "name": "stdout",
     "output_type": "stream",
     "text": [
      "Sent 249.52 Mb/s.\tMean per round: 2.50 Mb/s\tEpisode 12/15 finished\n",
      "\n",
      "Waiting for simulation script to connect on port: tcp://localhost:5555\n",
      "Please start proper ns-3 simulation script using ./waf --run \"...\"\n"
     ]
    },
    {
     "name": "stderr",
     "output_type": "stream",
     "text": [
      "100%|█████████████████████████████████████████████████████████████| 100/100 [01:13<00:00,  1.35it/s, mb_sent=237.92 Mb]\n"
     ]
    },
    {
     "name": "stdout",
     "output_type": "stream",
     "text": [
      "Sent 237.92 Mb/s.\tMean per round: 2.38 Mb/s\tEpisode 13/15 finished\n",
      "\n",
      "Waiting for simulation script to connect on port: tcp://localhost:5555\n",
      "Please start proper ns-3 simulation script using ./waf --run \"...\"\n"
     ]
    },
    {
     "name": "stderr",
     "output_type": "stream",
     "text": [
      "100%|█████████████████████████████████████████████████████████████| 100/100 [01:14<00:00,  1.34it/s, mb_sent=246.48 Mb]\n"
     ]
    },
    {
     "name": "stdout",
     "output_type": "stream",
     "text": [
      "Sent 246.48 Mb/s.\tMean per round: 2.46 Mb/s\tEpisode 14/15 finished\n",
      "\n",
      "Waiting for simulation script to connect on port: tcp://localhost:5555\n",
      "Please start proper ns-3 simulation script using ./waf --run \"...\"\n"
     ]
    },
    {
     "name": "stderr",
     "output_type": "stream",
     "text": [
      "100%|█████████████████████████████████████████████████████████████| 100/100 [01:12<00:00,  1.38it/s, mb_sent=240.74 Mb]\n"
     ]
    },
    {
     "name": "stdout",
     "output_type": "stream",
     "text": [
      "Sent 240.74 Mb/s.\tMean per round: 2.41 Mb/s\tEpisode 15/15 finished\n",
      "\n"
     ]
    },
    {
     "name": "stderr",
     "output_type": "stream",
     "text": [
      "COMET INFO: ----------------------------\n",
      "COMET INFO: Comet.ml Experiment Summary:\n",
      "COMET INFO:   Metrics:\n",
      "COMET INFO:                     Chosen CW: 4.8480679965803875\n",
      "COMET INFO:             Cumulative reward: 111.73248130083084\n",
      "COMET INFO:                Megabytes sent: 240.74016\n",
      "COMET INFO:                 Per-ep reward: 111.73248130083084\n",
      "COMET INFO:                  Round reward: -17.27519989013672\n",
      "COMET INFO:                         Speed: 24.074016\n",
      "COMET INFO:                    actor_loss: 0\n",
      "COMET INFO:                   critic_loss: 0\n",
      "COMET INFO:         sys.gpu.0.free_memory: 8259334144\n",
      "COMET INFO:     sys.gpu.0.gpu_utilization: 44\n",
      "COMET INFO:        sys.gpu.0.total_memory: 11811160064\n",
      "COMET INFO:         sys.gpu.0.used_memory: 3551825920\n",
      "COMET INFO: ----------------------------\n",
      "COMET INFO: Uploading stats to Comet before program termination (may take several seconds)\n"
     ]
    },
    {
     "name": "stdout",
     "output_type": "stream",
     "text": [
      "Training finished.\n"
     ]
    }
   ],
   "source": [
    "agent = Agent(env.action_space)\n",
    "teacher = Teacher(agent, env, 1)\n",
    "teacher.train(EPISODE_COUNT, simTime, stepTime, \"Random\")"
   ]
  },
  {
   "cell_type": "code",
   "execution_count": null,
   "metadata": {},
   "outputs": [],
   "source": []
  }
 ],
 "metadata": {
  "kernelspec": {
   "display_name": "Python 3",
   "language": "python",
   "name": "python3"
  },
  "language_info": {
   "codemirror_mode": {
    "name": "ipython",
    "version": 3
   },
   "file_extension": ".py",
   "mimetype": "text/x-python",
   "name": "python",
   "nbconvert_exporter": "python",
   "pygments_lexer": "ipython3",
   "version": "3.6.5"
  }
 },
 "nbformat": 4,
 "nbformat_minor": 2
}
